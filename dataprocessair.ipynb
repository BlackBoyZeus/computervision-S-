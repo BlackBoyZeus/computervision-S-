{
  "nbformat": 4,
  "nbformat_minor": 0,
  "metadata": {
    "colab": {
      "provenance": [],
      "gpuType": "T4",
      "include_colab_link": true
    },
    "kernelspec": {
      "name": "python3",
      "display_name": "Python 3"
    },
    "language_info": {
      "name": "python"
    },
    "accelerator": "GPU"
  },
  "cells": [
    {
      "cell_type": "markdown",
      "metadata": {
        "id": "view-in-github",
        "colab_type": "text"
      },
      "source": [
        "<a href=\"https://colab.research.google.com/github/BlackBoyZeus/computervision-S-/blob/main/dataprocessair.ipynb\" target=\"_parent\"><img src=\"https://colab.research.google.com/assets/colab-badge.svg\" alt=\"Open In Colab\"/></a>"
      ]
    },
    {
      "cell_type": "code",
      "execution_count": null,
      "metadata": {
        "id": "m2AxygpIlSRG"
      },
      "outputs": [],
      "source": [
        "import os\n",
        "import numpy as np\n",
        "import cv2\n",
        "from glob import glob\n",
        "from tqdm import tqdm\n",
        "from sklearn.model_selection import train_test_split"
      ]
    },
    {
      "cell_type": "code",
      "source": [
        "from google.colab import drive\n",
        "drive.mount('/content/drive')"
      ],
      "metadata": {
        "colab": {
          "base_uri": "https://localhost:8080/"
        },
        "id": "dZ-ot1Iv1UWf",
        "outputId": "95692326-c6a4-477e-e0e5-871764443967"
      },
      "execution_count": null,
      "outputs": [
        {
          "output_type": "stream",
          "name": "stdout",
          "text": [
            "Mounted at /content/drive\n"
          ]
        }
      ]
    },
    {
      "cell_type": "code",
      "source": [
        "!unzip /content/drive/MyDrive/airplane/air.zip -d /content/drive/MyDrive/unet\n"
      ],
      "metadata": {
        "colab": {
          "base_uri": "https://localhost:8080/"
        },
        "id": "4ohS445allbI",
        "outputId": "930683ff-ad09-4d05-c0f3-ea2152272b9d"
      },
      "execution_count": null,
      "outputs": [
        {
          "output_type": "stream",
          "name": "stdout",
          "text": [
            "Archive:  /content/drive/MyDrive/airplane/air.zip\n",
            "   creating: /content/drive/MyDrive/unet/masks/\n",
            "  inflating: /content/drive/MyDrive/unet/masks/ag_2400_0_jpg.rf.49cce0e04dcb27a93c3f0ba053b607ed.jpg  \n",
            "  inflating: /content/drive/MyDrive/unet/masks/ag_2400_0_jpg.rf.8abb7796498d0450a801f1ad07885c85.jpg  \n",
            "  inflating: /content/drive/MyDrive/unet/masks/ag_2400_0_jpg.rf.f7db6abb783442875cea3219c98e49a2.jpg  \n",
            "  inflating: /content/drive/MyDrive/unet/masks/ag_800_0_jpg.rf.73fe503ca46e9a586396030fdc6b254d.jpg  \n",
            "  inflating: /content/drive/MyDrive/unet/masks/ag_800_0_jpg.rf.bd1fdbc31e0d7beb3fc17effa712a638.jpg  \n",
            "  inflating: /content/drive/MyDrive/unet/masks/ag_800_0_jpg.rf.c6d4dd52e0839841434bb426fda515fc.jpg  \n",
            "  inflating: /content/drive/MyDrive/unet/masks/beni_2400_800_jpg.rf.152e271e0d05ab5dcfb2a338b3478784.jpg  \n",
            "  inflating: /content/drive/MyDrive/unet/masks/beni_2400_800_jpg.rf.ee432b6c1f54a0779851ca0cd2da0969.jpg  \n",
            "  inflating: /content/drive/MyDrive/unet/masks/beni_2400_800_jpg.rf.fdc7e23c5bc776589f2750efc706678d.jpg  \n",
            "  inflating: /content/drive/MyDrive/unet/masks/bens_3200_1600_jpg.rf.36ea4e3b4ffe6d9bb1d9bcd2960acbd1.jpg  \n",
            "  inflating: /content/drive/MyDrive/unet/masks/bens_3200_1600_jpg.rf.62e15b6f7d9962f7dc62c1e374761934.jpg  \n",
            "  inflating: /content/drive/MyDrive/unet/masks/bens_3200_1600_jpg.rf.ee543cb59fd0b4d52d14a09ad124587e.jpg  \n",
            "  inflating: /content/drive/MyDrive/unet/masks/bens_3200_2400_jpg.rf.7ef8a40ab30a88f3333cedd7864532a5.jpg  \n",
            "  inflating: /content/drive/MyDrive/unet/masks/bens_3200_2400_jpg.rf.a9265161a014b14c5c0ede5f47b13b64.jpg  \n",
            "  inflating: /content/drive/MyDrive/unet/masks/bens_3200_2400_jpg.rf.c1d8c75494173bbdb1e1212a3756838a.jpg  \n",
            "  inflating: /content/drive/MyDrive/unet/masks/bens_4000_2400_jpg.rf.5d35f8c7ecf36a3ab71862997f632e50.jpg  \n",
            "  inflating: /content/drive/MyDrive/unet/masks/bens_4000_2400_jpg.rf.8f9e7b22dd0823f06a82836b285d3e73.jpg  \n",
            "  inflating: /content/drive/MyDrive/unet/masks/bens_4000_2400_jpg.rf.cc12c9611fca1fe88ae552d1c4171fdb.jpg  \n",
            "  inflating: /content/drive/MyDrive/unet/masks/bens_4000_3200_jpg.rf.67067917e41160074e34dc7461d73f86.jpg  \n",
            "  inflating: /content/drive/MyDrive/unet/masks/bens_4000_3200_jpg.rf.9dc34ccee7bb0a446b7f1722868aa127.jpg  \n",
            "  inflating: /content/drive/MyDrive/unet/masks/bens_4000_3200_jpg.rf.a00e7edb2c992f01a5999edb1a43a6be.jpg  \n",
            "  inflating: /content/drive/MyDrive/unet/masks/chunk_11200_11200_jpg.rf.2e321cfdab2e78e29307808fc196f2ff.jpg  \n",
            "  inflating: /content/drive/MyDrive/unet/masks/chunk_11200_11200_jpg.rf.8f9d2b84a5a62368b710a890b505cc21.jpg  \n",
            "  inflating: /content/drive/MyDrive/unet/masks/chunk_11200_11200_jpg.rf.e7511f8125059618c834a70fc710f9f8.jpg  \n",
            "  inflating: /content/drive/MyDrive/unet/masks/chunk_1600_4800_jpg.rf.21c142f85cb997f13a4be3416c27f1ca.jpg  \n",
            "  inflating: /content/drive/MyDrive/unet/masks/chunk_1600_4800_jpg.rf.30d4aa0549ed0b7dbab3eeaeeb89e473.jpg  \n",
            "  inflating: /content/drive/MyDrive/unet/masks/chunk_1600_4800_jpg.rf.946cd06d58642964bf67efa8942eb2f0.jpg  \n",
            "  inflating: /content/drive/MyDrive/unet/masks/chunk_2400_3200_jpg.rf.060c8cdc207ae931f27d5cbc9bacd85d.jpg  \n",
            "  inflating: /content/drive/MyDrive/unet/masks/chunk_2400_3200_jpg.rf.b03739e765e70329e43ebf6164ec6e44.jpg  \n",
            "  inflating: /content/drive/MyDrive/unet/masks/chunk_2400_3200_jpg.rf.d5f504dfd69c97cc37fac38067ff2cbb.jpg  \n",
            "  inflating: /content/drive/MyDrive/unet/masks/chunk_4000_1600_jpg.rf.762a19e16631d6ae22e1f84a5ac8cfe0.jpg  \n",
            "  inflating: /content/drive/MyDrive/unet/masks/chunk_4000_1600_jpg.rf.a7147b8daa0648e2aa12401090b7b931.jpg  \n",
            "  inflating: /content/drive/MyDrive/unet/masks/chunk_4000_1600_jpg.rf.d690974b15c712eea83a6b93f49f7e61.jpg  \n",
            "  inflating: /content/drive/MyDrive/unet/masks/chunk_4000_2400_jpg.rf.7d78792e1f3d1938d7d85fdae33b5a63.jpg  \n",
            "  inflating: /content/drive/MyDrive/unet/masks/chunk_4000_2400_jpg.rf.f2da72e71fd26870cfb8fa23624a852f.jpg  \n",
            "  inflating: /content/drive/MyDrive/unet/masks/chunk_4000_2400_jpg.rf.fe6477b0dd6019c27b1f47bcb06e4fe9.jpg  \n",
            "  inflating: /content/drive/MyDrive/unet/masks/chunk_4000_800_jpg.rf.9e9649315455aff0b96c1ff98d6ec845.jpg  \n",
            "  inflating: /content/drive/MyDrive/unet/masks/chunk_4000_800_jpg.rf.df5fdd58ab54ec71e3ed724dab0726dd.jpg  \n",
            "  inflating: /content/drive/MyDrive/unet/masks/chunk_4000_800_jpg.rf.e19a0f23d1f693f582e4813a2bdcfbd6.jpg  \n",
            "  inflating: /content/drive/MyDrive/unet/masks/chunk_4800_4800_jpg.rf.49af09b2a353a9633e14e275080ae658.jpg  \n",
            "  inflating: /content/drive/MyDrive/unet/masks/chunk_4800_4800_jpg.rf.66a7ec789f1c429b864561da1d303686.jpg  \n",
            "  inflating: /content/drive/MyDrive/unet/masks/chunk_4800_4800_jpg.rf.8f5a035166ceb9065fafb83fd6cc61c2.jpg  \n",
            "  inflating: /content/drive/MyDrive/unet/masks/chunk_5600_5600_jpg.rf.3abf90b2f457138095046dfbdac32dc7.jpg  \n",
            "  inflating: /content/drive/MyDrive/unet/masks/chunk_5600_5600_jpg.rf.8e84555a08ab9c7c1ba00fe13f7fe611.jpg  \n",
            "  inflating: /content/drive/MyDrive/unet/masks/chunk_5600_5600_jpg.rf.ab6853d8de13e5aa40998c9cf7a93929.jpg  \n",
            "  inflating: /content/drive/MyDrive/unet/masks/chunk_5600_6400_jpg.rf.2e1e02b4e2c9660c10b2b29b7c38c274.jpg  \n",
            "  inflating: /content/drive/MyDrive/unet/masks/chunk_5600_6400_jpg.rf.c23a2dac84e0389a892eebe59e828a0d.jpg  \n",
            "  inflating: /content/drive/MyDrive/unet/masks/chunk_5600_6400_jpg.rf.db048da71c3bf4107ba6f2e8d5d5d80d.jpg  \n",
            "  inflating: /content/drive/MyDrive/unet/masks/chunk_5600_8800_jpg.rf.678b0ccffe1fa0d99b908f27448ba5ca.jpg  \n",
            "  inflating: /content/drive/MyDrive/unet/masks/chunk_5600_8800_jpg.rf.b58cc967b444297529f3104f60e6db1e.jpg  \n",
            "  inflating: /content/drive/MyDrive/unet/masks/chunk_5600_8800_jpg.rf.b6cc2f25a3cc6dd44470bf9a30ea3fa5.jpg  \n",
            "  inflating: /content/drive/MyDrive/unet/masks/chunk_6400_8000_jpg.rf.3cf3b41a63d9592511d2c27cfeb3bd26.jpg  \n",
            "  inflating: /content/drive/MyDrive/unet/masks/chunk_6400_8000_jpg.rf.8dea670ed419817ae54bd931260df134.jpg  \n",
            "  inflating: /content/drive/MyDrive/unet/masks/chunk_6400_8000_jpg.rf.b9d3d815148a8d8b67d13e6aef389bdb.jpg  \n",
            "  inflating: /content/drive/MyDrive/unet/masks/chunk_6400_800_jpg.rf.030b0c5c6bf359103bd7a8d3a840d71b.jpg  \n",
            "  inflating: /content/drive/MyDrive/unet/masks/chunk_6400_800_jpg.rf.652485e9559b2c4006425046e97bf509.jpg  \n",
            "  inflating: /content/drive/MyDrive/unet/masks/chunk_6400_800_jpg.rf.bc12a7e42935f9ae9969d35a8627d168.jpg  \n",
            "  inflating: /content/drive/MyDrive/unet/masks/chunk_7200_7200_jpg.rf.6b76c3de46b5b0433652a78a825ca669.jpg  \n",
            "  inflating: /content/drive/MyDrive/unet/masks/chunk_7200_7200_jpg.rf.9b669fe7e90c63da2413a8d58299385e.jpg  \n",
            "  inflating: /content/drive/MyDrive/unet/masks/chunk_7200_7200_jpg.rf.f1438ac624891e0e8bf451a0194cb044.jpg  \n",
            "  inflating: /content/drive/MyDrive/unet/masks/chunk_7200_8000_jpg.rf.1173e85db56ae2edaa9ad9937c2c65b3.jpg  \n",
            "  inflating: /content/drive/MyDrive/unet/masks/chunk_7200_8000_jpg.rf.158387d49b8835eaeba28ad5d06a09bc.jpg  \n",
            "  inflating: /content/drive/MyDrive/unet/masks/chunk_7200_8000_jpg.rf.73a7de558b703f2146a514db551f38f4.jpg  \n",
            "  inflating: /content/drive/MyDrive/unet/masks/chunk_8000_800_jpg.rf.36578582cc54d354d920d13cf812f76b.jpg  \n",
            "  inflating: /content/drive/MyDrive/unet/masks/chunk_8000_800_jpg.rf.a0d8cf2c4795d8dbf584a73016b98c2a.jpg  \n",
            "  inflating: /content/drive/MyDrive/unet/masks/chunk_8000_800_jpg.rf.f8b6c6bca1c9f0796e79f7ba49888c69.jpg  \n",
            "  inflating: /content/drive/MyDrive/unet/masks/dakh_1600_800_jpg.rf.45a48c287a84b46c336a22ca11e75d5c.jpg  \n",
            "  inflating: /content/drive/MyDrive/unet/masks/dakh_1600_800_jpg.rf.8ab33d2351511cde5a0f11b4a7d655f8.jpg  \n",
            "  inflating: /content/drive/MyDrive/unet/masks/dakh_1600_800_jpg.rf.a79e1f28e2ee6aa2dc08f57d6e1f92ad.jpg  \n",
            "  inflating: /content/drive/MyDrive/unet/masks/err_800_0_jpg.rf.01a39e6cfbd027a10afb458e48b05d59.jpg  \n",
            "  inflating: /content/drive/MyDrive/unet/masks/err_800_0_jpg.rf.4a96066f223beb8b7c716b2d20cae5b6.jpg  \n",
            "  inflating: /content/drive/MyDrive/unet/masks/err_800_0_jpg.rf.b365e3f38761c511d5a9138cfed5487e.jpg  \n",
            "  inflating: /content/drive/MyDrive/unet/masks/ess_800_0_jpg.rf.5761da1fe00d8e4424080a15b53f5b1a.jpg  \n",
            "  inflating: /content/drive/MyDrive/unet/masks/ess_800_0_jpg.rf.9a5b34dfdf79094de41fb20b8030baa3.jpg  \n",
            "  inflating: /content/drive/MyDrive/unet/masks/ess_800_0_jpg.rf.c538d75acbfc387c0e4a00fe176d736f.jpg  \n",
            "  inflating: /content/drive/MyDrive/unet/masks/fes_4800_800_jpg.rf.113d93fa127651bb6f333cea26196708.jpg  \n",
            "  inflating: /content/drive/MyDrive/unet/masks/fes_4800_800_jpg.rf.19fb744b11e3d6afaad63db4d274f3ca.jpg  \n",
            "  inflating: /content/drive/MyDrive/unet/masks/fes_4800_800_jpg.rf.21d09c40dbd9239358942e02d5b54b26.jpg  \n",
            "  inflating: /content/drive/MyDrive/unet/masks/fes_6400_800_jpg.rf.42dbec10fca4ddfa144eb1ea885b4c4c.jpg  \n",
            "  inflating: /content/drive/MyDrive/unet/masks/fes_6400_800_jpg.rf.5925c6e3710ab3896b94ef01c0062866.jpg  \n",
            "  inflating: /content/drive/MyDrive/unet/masks/fes_6400_800_jpg.rf.6faba4f5c31f03bedcb4f5ce86eac6f5.jpg  \n",
            "  inflating: /content/drive/MyDrive/unet/masks/fes_7200_800_jpg.rf.6053daf9a8f0b9c2f1918e5c3729631e.jpg  \n",
            "  inflating: /content/drive/MyDrive/unet/masks/fes_7200_800_jpg.rf.a6f1d8a5dd7c643e8264adc18bd85051.jpg  \n",
            "  inflating: /content/drive/MyDrive/unet/masks/fes_7200_800_jpg.rf.e464342462c73338203e28b49a66093f.jpg  \n",
            "  inflating: /content/drive/MyDrive/unet/masks/kech_16800_24000_jpg.rf.24bfc2f815819b4a9b3ddfd2c3916288.jpg  \n",
            "  inflating: /content/drive/MyDrive/unet/masks/kech_16800_24000_jpg.rf.2d43b7d22f5f09e1f9f7a9c1ef34a8f0.jpg  \n",
            "  inflating: /content/drive/MyDrive/unet/masks/kech_16800_24000_jpg.rf.5e36a294428f3d4d5cf45f8bc7237c54.jpg  \n",
            "  inflating: /content/drive/MyDrive/unet/masks/kech_18400_24000_jpg.rf.229a87110ff1832656d9c242f2df5acd.jpg  \n",
            "  inflating: /content/drive/MyDrive/unet/masks/kech_18400_24000_jpg.rf.2607adeec4fb4f296ba7e020d6424a20.jpg  \n",
            "  inflating: /content/drive/MyDrive/unet/masks/kech_18400_24000_jpg.rf.29351ad01974589061d79b17dd7b88ed.jpg  \n",
            "  inflating: /content/drive/MyDrive/unet/masks/kech_20800_23200_jpg.rf.abb2bfc8ed2c1fb1f8c595a7aef524dd.jpg  \n",
            "  inflating: /content/drive/MyDrive/unet/masks/kech_20800_23200_jpg.rf.ce3b2fe5881f474cb053cb07ff19ba5a.jpg  \n",
            "  inflating: /content/drive/MyDrive/unet/masks/kech_20800_23200_jpg.rf.e4441fae1c201570e3de4dabdd8be4a3.jpg  \n",
            "  inflating: /content/drive/MyDrive/unet/masks/kech_20800_24000_jpg.rf.04d2eb130277ed52830bf15930811ff3.jpg  \n",
            "  inflating: /content/drive/MyDrive/unet/masks/kech_20800_24000_jpg.rf.c862bc800fe1971bfd618f7da27bf274.jpg  \n",
            "  inflating: /content/drive/MyDrive/unet/masks/kech_20800_24000_jpg.rf.c956e0d48e91802f61c60a381d7aaaa7.jpg  \n",
            "  inflating: /content/drive/MyDrive/unet/masks/kech_27200_4000_jpg.rf.0653d13bfa1d489be760275672646ff9.jpg  \n",
            "  inflating: /content/drive/MyDrive/unet/masks/kech_27200_4000_jpg.rf.5328a7b3a419d704a0042f6f2e651c33.jpg  \n",
            "  inflating: /content/drive/MyDrive/unet/masks/kech_27200_4000_jpg.rf.9261a2897871370e3251b84e1ce1740f.jpg  \n",
            "  inflating: /content/drive/MyDrive/unet/masks/kech_28000_2400_jpg.rf.1b0d29f2e0e6a1cd9f5f5ce9eb55cdc9.jpg  \n",
            "  inflating: /content/drive/MyDrive/unet/masks/kech_28000_2400_jpg.rf.6907d4a9de192c0977762ffa1ae78a2f.jpg  \n",
            "  inflating: /content/drive/MyDrive/unet/masks/kech_28000_2400_jpg.rf.729639489308348b6075f2e622e1413e.jpg  \n",
            "  inflating: /content/drive/MyDrive/unet/masks/kech_28000_4000_jpg.rf.191ac57bfce0d0a4cc7fab1eb89276be.jpg  \n",
            "  inflating: /content/drive/MyDrive/unet/masks/kech_28000_4000_jpg.rf.1ec038dcafd266fcf805ae38251ad40f.jpg  \n",
            "  inflating: /content/drive/MyDrive/unet/masks/kech_28000_4000_jpg.rf.d313849d943a10f7d2e86bcf874f601a.jpg  \n",
            "  inflating: /content/drive/MyDrive/unet/masks/kech_29600_4000_jpg.rf.50c7b8a9a6cf618278ed09000c25918d.jpg  \n",
            "  inflating: /content/drive/MyDrive/unet/masks/kech_29600_4000_jpg.rf.b390d323c126fa9275c496ead9109c7c.jpg  \n",
            "  inflating: /content/drive/MyDrive/unet/masks/kech_29600_4000_jpg.rf.d6c42b303b5ec071f7bd5f6de5f76953.jpg  \n",
            "  inflating: /content/drive/MyDrive/unet/masks/kech_32000_4000_jpg.rf.0cdcbe45fa2705e9c012629d646e5c67.jpg  \n",
            "  inflating: /content/drive/MyDrive/unet/masks/kech_32000_4000_jpg.rf.178b8c78db2c6e2d6603b9a4802a31a5.jpg  \n",
            "  inflating: /content/drive/MyDrive/unet/masks/kech_32000_4000_jpg.rf.ede851da71f462a7014cfdec59e3e7e6.jpg  \n",
            "  inflating: /content/drive/MyDrive/unet/masks/kech_34400_4800_jpg.rf.04a30c2a8b841bef3190c9c5f1840dd9.jpg  \n",
            "  inflating: /content/drive/MyDrive/unet/masks/kech_34400_4800_jpg.rf.a7d3452f832fdb15039510970fc5f880.jpg  \n",
            "  inflating: /content/drive/MyDrive/unet/masks/kech_34400_4800_jpg.rf.d3ed694bdd95c7dc8938c835c7ab8025.jpg  \n",
            "  inflating: /content/drive/MyDrive/unet/masks/kech_37600_0_jpg.rf.88fda8694cc6dc6467b51d1a45120b28.jpg  \n",
            "  inflating: /content/drive/MyDrive/unet/masks/kech_37600_0_jpg.rf.bff84fc5fdaf0cc38b3660ba7884edb5.jpg  \n",
            "  inflating: /content/drive/MyDrive/unet/masks/kech_37600_0_jpg.rf.c5152977b22681424ae43a31e14fc9a8.jpg  \n",
            "  inflating: /content/drive/MyDrive/unet/masks/kech_37600_8800_jpg.rf.052ee29bbcf116b86123fbb70ce207a1.jpg  \n",
            "  inflating: /content/drive/MyDrive/unet/masks/kech_37600_8800_jpg.rf.7eb81353e4a906a76db305ba133cbaa2.jpg  \n",
            "  inflating: /content/drive/MyDrive/unet/masks/kech_37600_8800_jpg.rf.edf004622d5aafff3c30fd2e6fcb8c93.jpg  \n",
            "  inflating: /content/drive/MyDrive/unet/masks/kech_37600_9600_jpg.rf.004bd71949895d9a09279483a183842e.jpg  \n",
            "  inflating: /content/drive/MyDrive/unet/masks/kech_37600_9600_jpg.rf.6296a34a7ea232ed06bbb94b06e8a07d.jpg  \n",
            "  inflating: /content/drive/MyDrive/unet/masks/kech_37600_9600_jpg.rf.ed78d39076b9faf603fdb130e8446ea8.jpg  \n",
            "  inflating: /content/drive/MyDrive/unet/masks/kech_38400_800_jpg.rf.1d0330ce70c5fe276901ed7038a4efc7.jpg  \n",
            "  inflating: /content/drive/MyDrive/unet/masks/kech_38400_800_jpg.rf.5a152c190d1df35a8db13fbe3c6fa4d3.jpg  \n",
            "  inflating: /content/drive/MyDrive/unet/masks/kech_38400_800_jpg.rf.c3035f614870db531183d3c5ba22ddcc.jpg  \n",
            "  inflating: /content/drive/MyDrive/unet/masks/kech_38400_9600_jpg.rf.5361fe85628cac1c0ae0624f93a8d56c.jpg  \n",
            "  inflating: /content/drive/MyDrive/unet/masks/kech_38400_9600_jpg.rf.5961ffce76ae92b85d0a365ad8a28f5a.jpg  \n",
            "  inflating: /content/drive/MyDrive/unet/masks/kech_38400_9600_jpg.rf.ee3f18ff02d5908e296ad5fa9482ed64.jpg  \n",
            "  inflating: /content/drive/MyDrive/unet/masks/kech_39200_10400_jpg.rf.01f00fc6fd138097bb3048ea7d32f6e3.jpg  \n",
            "  inflating: /content/drive/MyDrive/unet/masks/kech_39200_10400_jpg.rf.1461a04cdd507ef9e8969afd031330bd.jpg  \n",
            "  inflating: /content/drive/MyDrive/unet/masks/kech_39200_10400_jpg.rf.3773eb58181dd147926abc3078254361.jpg  \n",
            "  inflating: /content/drive/MyDrive/unet/masks/kech_39200_9600_jpg.rf.3e3cab8852d68c095c611cfb3745e1a3.jpg  \n",
            "  inflating: /content/drive/MyDrive/unet/masks/kech_39200_9600_jpg.rf.44c44a2bfb9c037cbed0035aec6cdc0e.jpg  \n",
            "  inflating: /content/drive/MyDrive/unet/masks/kech_39200_9600_jpg.rf.fb0bf6ec77766cac720dc7b866391cc4.jpg  \n",
            "  inflating: /content/drive/MyDrive/unet/masks/kech_41600_7200_jpg.rf.504752ceb339e3040ea6bd94cc1e6111.jpg  \n",
            "  inflating: /content/drive/MyDrive/unet/masks/kech_41600_7200_jpg.rf.88f1ff919d42e7b40c4349c06fafc0d4.jpg  \n",
            "  inflating: /content/drive/MyDrive/unet/masks/kech_41600_7200_jpg.rf.a11ee656ed37bdbe84ac13f86c633c82.jpg  \n",
            "  inflating: /content/drive/MyDrive/unet/masks/kech_46400_20000_jpg.rf.3326620dd66107cf490a5415feb14afc.jpg  \n",
            "  inflating: /content/drive/MyDrive/unet/masks/kech_46400_20000_jpg.rf.d9167f95974dd817bae26e117a046084.jpg  \n",
            "  inflating: /content/drive/MyDrive/unet/masks/kech_46400_20000_jpg.rf.eb085bad2506998e5261851a77dc45bb.jpg  \n",
            "  inflating: /content/drive/MyDrive/unet/masks/kech_48000_24000_jpg.rf.25f5a4e98bf6fbcaa707c304e56c97be.jpg  \n",
            "  inflating: /content/drive/MyDrive/unet/masks/kech_48000_24000_jpg.rf.3b0d60f69fe0c7d60744bfcc3366de2f.jpg  \n",
            "  inflating: /content/drive/MyDrive/unet/masks/kech_48000_24000_jpg.rf.9e464c8f78593aeb84b97666dd975d50.jpg  \n",
            "  inflating: /content/drive/MyDrive/unet/masks/kech_48800_24000_jpg.rf.5fc4e015f022ee7c5800971a62e1b1dc.jpg  \n",
            "  inflating: /content/drive/MyDrive/unet/masks/kech_48800_24000_jpg.rf.d308893264a57519ca13915aa603a064.jpg  \n",
            "  inflating: /content/drive/MyDrive/unet/masks/kech_48800_24000_jpg.rf.d8daa73d1573a6998ce7e5fc20cf4733.jpg  \n",
            "  inflating: /content/drive/MyDrive/unet/masks/kech_49600_24000_jpg.rf.419eb9a9ffb66e37e2ee5b95619441ad.jpg  \n",
            "  inflating: /content/drive/MyDrive/unet/masks/kech_49600_24000_jpg.rf.ca6d1f5301f95296f4c9e4c59a4bc2dd.jpg  \n",
            "  inflating: /content/drive/MyDrive/unet/masks/kech_49600_24000_jpg.rf.f4bd5aeca551b4442b8c335dcc0c6e0f.jpg  \n",
            "  inflating: /content/drive/MyDrive/unet/masks/kech_49600_24800_jpg.rf.90e2b4843151972e089bc06718c3ef0c.jpg  \n",
            "  inflating: /content/drive/MyDrive/unet/masks/kech_49600_24800_jpg.rf.9bb85324964e7169f3d32496d862a519.jpg  \n",
            "  inflating: /content/drive/MyDrive/unet/masks/kech_49600_24800_jpg.rf.e639d985c49d93b293239cd16929bd41.jpg  \n",
            "  inflating: /content/drive/MyDrive/unet/masks/kech_50400_15200_jpg.rf.6d1916370dd0c96662cb3c2394c3f22e.jpg  \n",
            "  inflating: /content/drive/MyDrive/unet/masks/kech_50400_15200_jpg.rf.6e62d62308f926b906837838282931f0.jpg  \n",
            "  inflating: /content/drive/MyDrive/unet/masks/kech_50400_15200_jpg.rf.7d6dab0fa0195ae1fea3f3304fd3f3ba.jpg  \n",
            "  inflating: /content/drive/MyDrive/unet/masks/kech_50400_16000_jpg.rf.3abe0870c56d6d23fc790580cf436d7e.jpg  \n",
            "  inflating: /content/drive/MyDrive/unet/masks/kech_50400_16000_jpg.rf.a1eb007f2b6493711e78c8af095396c6.jpg  \n",
            "  inflating: /content/drive/MyDrive/unet/masks/kech_50400_16000_jpg.rf.c6d50351e9bacc29b3689bd77032606f.jpg  \n",
            "  inflating: /content/drive/MyDrive/unet/masks/kech_50400_16800_jpg.rf.24b541c435b463a4002e33811b057ab4.jpg  \n",
            "  inflating: /content/drive/MyDrive/unet/masks/kech_50400_16800_jpg.rf.8a9ecc6b0e373fa78e670bde98776ff7.jpg  \n",
            "  inflating: /content/drive/MyDrive/unet/masks/kech_50400_16800_jpg.rf.bd77165e8a2c94cbd3377147948cd1ec.jpg  \n",
            "  inflating: /content/drive/MyDrive/unet/masks/kech_50400_24000_jpg.rf.496c5e60bc4462f2c6c872fc1846fa44.jpg  \n",
            "  inflating: /content/drive/MyDrive/unet/masks/kech_50400_24000_jpg.rf.973b061e3f38d0f3b5cfc9671f807047.jpg  \n",
            "  inflating: /content/drive/MyDrive/unet/masks/kech_50400_24000_jpg.rf.b234abb19b4423be3a9dcb34c3838ceb.jpg  \n",
            "  inflating: /content/drive/MyDrive/unet/masks/kech_50400_24800_jpg.rf.427235c37bf65d84f92eaeed2c3890f6.jpg  \n",
            "  inflating: /content/drive/MyDrive/unet/masks/kech_50400_24800_jpg.rf.63b9543e66ecfb65254714e5e393c2cc.jpg  \n",
            "  inflating: /content/drive/MyDrive/unet/masks/kech_50400_24800_jpg.rf.cfc688809b8699c76905a1d6791de202.jpg  \n",
            "  inflating: /content/drive/MyDrive/unet/masks/kech_51200_26400_jpg.rf.41fe083e7a6bf608e43de510513b0e5e.jpg  \n",
            "  inflating: /content/drive/MyDrive/unet/masks/kech_51200_26400_jpg.rf.6c41cddefeb99fd32a8da4304d2538fb.jpg  \n",
            "  inflating: /content/drive/MyDrive/unet/masks/kech_51200_26400_jpg.rf.abc0b97775a64762b01afb968367eb32.jpg  \n",
            "  inflating: /content/drive/MyDrive/unet/masks/kech_51200_27200_jpg.rf.4646ac86a85eb48dbd0c90dfaea1d02e.jpg  \n",
            "  inflating: /content/drive/MyDrive/unet/masks/kech_51200_27200_jpg.rf.468e4cadac90174a4bb914ef90b10248.jpg  \n",
            "  inflating: /content/drive/MyDrive/unet/masks/kech_51200_27200_jpg.rf.c4af0e7db53169a107b6bd9a96b83a9f.jpg  \n",
            "  inflating: /content/drive/MyDrive/unet/masks/kech_52800_28800_jpg.rf.2d3ba629982c1dd4eaf01507f87819a6.jpg  \n",
            "  inflating: /content/drive/MyDrive/unet/masks/kech_52800_28800_jpg.rf.90418f6de86f600cc682c2b06ec08934.jpg  \n",
            "  inflating: /content/drive/MyDrive/unet/masks/kech_52800_28800_jpg.rf.ece396b3c645c30791ffadbe6ca56e2b.jpg  \n",
            "  inflating: /content/drive/MyDrive/unet/masks/kech_53600_26400_jpg.rf.44c40a1d7932ebb9a548f72856987bb1.jpg  \n",
            "  inflating: /content/drive/MyDrive/unet/masks/kech_53600_26400_jpg.rf.542207793b86b88ecd1b6a5bda9c05a4.jpg  \n",
            "  inflating: /content/drive/MyDrive/unet/masks/kech_53600_26400_jpg.rf.d8c3c9b3b9c7a8ad11ecb1b8e3c8253f.jpg  \n",
            "  inflating: /content/drive/MyDrive/unet/masks/kech_53600_27200_jpg.rf.9886f7a4f4ee3c67d5a21bb293e2dea4.jpg  \n",
            "  inflating: /content/drive/MyDrive/unet/masks/kech_53600_27200_jpg.rf.a4536f493a7c2c1093e3aa476342d787.jpg  \n",
            "  inflating: /content/drive/MyDrive/unet/masks/kech_53600_27200_jpg.rf.fc12048e7af6bf34489718f8f12b9f70.jpg  \n",
            "  inflating: /content/drive/MyDrive/unet/masks/kech_53600_28000_jpg.rf.b5a159e55a3c20f40034fd7acca040ae.jpg  \n",
            "  inflating: /content/drive/MyDrive/unet/masks/kech_53600_28000_jpg.rf.eb832ec4dcc04f12f0544978744a9116.jpg  \n",
            "  inflating: /content/drive/MyDrive/unet/masks/kech_53600_28000_jpg.rf.ff90922e72390bdb730dec2c0c377ccc.jpg  \n",
            "  inflating: /content/drive/MyDrive/unet/masks/kech_53600_28800_jpg.rf.07d9b189619bd4ac25183dc511c80006.jpg  \n",
            "  inflating: /content/drive/MyDrive/unet/masks/kech_53600_28800_jpg.rf.53cfbcf9e450d13c46ec6ea70c411209.jpg  \n",
            "  inflating: /content/drive/MyDrive/unet/masks/kech_53600_28800_jpg.rf.ba29bc1b1a97e3f3abbcb8bb0afb3a66.jpg  \n",
            "  inflating: /content/drive/MyDrive/unet/masks/kech_53600_30400_jpg.rf.191c2a8c9e68ee3bfd379c80d79f039d.jpg  \n",
            "  inflating: /content/drive/MyDrive/unet/masks/kech_53600_30400_jpg.rf.e90254555ee0a37bb0da1ba5964636bf.jpg  \n",
            "  inflating: /content/drive/MyDrive/unet/masks/kech_53600_30400_jpg.rf.e9f7f9501fb165d3fbafef782953aebe.jpg  \n",
            "  inflating: /content/drive/MyDrive/unet/masks/kech_54400_26400_jpg.rf.176052153a262f9d9a3f39a09961b190.jpg  \n",
            "  inflating: /content/drive/MyDrive/unet/masks/kech_54400_26400_jpg.rf.b9c90f11b3a1d16e6c78c0e935778f6a.jpg  \n",
            "  inflating: /content/drive/MyDrive/unet/masks/kech_54400_26400_jpg.rf.eb605afd6c7530c11691ab8560c896d8.jpg  \n",
            "  inflating: /content/drive/MyDrive/unet/masks/kech_56800_24800_jpg.rf.013128bcfe3c4135300e8e05ff75ddd7.jpg  \n",
            "  inflating: /content/drive/MyDrive/unet/masks/kech_56800_24800_jpg.rf.805f0f4a2f3173de964b3a7d080b8ecc.jpg  \n",
            "  inflating: /content/drive/MyDrive/unet/masks/kech_56800_24800_jpg.rf.94c02024858b87e6f1ee8b02a0245989.jpg  \n",
            "  inflating: /content/drive/MyDrive/unet/masks/kech_56800_25600_jpg.rf.5fd6488f823b9abb4055d9b9d85f3849.jpg  \n",
            "  inflating: /content/drive/MyDrive/unet/masks/kech_56800_25600_jpg.rf.9c876589fe6067896d12efe8a81bbfce.jpg  \n",
            "  inflating: /content/drive/MyDrive/unet/masks/kech_56800_25600_jpg.rf.d9e49889c84566ff9f34859b5ee1a0d3.jpg  \n",
            "  inflating: /content/drive/MyDrive/unet/masks/kech_58400_24800_jpg.rf.32f176fb7eca01c4f0c4e6e388684997.jpg  \n",
            "  inflating: /content/drive/MyDrive/unet/masks/kech_58400_24800_jpg.rf.b6002464be882dbb31b8524d9e35fb0a.jpg  \n",
            "  inflating: /content/drive/MyDrive/unet/masks/kech_58400_24800_jpg.rf.e32e33840b7478a82ab59bd770ced6cc.jpg  \n",
            "  inflating: /content/drive/MyDrive/unet/masks/kech_58400_25600_jpg.rf.24455f6be1f9d46a9e3f0083e986358d.jpg  \n",
            "  inflating: /content/drive/MyDrive/unet/masks/kech_58400_25600_jpg.rf.e326c79ebc3478d17fa94d2a8517d1c8.jpg  \n",
            "  inflating: /content/drive/MyDrive/unet/masks/kech_58400_25600_jpg.rf.ec3263b81661bda5e389e0c61df32c55.jpg  \n",
            "  inflating: /content/drive/MyDrive/unet/masks/kech_58400_26400_jpg.rf.91d56a3effd87aaeba58de7be1567073.jpg  \n",
            "  inflating: /content/drive/MyDrive/unet/masks/kech_58400_26400_jpg.rf.a942cf3bceb612e561145779ce579639.jpg  \n",
            "  inflating: /content/drive/MyDrive/unet/masks/kech_58400_26400_jpg.rf.d23b5819c2ef3292c7add0a6898a3ad1.jpg  \n",
            "  inflating: /content/drive/MyDrive/unet/masks/kech_59200_24800_jpg.rf.3124547c66bfcad66e1bcc6abb1aa5b8.jpg  \n",
            "  inflating: /content/drive/MyDrive/unet/masks/kech_59200_24800_jpg.rf.8f971c4426e4452c606d67b881d00fa0.jpg  \n",
            "  inflating: /content/drive/MyDrive/unet/masks/kech_59200_24800_jpg.rf.d138ad5f1690e156048b32c3c18f5e49.jpg  \n",
            "  inflating: /content/drive/MyDrive/unet/masks/kech_59200_25600_jpg.rf.2f81943873e795fd70c6f031fe4268a2.jpg  \n",
            "  inflating: /content/drive/MyDrive/unet/masks/kech_59200_25600_jpg.rf.52a8e76a8d8137163b6340f67e0f13b7.jpg  \n",
            "  inflating: /content/drive/MyDrive/unet/masks/kech_59200_25600_jpg.rf.8d0e6d8796876a8b38bdcb5773387200.jpg  \n",
            "  inflating: /content/drive/MyDrive/unet/masks/kech_59200_26400_jpg.rf.3e6f9af27d83ecb3551aca1728a5cb69.jpg  \n",
            "  inflating: /content/drive/MyDrive/unet/masks/kech_59200_26400_jpg.rf.6bf7f5e2d7bc7f0c9e7156cfd8640a43.jpg  \n",
            "  inflating: /content/drive/MyDrive/unet/masks/kech_59200_26400_jpg.rf.d7253464bf7a0dc0df7a0bbb7a4441e8.jpg  \n",
            "  inflating: /content/drive/MyDrive/unet/masks/ken_4000_3200_jpg.rf.0af7b366a0b418c8976f344a3c74ebba.jpg  \n",
            "  inflating: /content/drive/MyDrive/unet/masks/ken_4000_3200_jpg.rf.9f0b42567d70d2287971b7217c53d6b3.jpg  \n",
            "  inflating: /content/drive/MyDrive/unet/masks/ken_4000_3200_jpg.rf.fec7e05e3f308c65d302e061301c6be4.jpg  \n",
            "  inflating: /content/drive/MyDrive/unet/masks/ken_4000_4000_jpg.rf.418a1ba85fd8c2a3a5d923aaf818cde7.jpg  \n",
            "  inflating: /content/drive/MyDrive/unet/masks/ken_4000_4000_jpg.rf.4873805c0748ba4fff0ea231011edc91.jpg  \n",
            "  inflating: /content/drive/MyDrive/unet/masks/ken_4000_4000_jpg.rf.6af6b94ca2f9782a7034f86e1f2ce19b.jpg  \n",
            "  inflating: /content/drive/MyDrive/unet/masks/ken_4800_3200_jpg.rf.5b86fd68dde56b59705a4a0e5204f626.jpg  \n",
            "  inflating: /content/drive/MyDrive/unet/masks/ken_4800_3200_jpg.rf.5ec5e866c17de6222d9ecfd83f0d7a80.jpg  \n",
            "  inflating: /content/drive/MyDrive/unet/masks/ken_4800_3200_jpg.rf.dc9323911c11f24dcd8c6645676359f2.jpg  \n",
            "  inflating: /content/drive/MyDrive/unet/masks/ken_5600_3200_jpg.rf.46c057d351c3e330440231f42981ba4d.jpg  \n",
            "  inflating: /content/drive/MyDrive/unet/masks/ken_5600_3200_jpg.rf.572f3f153d3a22350998b9e262de5a97.jpg  \n",
            "  inflating: /content/drive/MyDrive/unet/masks/ken_5600_3200_jpg.rf.ae1e8b6ff69658ad24534773359d7204.jpg  \n",
            "  inflating: /content/drive/MyDrive/unet/masks/ken_5600_4000_jpg.rf.0e006ad99fab82ee913ddaf4fb171506.jpg  \n",
            "  inflating: /content/drive/MyDrive/unet/masks/ken_5600_4000_jpg.rf.3b85a01e10f28d1f42ab4425aeec7266.jpg  \n",
            "  inflating: /content/drive/MyDrive/unet/masks/ken_5600_4000_jpg.rf.6fec6dc6736946503b6c0e0f761b2a92.jpg  \n",
            "  inflating: /content/drive/MyDrive/unet/masks/ken_5600_4800_jpg.rf.50c18860bc08884840ee4c79bd9ba79b.jpg  \n",
            "  inflating: /content/drive/MyDrive/unet/masks/ken_5600_4800_jpg.rf.b0a73d4f28e19b6922a6860df5d4596d.jpg  \n",
            "  inflating: /content/drive/MyDrive/unet/masks/ken_5600_4800_jpg.rf.bb6b3b2af53813338af949252a9a9d04.jpg  \n",
            "  inflating: /content/drive/MyDrive/unet/masks/ken_6400_4000_jpg.rf.8bcd4fcde596d7d00b7248a690a751b7.jpg  \n",
            "  inflating: /content/drive/MyDrive/unet/masks/ken_6400_4000_jpg.rf.c9c225f07a961e9da9d646b7a9e753f0.jpg  \n",
            "  inflating: /content/drive/MyDrive/unet/masks/ken_6400_4000_jpg.rf.f95ce3c87f1e6d6e091bcc6dcd4191fd.jpg  \n",
            "  inflating: /content/drive/MyDrive/unet/masks/laay_1600_0_jpg.rf.0eabfa281ab94be0cdf1339c64c99bf6.jpg  \n",
            "  inflating: /content/drive/MyDrive/unet/masks/laay_1600_0_jpg.rf.5de9c7dda7c70d4817cc883a13182164.jpg  \n",
            "  inflating: /content/drive/MyDrive/unet/masks/laay_1600_0_jpg.rf.77b7649962fe1ca79aa5c35589326607.jpg  \n",
            "  inflating: /content/drive/MyDrive/unet/masks/nado_4000_800_jpg.rf.427b499ad688a621a0dce4f76b742aba.jpg  \n",
            "  inflating: /content/drive/MyDrive/unet/masks/nado_4000_800_jpg.rf.86797f112c4ce8eb3971192eae0880ed.jpg  \n",
            "  inflating: /content/drive/MyDrive/unet/masks/nado_4000_800_jpg.rf.88ba35884ad9a8d3551b647a9ce933ba.jpg  \n",
            "  inflating: /content/drive/MyDrive/unet/masks/nado_5600_800_jpg.rf.0e7b6f7af7bae32b898a29362eb6ad43.jpg  \n",
            "  inflating: /content/drive/MyDrive/unet/masks/nado_5600_800_jpg.rf.287ffe3a56317bb89a78b1d974c78ad1.jpg  \n",
            "  inflating: /content/drive/MyDrive/unet/masks/nado_5600_800_jpg.rf.b1e4a90a41c284591c9d8c545f4d877b.jpg  \n",
            "  inflating: /content/drive/MyDrive/unet/masks/rbt_11200_1600_jpg.rf.22deb4fb943002a18e78fde43039e5e7.jpg  \n",
            "  inflating: /content/drive/MyDrive/unet/masks/rbt_11200_1600_jpg.rf.4bdd506a13c65773bb08b7dc652c1850.jpg  \n",
            "  inflating: /content/drive/MyDrive/unet/masks/rbt_11200_1600_jpg.rf.757554d08aa8d94ea9a0054913f1cb05.jpg  \n",
            "  inflating: /content/drive/MyDrive/unet/masks/rbt_12000_1600_jpg.rf.215c6ee3149065d6f8647d4f2e52831d.jpg  \n",
            "  inflating: /content/drive/MyDrive/unet/masks/rbt_12000_1600_jpg.rf.4636758bba49162eea67d979fca30074.jpg  \n",
            "  inflating: /content/drive/MyDrive/unet/masks/rbt_12000_1600_jpg.rf.50c9ce4cae316cdb79618c92a8faa3a9.jpg  \n",
            "  inflating: /content/drive/MyDrive/unet/masks/rbt_1600_6400_jpg.rf.76554cbf24654d7e34db01fafd5433a2.jpg  \n",
            "  inflating: /content/drive/MyDrive/unet/masks/rbt_1600_6400_jpg.rf.afb3dd5afbcb40b04a4228da61616a9f.jpg  \n",
            "  inflating: /content/drive/MyDrive/unet/masks/rbt_1600_6400_jpg.rf.b817155c6b44410cb6a86bbc3cf839b8.jpg  \n",
            "  inflating: /content/drive/MyDrive/unet/masks/rbt_2400_5600_jpg.rf.226e3eaad4720a407dce44b13a9af4b6.jpg  \n",
            "  inflating: /content/drive/MyDrive/unet/masks/rbt_2400_5600_jpg.rf.a4b2b73ac1fa6e1e66bc227dc21f9182.jpg  \n",
            "  inflating: /content/drive/MyDrive/unet/masks/rbt_2400_5600_jpg.rf.aa6a5a3f10f98a74c15c37962761b0e4.jpg  \n",
            "  inflating: /content/drive/MyDrive/unet/masks/rbt_2400_6400_jpg.rf.10521aa60299e9c60b43259eb9a85136.jpg  \n",
            "  inflating: /content/drive/MyDrive/unet/masks/rbt_2400_6400_jpg.rf.4c6680bf2a2a1e2b4b2f9bf0113c94f8.jpg  \n",
            "  inflating: /content/drive/MyDrive/unet/masks/rbt_2400_6400_jpg.rf.cafff4f3fa1aaa8b11fe2ee6f0df43bd.jpg  \n",
            "  inflating: /content/drive/MyDrive/unet/masks/rbt_4800_10400_jpg.rf.100f294ab6f942990ac14516d02d2a66.jpg  \n",
            "  inflating: /content/drive/MyDrive/unet/masks/rbt_4800_10400_jpg.rf.6853ec344bbd1906c65be80faec91e75.jpg  \n",
            "  inflating: /content/drive/MyDrive/unet/masks/rbt_4800_10400_jpg.rf.8c9def38c545f81248dd6216cdd2a82e.jpg  \n",
            "  inflating: /content/drive/MyDrive/unet/masks/rbt_4800_9600_jpg.rf.3268a50993b29c1d3e454da8a1c75382.jpg  \n",
            "  inflating: /content/drive/MyDrive/unet/masks/rbt_4800_9600_jpg.rf.bdc6eeb0c35165a3c40aa9aa8b333296.jpg  \n",
            "  inflating: /content/drive/MyDrive/unet/masks/rbt_4800_9600_jpg.rf.f7b5b4fdce01fe37e1c7efc4cd0a7ed9.jpg  \n",
            "  inflating: /content/drive/MyDrive/unet/masks/rbt_6400_9600_jpg.rf.5788a21abffa3ee681658d87240c5cb0.jpg  \n",
            "  inflating: /content/drive/MyDrive/unet/masks/rbt_6400_9600_jpg.rf.62e559faf2c8d946316c26f0a8024256.jpg  \n",
            "  inflating: /content/drive/MyDrive/unet/masks/rbt_6400_9600_jpg.rf.e2a9df2256f70f5961536bd5c5cd6601.jpg  \n",
            "  inflating: /content/drive/MyDrive/unet/masks/rbt_7200_10400_jpg.rf.1e31973a5054b8f00985d14b917ecc1d.jpg  \n",
            "  inflating: /content/drive/MyDrive/unet/masks/rbt_7200_10400_jpg.rf.b80793ded729967d0a0e3f8eddc85a0a.jpg  \n",
            "  inflating: /content/drive/MyDrive/unet/masks/rbt_7200_10400_jpg.rf.cb7da31c9ce310bed78258da341b607a.jpg  \n",
            "  inflating: /content/drive/MyDrive/unet/masks/rbt_7200_9600_jpg.rf.1ec1163fd386f606daa84e4d97270d67.jpg  \n",
            "  inflating: /content/drive/MyDrive/unet/masks/rbt_7200_9600_jpg.rf.223825413fd04a5590ec3b20e8c9a711.jpg  \n",
            "  inflating: /content/drive/MyDrive/unet/masks/rbt_7200_9600_jpg.rf.923598a214fa8e790635a9e76eb48745.jpg  \n",
            "  inflating: /content/drive/MyDrive/unet/masks/rbt_800_6400_jpg.rf.0c7a880b1b679206663cab2bc7ffbb12.jpg  \n",
            "  inflating: /content/drive/MyDrive/unet/masks/rbt_800_6400_jpg.rf.38d13b873c55f7f613611faf306cdf37.jpg  \n",
            "  inflating: /content/drive/MyDrive/unet/masks/rbt_800_6400_jpg.rf.72be2282fbe2d680d39690c44f2f52c0.jpg  \n",
            "  inflating: /content/drive/MyDrive/unet/masks/rbt_800_7200_jpg.rf.5af308f9f5f3bec4876dcaec26202f8e.jpg  \n",
            "  inflating: /content/drive/MyDrive/unet/masks/rbt_800_7200_jpg.rf.82ac0e0e7d6179fbcd41f2f995835203.jpg  \n",
            "  inflating: /content/drive/MyDrive/unet/masks/rbt_800_7200_jpg.rf.cf93bb84296434befe849ac272ac9dc9.jpg  \n",
            "  inflating: /content/drive/MyDrive/unet/masks/rbt_8800_1600_jpg.rf.3c3d2ad54c4af361eeedc3f5814af5dd.jpg  \n",
            "  inflating: /content/drive/MyDrive/unet/masks/rbt_8800_1600_jpg.rf.6177adb8db8db6eb21d418e4f69081a5.jpg  \n",
            "  inflating: /content/drive/MyDrive/unet/masks/rbt_8800_1600_jpg.rf.a6d8a730ec5adf9d18f44312e063882e.jpg  \n",
            "  inflating: /content/drive/MyDrive/unet/masks/tant_800_0_jpg.rf.41171e0365e20b69468eb9677e3c9bfe.jpg  \n",
            "  inflating: /content/drive/MyDrive/unet/masks/tant_800_0_jpg.rf.94a4885be9320638def490b4ac1c88d4.jpg  \n",
            "  inflating: /content/drive/MyDrive/unet/masks/tant_800_0_jpg.rf.f6bb499680d6414f7ee38ecab44d27be.jpg  \n",
            "  inflating: /content/drive/MyDrive/unet/masks/tan_11200_4000_jpg.rf.1c6401e1f360ec49fbeb389eed37dad2.jpg  \n",
            "  inflating: /content/drive/MyDrive/unet/masks/tan_11200_4000_jpg.rf.7a01d5c0aec4717280bb84f0fedec3d9.jpg  \n",
            "  inflating: /content/drive/MyDrive/unet/masks/tan_11200_4000_jpg.rf.bb66040cd996806adf15b7b00b2aa56b.jpg  \n",
            "  inflating: /content/drive/MyDrive/unet/masks/tit_0_0_jpg.rf.39a4e891a0663af4640e8b6ea6187be9.jpg  \n",
            "  inflating: /content/drive/MyDrive/unet/masks/tit_0_0_jpg.rf.6f29d950329decb48ec9e78b4d858fe3.jpg  \n",
            "  inflating: /content/drive/MyDrive/unet/masks/tit_0_0_jpg.rf.bce7c50534bafdd35b210f03cefa9df5.jpg  \n",
            "   creating: /content/drive/MyDrive/unet/train/\n",
            "  inflating: /content/drive/MyDrive/unet/train/ag_2400_0_jpg.rf.49cce0e04dcb27a93c3f0ba053b607ed.jpg  \n",
            "  inflating: /content/drive/MyDrive/unet/train/ag_2400_0_jpg.rf.8abb7796498d0450a801f1ad07885c85.jpg  \n",
            "  inflating: /content/drive/MyDrive/unet/train/ag_2400_0_jpg.rf.f7db6abb783442875cea3219c98e49a2.jpg  \n",
            "  inflating: /content/drive/MyDrive/unet/train/ag_800_0_jpg.rf.73fe503ca46e9a586396030fdc6b254d.jpg  \n",
            "  inflating: /content/drive/MyDrive/unet/train/ag_800_0_jpg.rf.bd1fdbc31e0d7beb3fc17effa712a638.jpg  \n",
            "  inflating: /content/drive/MyDrive/unet/train/ag_800_0_jpg.rf.c6d4dd52e0839841434bb426fda515fc.jpg  \n",
            "  inflating: /content/drive/MyDrive/unet/train/beni_2400_800_jpg.rf.152e271e0d05ab5dcfb2a338b3478784.jpg  \n",
            "  inflating: /content/drive/MyDrive/unet/train/beni_2400_800_jpg.rf.ee432b6c1f54a0779851ca0cd2da0969.jpg  \n",
            "  inflating: /content/drive/MyDrive/unet/train/beni_2400_800_jpg.rf.fdc7e23c5bc776589f2750efc706678d.jpg  \n",
            "  inflating: /content/drive/MyDrive/unet/train/bens_3200_1600_jpg.rf.36ea4e3b4ffe6d9bb1d9bcd2960acbd1.jpg  \n",
            "  inflating: /content/drive/MyDrive/unet/train/bens_3200_1600_jpg.rf.62e15b6f7d9962f7dc62c1e374761934.jpg  \n",
            "  inflating: /content/drive/MyDrive/unet/train/bens_3200_1600_jpg.rf.ee543cb59fd0b4d52d14a09ad124587e.jpg  \n",
            "  inflating: /content/drive/MyDrive/unet/train/bens_3200_2400_jpg.rf.7ef8a40ab30a88f3333cedd7864532a5.jpg  \n",
            "  inflating: /content/drive/MyDrive/unet/train/bens_3200_2400_jpg.rf.a9265161a014b14c5c0ede5f47b13b64.jpg  \n",
            "  inflating: /content/drive/MyDrive/unet/train/bens_3200_2400_jpg.rf.c1d8c75494173bbdb1e1212a3756838a.jpg  \n",
            "  inflating: /content/drive/MyDrive/unet/train/bens_4000_2400_jpg.rf.5d35f8c7ecf36a3ab71862997f632e50.jpg  \n",
            "  inflating: /content/drive/MyDrive/unet/train/bens_4000_2400_jpg.rf.8f9e7b22dd0823f06a82836b285d3e73.jpg  \n",
            "  inflating: /content/drive/MyDrive/unet/train/bens_4000_2400_jpg.rf.cc12c9611fca1fe88ae552d1c4171fdb.jpg  \n",
            "  inflating: /content/drive/MyDrive/unet/train/bens_4000_3200_jpg.rf.67067917e41160074e34dc7461d73f86.jpg  \n",
            "  inflating: /content/drive/MyDrive/unet/train/bens_4000_3200_jpg.rf.9dc34ccee7bb0a446b7f1722868aa127.jpg  \n",
            "  inflating: /content/drive/MyDrive/unet/train/bens_4000_3200_jpg.rf.a00e7edb2c992f01a5999edb1a43a6be.jpg  \n",
            "  inflating: /content/drive/MyDrive/unet/train/chunk_11200_11200_jpg.rf.2e321cfdab2e78e29307808fc196f2ff.jpg  \n",
            "  inflating: /content/drive/MyDrive/unet/train/chunk_11200_11200_jpg.rf.8f9d2b84a5a62368b710a890b505cc21.jpg  \n",
            "  inflating: /content/drive/MyDrive/unet/train/chunk_11200_11200_jpg.rf.e7511f8125059618c834a70fc710f9f8.jpg  \n",
            "  inflating: /content/drive/MyDrive/unet/train/chunk_1600_4800_jpg.rf.21c142f85cb997f13a4be3416c27f1ca.jpg  \n",
            "  inflating: /content/drive/MyDrive/unet/train/chunk_1600_4800_jpg.rf.30d4aa0549ed0b7dbab3eeaeeb89e473.jpg  \n",
            "  inflating: /content/drive/MyDrive/unet/train/chunk_1600_4800_jpg.rf.946cd06d58642964bf67efa8942eb2f0.jpg  \n",
            "  inflating: /content/drive/MyDrive/unet/train/chunk_2400_3200_jpg.rf.060c8cdc207ae931f27d5cbc9bacd85d.jpg  \n",
            "  inflating: /content/drive/MyDrive/unet/train/chunk_2400_3200_jpg.rf.b03739e765e70329e43ebf6164ec6e44.jpg  \n",
            "  inflating: /content/drive/MyDrive/unet/train/chunk_2400_3200_jpg.rf.d5f504dfd69c97cc37fac38067ff2cbb.jpg  \n",
            "  inflating: /content/drive/MyDrive/unet/train/chunk_4000_1600_jpg.rf.762a19e16631d6ae22e1f84a5ac8cfe0.jpg  \n",
            "  inflating: /content/drive/MyDrive/unet/train/chunk_4000_1600_jpg.rf.a7147b8daa0648e2aa12401090b7b931.jpg  \n",
            "  inflating: /content/drive/MyDrive/unet/train/chunk_4000_1600_jpg.rf.d690974b15c712eea83a6b93f49f7e61.jpg  \n",
            "  inflating: /content/drive/MyDrive/unet/train/chunk_4000_2400_jpg.rf.7d78792e1f3d1938d7d85fdae33b5a63.jpg  \n",
            "  inflating: /content/drive/MyDrive/unet/train/chunk_4000_2400_jpg.rf.f2da72e71fd26870cfb8fa23624a852f.jpg  \n",
            "  inflating: /content/drive/MyDrive/unet/train/chunk_4000_2400_jpg.rf.fe6477b0dd6019c27b1f47bcb06e4fe9.jpg  \n",
            "  inflating: /content/drive/MyDrive/unet/train/chunk_4000_800_jpg.rf.9e9649315455aff0b96c1ff98d6ec845.jpg  \n",
            "  inflating: /content/drive/MyDrive/unet/train/chunk_4000_800_jpg.rf.df5fdd58ab54ec71e3ed724dab0726dd.jpg  \n",
            "  inflating: /content/drive/MyDrive/unet/train/chunk_4000_800_jpg.rf.e19a0f23d1f693f582e4813a2bdcfbd6.jpg  \n",
            "  inflating: /content/drive/MyDrive/unet/train/chunk_4800_4800_jpg.rf.49af09b2a353a9633e14e275080ae658.jpg  \n",
            "  inflating: /content/drive/MyDrive/unet/train/chunk_4800_4800_jpg.rf.66a7ec789f1c429b864561da1d303686.jpg  \n",
            "  inflating: /content/drive/MyDrive/unet/train/chunk_4800_4800_jpg.rf.8f5a035166ceb9065fafb83fd6cc61c2.jpg  \n",
            "  inflating: /content/drive/MyDrive/unet/train/chunk_5600_5600_jpg.rf.3abf90b2f457138095046dfbdac32dc7.jpg  \n",
            "  inflating: /content/drive/MyDrive/unet/train/chunk_5600_5600_jpg.rf.8e84555a08ab9c7c1ba00fe13f7fe611.jpg  \n",
            "  inflating: /content/drive/MyDrive/unet/train/chunk_5600_5600_jpg.rf.ab6853d8de13e5aa40998c9cf7a93929.jpg  \n",
            "  inflating: /content/drive/MyDrive/unet/train/chunk_5600_6400_jpg.rf.2e1e02b4e2c9660c10b2b29b7c38c274.jpg  \n",
            "  inflating: /content/drive/MyDrive/unet/train/chunk_5600_6400_jpg.rf.c23a2dac84e0389a892eebe59e828a0d.jpg  \n",
            "  inflating: /content/drive/MyDrive/unet/train/chunk_5600_6400_jpg.rf.db048da71c3bf4107ba6f2e8d5d5d80d.jpg  \n",
            "  inflating: /content/drive/MyDrive/unet/train/chunk_5600_8800_jpg.rf.678b0ccffe1fa0d99b908f27448ba5ca.jpg  \n",
            "  inflating: /content/drive/MyDrive/unet/train/chunk_5600_8800_jpg.rf.b58cc967b444297529f3104f60e6db1e.jpg  \n",
            "  inflating: /content/drive/MyDrive/unet/train/chunk_5600_8800_jpg.rf.b6cc2f25a3cc6dd44470bf9a30ea3fa5.jpg  \n",
            "  inflating: /content/drive/MyDrive/unet/train/chunk_6400_8000_jpg.rf.3cf3b41a63d9592511d2c27cfeb3bd26.jpg  \n",
            "  inflating: /content/drive/MyDrive/unet/train/chunk_6400_8000_jpg.rf.8dea670ed419817ae54bd931260df134.jpg  \n",
            "  inflating: /content/drive/MyDrive/unet/train/chunk_6400_8000_jpg.rf.b9d3d815148a8d8b67d13e6aef389bdb.jpg  \n",
            "  inflating: /content/drive/MyDrive/unet/train/chunk_6400_800_jpg.rf.030b0c5c6bf359103bd7a8d3a840d71b.jpg  \n",
            "  inflating: /content/drive/MyDrive/unet/train/chunk_6400_800_jpg.rf.652485e9559b2c4006425046e97bf509.jpg  \n",
            "  inflating: /content/drive/MyDrive/unet/train/chunk_6400_800_jpg.rf.bc12a7e42935f9ae9969d35a8627d168.jpg  \n",
            "  inflating: /content/drive/MyDrive/unet/train/chunk_7200_7200_jpg.rf.6b76c3de46b5b0433652a78a825ca669.jpg  \n",
            "  inflating: /content/drive/MyDrive/unet/train/chunk_7200_7200_jpg.rf.9b669fe7e90c63da2413a8d58299385e.jpg  \n",
            "  inflating: /content/drive/MyDrive/unet/train/chunk_7200_7200_jpg.rf.f1438ac624891e0e8bf451a0194cb044.jpg  \n",
            "  inflating: /content/drive/MyDrive/unet/train/chunk_7200_8000_jpg.rf.1173e85db56ae2edaa9ad9937c2c65b3.jpg  \n",
            "  inflating: /content/drive/MyDrive/unet/train/chunk_7200_8000_jpg.rf.158387d49b8835eaeba28ad5d06a09bc.jpg  \n",
            "  inflating: /content/drive/MyDrive/unet/train/chunk_7200_8000_jpg.rf.73a7de558b703f2146a514db551f38f4.jpg  \n",
            "  inflating: /content/drive/MyDrive/unet/train/chunk_8000_800_jpg.rf.36578582cc54d354d920d13cf812f76b.jpg  \n",
            "  inflating: /content/drive/MyDrive/unet/train/chunk_8000_800_jpg.rf.a0d8cf2c4795d8dbf584a73016b98c2a.jpg  \n",
            "  inflating: /content/drive/MyDrive/unet/train/chunk_8000_800_jpg.rf.f8b6c6bca1c9f0796e79f7ba49888c69.jpg  \n",
            "  inflating: /content/drive/MyDrive/unet/train/dakh_1600_800_jpg.rf.45a48c287a84b46c336a22ca11e75d5c.jpg  \n",
            "  inflating: /content/drive/MyDrive/unet/train/dakh_1600_800_jpg.rf.8ab33d2351511cde5a0f11b4a7d655f8.jpg  \n",
            "  inflating: /content/drive/MyDrive/unet/train/dakh_1600_800_jpg.rf.a79e1f28e2ee6aa2dc08f57d6e1f92ad.jpg  \n",
            "  inflating: /content/drive/MyDrive/unet/train/err_800_0_jpg.rf.01a39e6cfbd027a10afb458e48b05d59.jpg  \n",
            "  inflating: /content/drive/MyDrive/unet/train/err_800_0_jpg.rf.4a96066f223beb8b7c716b2d20cae5b6.jpg  \n",
            "  inflating: /content/drive/MyDrive/unet/train/err_800_0_jpg.rf.b365e3f38761c511d5a9138cfed5487e.jpg  \n",
            "  inflating: /content/drive/MyDrive/unet/train/ess_800_0_jpg.rf.5761da1fe00d8e4424080a15b53f5b1a.jpg  \n",
            "  inflating: /content/drive/MyDrive/unet/train/ess_800_0_jpg.rf.9a5b34dfdf79094de41fb20b8030baa3.jpg  \n",
            "  inflating: /content/drive/MyDrive/unet/train/ess_800_0_jpg.rf.c538d75acbfc387c0e4a00fe176d736f.jpg  \n",
            "  inflating: /content/drive/MyDrive/unet/train/fes_4800_800_jpg.rf.113d93fa127651bb6f333cea26196708.jpg  \n",
            "  inflating: /content/drive/MyDrive/unet/train/fes_4800_800_jpg.rf.19fb744b11e3d6afaad63db4d274f3ca.jpg  \n",
            "  inflating: /content/drive/MyDrive/unet/train/fes_4800_800_jpg.rf.21d09c40dbd9239358942e02d5b54b26.jpg  \n",
            "  inflating: /content/drive/MyDrive/unet/train/fes_6400_800_jpg.rf.42dbec10fca4ddfa144eb1ea885b4c4c.jpg  \n",
            "  inflating: /content/drive/MyDrive/unet/train/fes_6400_800_jpg.rf.5925c6e3710ab3896b94ef01c0062866.jpg  \n",
            "  inflating: /content/drive/MyDrive/unet/train/fes_6400_800_jpg.rf.6faba4f5c31f03bedcb4f5ce86eac6f5.jpg  \n",
            "  inflating: /content/drive/MyDrive/unet/train/fes_7200_800_jpg.rf.6053daf9a8f0b9c2f1918e5c3729631e.jpg  \n",
            "  inflating: /content/drive/MyDrive/unet/train/fes_7200_800_jpg.rf.a6f1d8a5dd7c643e8264adc18bd85051.jpg  \n",
            "  inflating: /content/drive/MyDrive/unet/train/fes_7200_800_jpg.rf.e464342462c73338203e28b49a66093f.jpg  \n",
            "  inflating: /content/drive/MyDrive/unet/train/kech_16800_24000_jpg.rf.24bfc2f815819b4a9b3ddfd2c3916288.jpg  \n",
            "  inflating: /content/drive/MyDrive/unet/train/kech_16800_24000_jpg.rf.2d43b7d22f5f09e1f9f7a9c1ef34a8f0.jpg  \n",
            "  inflating: /content/drive/MyDrive/unet/train/kech_16800_24000_jpg.rf.5e36a294428f3d4d5cf45f8bc7237c54.jpg  \n",
            "  inflating: /content/drive/MyDrive/unet/train/kech_18400_24000_jpg.rf.229a87110ff1832656d9c242f2df5acd.jpg  \n",
            "  inflating: /content/drive/MyDrive/unet/train/kech_18400_24000_jpg.rf.2607adeec4fb4f296ba7e020d6424a20.jpg  \n",
            "  inflating: /content/drive/MyDrive/unet/train/kech_18400_24000_jpg.rf.29351ad01974589061d79b17dd7b88ed.jpg  \n",
            "  inflating: /content/drive/MyDrive/unet/train/kech_20800_23200_jpg.rf.abb2bfc8ed2c1fb1f8c595a7aef524dd.jpg  \n",
            "  inflating: /content/drive/MyDrive/unet/train/kech_20800_23200_jpg.rf.ce3b2fe5881f474cb053cb07ff19ba5a.jpg  \n",
            "  inflating: /content/drive/MyDrive/unet/train/kech_20800_23200_jpg.rf.e4441fae1c201570e3de4dabdd8be4a3.jpg  \n",
            "  inflating: /content/drive/MyDrive/unet/train/kech_20800_24000_jpg.rf.04d2eb130277ed52830bf15930811ff3.jpg  \n",
            "  inflating: /content/drive/MyDrive/unet/train/kech_20800_24000_jpg.rf.c862bc800fe1971bfd618f7da27bf274.jpg  \n",
            "  inflating: /content/drive/MyDrive/unet/train/kech_20800_24000_jpg.rf.c956e0d48e91802f61c60a381d7aaaa7.jpg  \n",
            "  inflating: /content/drive/MyDrive/unet/train/kech_27200_4000_jpg.rf.0653d13bfa1d489be760275672646ff9.jpg  \n",
            "  inflating: /content/drive/MyDrive/unet/train/kech_27200_4000_jpg.rf.5328a7b3a419d704a0042f6f2e651c33.jpg  \n",
            "  inflating: /content/drive/MyDrive/unet/train/kech_27200_4000_jpg.rf.9261a2897871370e3251b84e1ce1740f.jpg  \n",
            "  inflating: /content/drive/MyDrive/unet/train/kech_28000_2400_jpg.rf.1b0d29f2e0e6a1cd9f5f5ce9eb55cdc9.jpg  \n",
            "  inflating: /content/drive/MyDrive/unet/train/kech_28000_2400_jpg.rf.6907d4a9de192c0977762ffa1ae78a2f.jpg  \n",
            "  inflating: /content/drive/MyDrive/unet/train/kech_28000_2400_jpg.rf.729639489308348b6075f2e622e1413e.jpg  \n",
            "  inflating: /content/drive/MyDrive/unet/train/kech_28000_4000_jpg.rf.191ac57bfce0d0a4cc7fab1eb89276be.jpg  \n",
            "  inflating: /content/drive/MyDrive/unet/train/kech_28000_4000_jpg.rf.1ec038dcafd266fcf805ae38251ad40f.jpg  \n",
            "  inflating: /content/drive/MyDrive/unet/train/kech_28000_4000_jpg.rf.d313849d943a10f7d2e86bcf874f601a.jpg  \n",
            "  inflating: /content/drive/MyDrive/unet/train/kech_29600_4000_jpg.rf.50c7b8a9a6cf618278ed09000c25918d.jpg  \n",
            "  inflating: /content/drive/MyDrive/unet/train/kech_29600_4000_jpg.rf.b390d323c126fa9275c496ead9109c7c.jpg  \n",
            "  inflating: /content/drive/MyDrive/unet/train/kech_29600_4000_jpg.rf.d6c42b303b5ec071f7bd5f6de5f76953.jpg  \n",
            "  inflating: /content/drive/MyDrive/unet/train/kech_32000_4000_jpg.rf.0cdcbe45fa2705e9c012629d646e5c67.jpg  \n",
            "  inflating: /content/drive/MyDrive/unet/train/kech_32000_4000_jpg.rf.178b8c78db2c6e2d6603b9a4802a31a5.jpg  \n",
            "  inflating: /content/drive/MyDrive/unet/train/kech_32000_4000_jpg.rf.ede851da71f462a7014cfdec59e3e7e6.jpg  \n",
            "  inflating: /content/drive/MyDrive/unet/train/kech_34400_4800_jpg.rf.04a30c2a8b841bef3190c9c5f1840dd9.jpg  \n",
            "  inflating: /content/drive/MyDrive/unet/train/kech_34400_4800_jpg.rf.a7d3452f832fdb15039510970fc5f880.jpg  \n",
            "  inflating: /content/drive/MyDrive/unet/train/kech_34400_4800_jpg.rf.d3ed694bdd95c7dc8938c835c7ab8025.jpg  \n",
            "  inflating: /content/drive/MyDrive/unet/train/kech_37600_0_jpg.rf.88fda8694cc6dc6467b51d1a45120b28.jpg  \n",
            "  inflating: /content/drive/MyDrive/unet/train/kech_37600_0_jpg.rf.bff84fc5fdaf0cc38b3660ba7884edb5.jpg  \n",
            "  inflating: /content/drive/MyDrive/unet/train/kech_37600_0_jpg.rf.c5152977b22681424ae43a31e14fc9a8.jpg  \n",
            "  inflating: /content/drive/MyDrive/unet/train/kech_37600_8800_jpg.rf.052ee29bbcf116b86123fbb70ce207a1.jpg  \n",
            "  inflating: /content/drive/MyDrive/unet/train/kech_37600_8800_jpg.rf.7eb81353e4a906a76db305ba133cbaa2.jpg  \n",
            "  inflating: /content/drive/MyDrive/unet/train/kech_37600_8800_jpg.rf.edf004622d5aafff3c30fd2e6fcb8c93.jpg  \n",
            "  inflating: /content/drive/MyDrive/unet/train/kech_37600_9600_jpg.rf.004bd71949895d9a09279483a183842e.jpg  \n",
            "  inflating: /content/drive/MyDrive/unet/train/kech_37600_9600_jpg.rf.6296a34a7ea232ed06bbb94b06e8a07d.jpg  \n",
            "  inflating: /content/drive/MyDrive/unet/train/kech_37600_9600_jpg.rf.ed78d39076b9faf603fdb130e8446ea8.jpg  \n",
            "  inflating: /content/drive/MyDrive/unet/train/kech_38400_800_jpg.rf.1d0330ce70c5fe276901ed7038a4efc7.jpg  \n",
            "  inflating: /content/drive/MyDrive/unet/train/kech_38400_800_jpg.rf.5a152c190d1df35a8db13fbe3c6fa4d3.jpg  \n",
            "  inflating: /content/drive/MyDrive/unet/train/kech_38400_800_jpg.rf.c3035f614870db531183d3c5ba22ddcc.jpg  \n",
            "  inflating: /content/drive/MyDrive/unet/train/kech_38400_9600_jpg.rf.5361fe85628cac1c0ae0624f93a8d56c.jpg  \n",
            "  inflating: /content/drive/MyDrive/unet/train/kech_38400_9600_jpg.rf.5961ffce76ae92b85d0a365ad8a28f5a.jpg  \n",
            "  inflating: /content/drive/MyDrive/unet/train/kech_38400_9600_jpg.rf.ee3f18ff02d5908e296ad5fa9482ed64.jpg  \n",
            "  inflating: /content/drive/MyDrive/unet/train/kech_39200_10400_jpg.rf.01f00fc6fd138097bb3048ea7d32f6e3.jpg  \n",
            "  inflating: /content/drive/MyDrive/unet/train/kech_39200_10400_jpg.rf.1461a04cdd507ef9e8969afd031330bd.jpg  \n",
            "  inflating: /content/drive/MyDrive/unet/train/kech_39200_10400_jpg.rf.3773eb58181dd147926abc3078254361.jpg  \n",
            "  inflating: /content/drive/MyDrive/unet/train/kech_39200_9600_jpg.rf.3e3cab8852d68c095c611cfb3745e1a3.jpg  \n",
            "  inflating: /content/drive/MyDrive/unet/train/kech_39200_9600_jpg.rf.44c44a2bfb9c037cbed0035aec6cdc0e.jpg  \n",
            "  inflating: /content/drive/MyDrive/unet/train/kech_39200_9600_jpg.rf.fb0bf6ec77766cac720dc7b866391cc4.jpg  \n",
            "  inflating: /content/drive/MyDrive/unet/train/kech_41600_7200_jpg.rf.504752ceb339e3040ea6bd94cc1e6111.jpg  \n",
            "  inflating: /content/drive/MyDrive/unet/train/kech_41600_7200_jpg.rf.88f1ff919d42e7b40c4349c06fafc0d4.jpg  \n",
            "  inflating: /content/drive/MyDrive/unet/train/kech_41600_7200_jpg.rf.a11ee656ed37bdbe84ac13f86c633c82.jpg  \n",
            "  inflating: /content/drive/MyDrive/unet/train/kech_46400_20000_jpg.rf.3326620dd66107cf490a5415feb14afc.jpg  \n",
            "  inflating: /content/drive/MyDrive/unet/train/kech_46400_20000_jpg.rf.d9167f95974dd817bae26e117a046084.jpg  \n",
            "  inflating: /content/drive/MyDrive/unet/train/kech_46400_20000_jpg.rf.eb085bad2506998e5261851a77dc45bb.jpg  \n",
            "  inflating: /content/drive/MyDrive/unet/train/kech_48000_24000_jpg.rf.25f5a4e98bf6fbcaa707c304e56c97be.jpg  \n",
            "  inflating: /content/drive/MyDrive/unet/train/kech_48000_24000_jpg.rf.3b0d60f69fe0c7d60744bfcc3366de2f.jpg  \n",
            "  inflating: /content/drive/MyDrive/unet/train/kech_48000_24000_jpg.rf.9e464c8f78593aeb84b97666dd975d50.jpg  \n",
            "  inflating: /content/drive/MyDrive/unet/train/kech_48800_24000_jpg.rf.5fc4e015f022ee7c5800971a62e1b1dc.jpg  \n",
            "  inflating: /content/drive/MyDrive/unet/train/kech_48800_24000_jpg.rf.d308893264a57519ca13915aa603a064.jpg  \n",
            "  inflating: /content/drive/MyDrive/unet/train/kech_48800_24000_jpg.rf.d8daa73d1573a6998ce7e5fc20cf4733.jpg  \n",
            "  inflating: /content/drive/MyDrive/unet/train/kech_49600_24000_jpg.rf.419eb9a9ffb66e37e2ee5b95619441ad.jpg  \n",
            "  inflating: /content/drive/MyDrive/unet/train/kech_49600_24000_jpg.rf.ca6d1f5301f95296f4c9e4c59a4bc2dd.jpg  \n",
            "  inflating: /content/drive/MyDrive/unet/train/kech_49600_24000_jpg.rf.f4bd5aeca551b4442b8c335dcc0c6e0f.jpg  \n",
            "  inflating: /content/drive/MyDrive/unet/train/kech_49600_24800_jpg.rf.90e2b4843151972e089bc06718c3ef0c.jpg  \n",
            "  inflating: /content/drive/MyDrive/unet/train/kech_49600_24800_jpg.rf.9bb85324964e7169f3d32496d862a519.jpg  \n",
            "  inflating: /content/drive/MyDrive/unet/train/kech_49600_24800_jpg.rf.e639d985c49d93b293239cd16929bd41.jpg  \n",
            "  inflating: /content/drive/MyDrive/unet/train/kech_50400_15200_jpg.rf.6d1916370dd0c96662cb3c2394c3f22e.jpg  \n",
            "  inflating: /content/drive/MyDrive/unet/train/kech_50400_15200_jpg.rf.6e62d62308f926b906837838282931f0.jpg  \n",
            "  inflating: /content/drive/MyDrive/unet/train/kech_50400_15200_jpg.rf.7d6dab0fa0195ae1fea3f3304fd3f3ba.jpg  \n",
            "  inflating: /content/drive/MyDrive/unet/train/kech_50400_16000_jpg.rf.3abe0870c56d6d23fc790580cf436d7e.jpg  \n",
            "  inflating: /content/drive/MyDrive/unet/train/kech_50400_16000_jpg.rf.a1eb007f2b6493711e78c8af095396c6.jpg  \n",
            "  inflating: /content/drive/MyDrive/unet/train/kech_50400_16000_jpg.rf.c6d50351e9bacc29b3689bd77032606f.jpg  \n",
            "  inflating: /content/drive/MyDrive/unet/train/kech_50400_16800_jpg.rf.24b541c435b463a4002e33811b057ab4.jpg  \n",
            "  inflating: /content/drive/MyDrive/unet/train/kech_50400_16800_jpg.rf.8a9ecc6b0e373fa78e670bde98776ff7.jpg  \n",
            "  inflating: /content/drive/MyDrive/unet/train/kech_50400_16800_jpg.rf.bd77165e8a2c94cbd3377147948cd1ec.jpg  \n",
            "  inflating: /content/drive/MyDrive/unet/train/kech_50400_24000_jpg.rf.496c5e60bc4462f2c6c872fc1846fa44.jpg  \n",
            "  inflating: /content/drive/MyDrive/unet/train/kech_50400_24000_jpg.rf.973b061e3f38d0f3b5cfc9671f807047.jpg  \n",
            "  inflating: /content/drive/MyDrive/unet/train/kech_50400_24000_jpg.rf.b234abb19b4423be3a9dcb34c3838ceb.jpg  \n",
            "  inflating: /content/drive/MyDrive/unet/train/kech_50400_24800_jpg.rf.427235c37bf65d84f92eaeed2c3890f6.jpg  \n",
            "  inflating: /content/drive/MyDrive/unet/train/kech_50400_24800_jpg.rf.63b9543e66ecfb65254714e5e393c2cc.jpg  \n",
            "  inflating: /content/drive/MyDrive/unet/train/kech_50400_24800_jpg.rf.cfc688809b8699c76905a1d6791de202.jpg  \n",
            "  inflating: /content/drive/MyDrive/unet/train/kech_51200_26400_jpg.rf.41fe083e7a6bf608e43de510513b0e5e.jpg  \n",
            "  inflating: /content/drive/MyDrive/unet/train/kech_51200_26400_jpg.rf.6c41cddefeb99fd32a8da4304d2538fb.jpg  \n",
            "  inflating: /content/drive/MyDrive/unet/train/kech_51200_26400_jpg.rf.abc0b97775a64762b01afb968367eb32.jpg  \n",
            "  inflating: /content/drive/MyDrive/unet/train/kech_51200_27200_jpg.rf.4646ac86a85eb48dbd0c90dfaea1d02e.jpg  \n",
            "  inflating: /content/drive/MyDrive/unet/train/kech_51200_27200_jpg.rf.468e4cadac90174a4bb914ef90b10248.jpg  \n",
            "  inflating: /content/drive/MyDrive/unet/train/kech_51200_27200_jpg.rf.c4af0e7db53169a107b6bd9a96b83a9f.jpg  \n",
            "  inflating: /content/drive/MyDrive/unet/train/kech_52800_28800_jpg.rf.2d3ba629982c1dd4eaf01507f87819a6.jpg  \n",
            "  inflating: /content/drive/MyDrive/unet/train/kech_52800_28800_jpg.rf.90418f6de86f600cc682c2b06ec08934.jpg  \n",
            "  inflating: /content/drive/MyDrive/unet/train/kech_52800_28800_jpg.rf.ece396b3c645c30791ffadbe6ca56e2b.jpg  \n",
            "  inflating: /content/drive/MyDrive/unet/train/kech_53600_26400_jpg.rf.44c40a1d7932ebb9a548f72856987bb1.jpg  \n",
            "  inflating: /content/drive/MyDrive/unet/train/kech_53600_26400_jpg.rf.542207793b86b88ecd1b6a5bda9c05a4.jpg  \n",
            "  inflating: /content/drive/MyDrive/unet/train/kech_53600_26400_jpg.rf.d8c3c9b3b9c7a8ad11ecb1b8e3c8253f.jpg  \n",
            "  inflating: /content/drive/MyDrive/unet/train/kech_53600_27200_jpg.rf.9886f7a4f4ee3c67d5a21bb293e2dea4.jpg  \n",
            "  inflating: /content/drive/MyDrive/unet/train/kech_53600_27200_jpg.rf.a4536f493a7c2c1093e3aa476342d787.jpg  \n",
            "  inflating: /content/drive/MyDrive/unet/train/kech_53600_27200_jpg.rf.fc12048e7af6bf34489718f8f12b9f70.jpg  \n",
            "  inflating: /content/drive/MyDrive/unet/train/kech_53600_28000_jpg.rf.b5a159e55a3c20f40034fd7acca040ae.jpg  \n",
            "  inflating: /content/drive/MyDrive/unet/train/kech_53600_28000_jpg.rf.eb832ec4dcc04f12f0544978744a9116.jpg  \n",
            "  inflating: /content/drive/MyDrive/unet/train/kech_53600_28000_jpg.rf.ff90922e72390bdb730dec2c0c377ccc.jpg  \n",
            "  inflating: /content/drive/MyDrive/unet/train/kech_53600_28800_jpg.rf.07d9b189619bd4ac25183dc511c80006.jpg  \n",
            "  inflating: /content/drive/MyDrive/unet/train/kech_53600_28800_jpg.rf.53cfbcf9e450d13c46ec6ea70c411209.jpg  \n",
            "  inflating: /content/drive/MyDrive/unet/train/kech_53600_28800_jpg.rf.ba29bc1b1a97e3f3abbcb8bb0afb3a66.jpg  \n",
            "  inflating: /content/drive/MyDrive/unet/train/kech_53600_30400_jpg.rf.191c2a8c9e68ee3bfd379c80d79f039d.jpg  \n",
            "  inflating: /content/drive/MyDrive/unet/train/kech_53600_30400_jpg.rf.e90254555ee0a37bb0da1ba5964636bf.jpg  \n",
            "  inflating: /content/drive/MyDrive/unet/train/kech_53600_30400_jpg.rf.e9f7f9501fb165d3fbafef782953aebe.jpg  \n",
            "  inflating: /content/drive/MyDrive/unet/train/kech_54400_26400_jpg.rf.176052153a262f9d9a3f39a09961b190.jpg  \n",
            "  inflating: /content/drive/MyDrive/unet/train/kech_54400_26400_jpg.rf.b9c90f11b3a1d16e6c78c0e935778f6a.jpg  \n",
            "  inflating: /content/drive/MyDrive/unet/train/kech_54400_26400_jpg.rf.eb605afd6c7530c11691ab8560c896d8.jpg  \n",
            "  inflating: /content/drive/MyDrive/unet/train/kech_56800_24800_jpg.rf.013128bcfe3c4135300e8e05ff75ddd7.jpg  \n",
            "  inflating: /content/drive/MyDrive/unet/train/kech_56800_24800_jpg.rf.805f0f4a2f3173de964b3a7d080b8ecc.jpg  \n",
            "  inflating: /content/drive/MyDrive/unet/train/kech_56800_24800_jpg.rf.94c02024858b87e6f1ee8b02a0245989.jpg  \n",
            "  inflating: /content/drive/MyDrive/unet/train/kech_56800_25600_jpg.rf.5fd6488f823b9abb4055d9b9d85f3849.jpg  \n",
            "  inflating: /content/drive/MyDrive/unet/train/kech_56800_25600_jpg.rf.9c876589fe6067896d12efe8a81bbfce.jpg  \n",
            "  inflating: /content/drive/MyDrive/unet/train/kech_56800_25600_jpg.rf.d9e49889c84566ff9f34859b5ee1a0d3.jpg  \n",
            "  inflating: /content/drive/MyDrive/unet/train/kech_58400_24800_jpg.rf.32f176fb7eca01c4f0c4e6e388684997.jpg  \n",
            "  inflating: /content/drive/MyDrive/unet/train/kech_58400_24800_jpg.rf.b6002464be882dbb31b8524d9e35fb0a.jpg  \n",
            "  inflating: /content/drive/MyDrive/unet/train/kech_58400_24800_jpg.rf.e32e33840b7478a82ab59bd770ced6cc.jpg  \n",
            "  inflating: /content/drive/MyDrive/unet/train/kech_58400_25600_jpg.rf.24455f6be1f9d46a9e3f0083e986358d.jpg  \n",
            "  inflating: /content/drive/MyDrive/unet/train/kech_58400_25600_jpg.rf.e326c79ebc3478d17fa94d2a8517d1c8.jpg  \n",
            "  inflating: /content/drive/MyDrive/unet/train/kech_58400_25600_jpg.rf.ec3263b81661bda5e389e0c61df32c55.jpg  \n",
            "  inflating: /content/drive/MyDrive/unet/train/kech_58400_26400_jpg.rf.91d56a3effd87aaeba58de7be1567073.jpg  \n",
            "  inflating: /content/drive/MyDrive/unet/train/kech_58400_26400_jpg.rf.a942cf3bceb612e561145779ce579639.jpg  \n",
            "  inflating: /content/drive/MyDrive/unet/train/kech_58400_26400_jpg.rf.d23b5819c2ef3292c7add0a6898a3ad1.jpg  \n",
            "  inflating: /content/drive/MyDrive/unet/train/kech_59200_24800_jpg.rf.3124547c66bfcad66e1bcc6abb1aa5b8.jpg  \n",
            "  inflating: /content/drive/MyDrive/unet/train/kech_59200_24800_jpg.rf.8f971c4426e4452c606d67b881d00fa0.jpg  \n",
            "  inflating: /content/drive/MyDrive/unet/train/kech_59200_24800_jpg.rf.d138ad5f1690e156048b32c3c18f5e49.jpg  \n",
            "  inflating: /content/drive/MyDrive/unet/train/kech_59200_25600_jpg.rf.2f81943873e795fd70c6f031fe4268a2.jpg  \n",
            "  inflating: /content/drive/MyDrive/unet/train/kech_59200_25600_jpg.rf.52a8e76a8d8137163b6340f67e0f13b7.jpg  \n",
            "  inflating: /content/drive/MyDrive/unet/train/kech_59200_25600_jpg.rf.8d0e6d8796876a8b38bdcb5773387200.jpg  \n",
            "  inflating: /content/drive/MyDrive/unet/train/kech_59200_26400_jpg.rf.3e6f9af27d83ecb3551aca1728a5cb69.jpg  \n",
            "  inflating: /content/drive/MyDrive/unet/train/kech_59200_26400_jpg.rf.6bf7f5e2d7bc7f0c9e7156cfd8640a43.jpg  \n",
            "  inflating: /content/drive/MyDrive/unet/train/kech_59200_26400_jpg.rf.d7253464bf7a0dc0df7a0bbb7a4441e8.jpg  \n",
            "  inflating: /content/drive/MyDrive/unet/train/ken_4000_3200_jpg.rf.0af7b366a0b418c8976f344a3c74ebba.jpg  \n",
            "  inflating: /content/drive/MyDrive/unet/train/ken_4000_3200_jpg.rf.9f0b42567d70d2287971b7217c53d6b3.jpg  \n",
            "  inflating: /content/drive/MyDrive/unet/train/ken_4000_3200_jpg.rf.fec7e05e3f308c65d302e061301c6be4.jpg  \n",
            "  inflating: /content/drive/MyDrive/unet/train/ken_4000_4000_jpg.rf.418a1ba85fd8c2a3a5d923aaf818cde7.jpg  \n",
            "  inflating: /content/drive/MyDrive/unet/train/ken_4000_4000_jpg.rf.4873805c0748ba4fff0ea231011edc91.jpg  \n",
            "  inflating: /content/drive/MyDrive/unet/train/ken_4000_4000_jpg.rf.6af6b94ca2f9782a7034f86e1f2ce19b.jpg  \n",
            "  inflating: /content/drive/MyDrive/unet/train/ken_4800_3200_jpg.rf.5b86fd68dde56b59705a4a0e5204f626.jpg  \n",
            "  inflating: /content/drive/MyDrive/unet/train/ken_4800_3200_jpg.rf.5ec5e866c17de6222d9ecfd83f0d7a80.jpg  \n",
            "  inflating: /content/drive/MyDrive/unet/train/ken_4800_3200_jpg.rf.dc9323911c11f24dcd8c6645676359f2.jpg  \n",
            "  inflating: /content/drive/MyDrive/unet/train/ken_5600_3200_jpg.rf.46c057d351c3e330440231f42981ba4d.jpg  \n",
            "  inflating: /content/drive/MyDrive/unet/train/ken_5600_3200_jpg.rf.572f3f153d3a22350998b9e262de5a97.jpg  \n",
            "  inflating: /content/drive/MyDrive/unet/train/ken_5600_3200_jpg.rf.ae1e8b6ff69658ad24534773359d7204.jpg  \n",
            "  inflating: /content/drive/MyDrive/unet/train/ken_5600_4000_jpg.rf.0e006ad99fab82ee913ddaf4fb171506.jpg  \n",
            "  inflating: /content/drive/MyDrive/unet/train/ken_5600_4000_jpg.rf.3b85a01e10f28d1f42ab4425aeec7266.jpg  \n",
            "  inflating: /content/drive/MyDrive/unet/train/ken_5600_4000_jpg.rf.6fec6dc6736946503b6c0e0f761b2a92.jpg  \n",
            "  inflating: /content/drive/MyDrive/unet/train/ken_5600_4800_jpg.rf.50c18860bc08884840ee4c79bd9ba79b.jpg  \n",
            "  inflating: /content/drive/MyDrive/unet/train/ken_5600_4800_jpg.rf.b0a73d4f28e19b6922a6860df5d4596d.jpg  \n",
            "  inflating: /content/drive/MyDrive/unet/train/ken_5600_4800_jpg.rf.bb6b3b2af53813338af949252a9a9d04.jpg  \n",
            "  inflating: /content/drive/MyDrive/unet/train/ken_6400_4000_jpg.rf.8bcd4fcde596d7d00b7248a690a751b7.jpg  \n",
            "  inflating: /content/drive/MyDrive/unet/train/ken_6400_4000_jpg.rf.c9c225f07a961e9da9d646b7a9e753f0.jpg  \n",
            "  inflating: /content/drive/MyDrive/unet/train/ken_6400_4000_jpg.rf.f95ce3c87f1e6d6e091bcc6dcd4191fd.jpg  \n",
            "  inflating: /content/drive/MyDrive/unet/train/laay_1600_0_jpg.rf.0eabfa281ab94be0cdf1339c64c99bf6.jpg  \n",
            "  inflating: /content/drive/MyDrive/unet/train/laay_1600_0_jpg.rf.5de9c7dda7c70d4817cc883a13182164.jpg  \n",
            "  inflating: /content/drive/MyDrive/unet/train/laay_1600_0_jpg.rf.77b7649962fe1ca79aa5c35589326607.jpg  \n",
            "  inflating: /content/drive/MyDrive/unet/train/nado_4000_800_jpg.rf.427b499ad688a621a0dce4f76b742aba.jpg  \n",
            "  inflating: /content/drive/MyDrive/unet/train/nado_4000_800_jpg.rf.86797f112c4ce8eb3971192eae0880ed.jpg  \n",
            "  inflating: /content/drive/MyDrive/unet/train/nado_4000_800_jpg.rf.88ba35884ad9a8d3551b647a9ce933ba.jpg  \n",
            "  inflating: /content/drive/MyDrive/unet/train/nado_5600_800_jpg.rf.0e7b6f7af7bae32b898a29362eb6ad43.jpg  \n",
            "  inflating: /content/drive/MyDrive/unet/train/nado_5600_800_jpg.rf.287ffe3a56317bb89a78b1d974c78ad1.jpg  \n",
            "  inflating: /content/drive/MyDrive/unet/train/nado_5600_800_jpg.rf.b1e4a90a41c284591c9d8c545f4d877b.jpg  \n",
            "  inflating: /content/drive/MyDrive/unet/train/rbt_11200_1600_jpg.rf.22deb4fb943002a18e78fde43039e5e7.jpg  \n",
            "  inflating: /content/drive/MyDrive/unet/train/rbt_11200_1600_jpg.rf.4bdd506a13c65773bb08b7dc652c1850.jpg  \n",
            "  inflating: /content/drive/MyDrive/unet/train/rbt_11200_1600_jpg.rf.757554d08aa8d94ea9a0054913f1cb05.jpg  \n",
            "  inflating: /content/drive/MyDrive/unet/train/rbt_12000_1600_jpg.rf.215c6ee3149065d6f8647d4f2e52831d.jpg  \n",
            "  inflating: /content/drive/MyDrive/unet/train/rbt_12000_1600_jpg.rf.4636758bba49162eea67d979fca30074.jpg  \n",
            "  inflating: /content/drive/MyDrive/unet/train/rbt_12000_1600_jpg.rf.50c9ce4cae316cdb79618c92a8faa3a9.jpg  \n",
            "  inflating: /content/drive/MyDrive/unet/train/rbt_1600_6400_jpg.rf.76554cbf24654d7e34db01fafd5433a2.jpg  \n",
            "  inflating: /content/drive/MyDrive/unet/train/rbt_1600_6400_jpg.rf.afb3dd5afbcb40b04a4228da61616a9f.jpg  \n",
            "  inflating: /content/drive/MyDrive/unet/train/rbt_1600_6400_jpg.rf.b817155c6b44410cb6a86bbc3cf839b8.jpg  \n",
            "  inflating: /content/drive/MyDrive/unet/train/rbt_2400_5600_jpg.rf.226e3eaad4720a407dce44b13a9af4b6.jpg  \n",
            "  inflating: /content/drive/MyDrive/unet/train/rbt_2400_5600_jpg.rf.a4b2b73ac1fa6e1e66bc227dc21f9182.jpg  \n",
            "  inflating: /content/drive/MyDrive/unet/train/rbt_2400_5600_jpg.rf.aa6a5a3f10f98a74c15c37962761b0e4.jpg  \n",
            "  inflating: /content/drive/MyDrive/unet/train/rbt_2400_6400_jpg.rf.10521aa60299e9c60b43259eb9a85136.jpg  \n",
            "  inflating: /content/drive/MyDrive/unet/train/rbt_2400_6400_jpg.rf.4c6680bf2a2a1e2b4b2f9bf0113c94f8.jpg  \n",
            "  inflating: /content/drive/MyDrive/unet/train/rbt_2400_6400_jpg.rf.cafff4f3fa1aaa8b11fe2ee6f0df43bd.jpg  \n",
            "  inflating: /content/drive/MyDrive/unet/train/rbt_4800_10400_jpg.rf.100f294ab6f942990ac14516d02d2a66.jpg  \n",
            "  inflating: /content/drive/MyDrive/unet/train/rbt_4800_10400_jpg.rf.6853ec344bbd1906c65be80faec91e75.jpg  \n",
            "  inflating: /content/drive/MyDrive/unet/train/rbt_4800_10400_jpg.rf.8c9def38c545f81248dd6216cdd2a82e.jpg  \n",
            "  inflating: /content/drive/MyDrive/unet/train/rbt_4800_9600_jpg.rf.3268a50993b29c1d3e454da8a1c75382.jpg  \n",
            "  inflating: /content/drive/MyDrive/unet/train/rbt_4800_9600_jpg.rf.bdc6eeb0c35165a3c40aa9aa8b333296.jpg  \n",
            "  inflating: /content/drive/MyDrive/unet/train/rbt_4800_9600_jpg.rf.f7b5b4fdce01fe37e1c7efc4cd0a7ed9.jpg  \n",
            "  inflating: /content/drive/MyDrive/unet/train/rbt_6400_9600_jpg.rf.5788a21abffa3ee681658d87240c5cb0.jpg  \n",
            "  inflating: /content/drive/MyDrive/unet/train/rbt_6400_9600_jpg.rf.62e559faf2c8d946316c26f0a8024256.jpg  \n",
            "  inflating: /content/drive/MyDrive/unet/train/rbt_6400_9600_jpg.rf.e2a9df2256f70f5961536bd5c5cd6601.jpg  \n",
            "  inflating: /content/drive/MyDrive/unet/train/rbt_7200_10400_jpg.rf.1e31973a5054b8f00985d14b917ecc1d.jpg  \n",
            "  inflating: /content/drive/MyDrive/unet/train/rbt_7200_10400_jpg.rf.b80793ded729967d0a0e3f8eddc85a0a.jpg  \n",
            "  inflating: /content/drive/MyDrive/unet/train/rbt_7200_10400_jpg.rf.cb7da31c9ce310bed78258da341b607a.jpg  \n",
            "  inflating: /content/drive/MyDrive/unet/train/rbt_7200_9600_jpg.rf.1ec1163fd386f606daa84e4d97270d67.jpg  \n",
            "  inflating: /content/drive/MyDrive/unet/train/rbt_7200_9600_jpg.rf.223825413fd04a5590ec3b20e8c9a711.jpg  \n",
            "  inflating: /content/drive/MyDrive/unet/train/rbt_7200_9600_jpg.rf.923598a214fa8e790635a9e76eb48745.jpg  \n",
            "  inflating: /content/drive/MyDrive/unet/train/rbt_800_6400_jpg.rf.0c7a880b1b679206663cab2bc7ffbb12.jpg  \n",
            "  inflating: /content/drive/MyDrive/unet/train/rbt_800_6400_jpg.rf.38d13b873c55f7f613611faf306cdf37.jpg  \n",
            "  inflating: /content/drive/MyDrive/unet/train/rbt_800_6400_jpg.rf.72be2282fbe2d680d39690c44f2f52c0.jpg  \n",
            "  inflating: /content/drive/MyDrive/unet/train/rbt_800_7200_jpg.rf.5af308f9f5f3bec4876dcaec26202f8e.jpg  \n",
            "  inflating: /content/drive/MyDrive/unet/train/rbt_800_7200_jpg.rf.82ac0e0e7d6179fbcd41f2f995835203.jpg  \n",
            "  inflating: /content/drive/MyDrive/unet/train/rbt_800_7200_jpg.rf.cf93bb84296434befe849ac272ac9dc9.jpg  \n",
            "  inflating: /content/drive/MyDrive/unet/train/rbt_8800_1600_jpg.rf.3c3d2ad54c4af361eeedc3f5814af5dd.jpg  \n",
            "  inflating: /content/drive/MyDrive/unet/train/rbt_8800_1600_jpg.rf.6177adb8db8db6eb21d418e4f69081a5.jpg  \n",
            "  inflating: /content/drive/MyDrive/unet/train/rbt_8800_1600_jpg.rf.a6d8a730ec5adf9d18f44312e063882e.jpg  \n",
            "  inflating: /content/drive/MyDrive/unet/train/tant_800_0_jpg.rf.41171e0365e20b69468eb9677e3c9bfe.jpg  \n",
            "  inflating: /content/drive/MyDrive/unet/train/tant_800_0_jpg.rf.94a4885be9320638def490b4ac1c88d4.jpg  \n",
            "  inflating: /content/drive/MyDrive/unet/train/tant_800_0_jpg.rf.f6bb499680d6414f7ee38ecab44d27be.jpg  \n",
            "  inflating: /content/drive/MyDrive/unet/train/tan_11200_4000_jpg.rf.1c6401e1f360ec49fbeb389eed37dad2.jpg  \n",
            "  inflating: /content/drive/MyDrive/unet/train/tan_11200_4000_jpg.rf.7a01d5c0aec4717280bb84f0fedec3d9.jpg  \n",
            "  inflating: /content/drive/MyDrive/unet/train/tan_11200_4000_jpg.rf.bb66040cd996806adf15b7b00b2aa56b.jpg  \n",
            "  inflating: /content/drive/MyDrive/unet/train/tit_0_0_jpg.rf.39a4e891a0663af4640e8b6ea6187be9.jpg  \n",
            "  inflating: /content/drive/MyDrive/unet/train/tit_0_0_jpg.rf.6f29d950329decb48ec9e78b4d858fe3.jpg  \n",
            "  inflating: /content/drive/MyDrive/unet/train/tit_0_0_jpg.rf.bce7c50534bafdd35b210f03cefa9df5.jpg  \n"
          ]
        }
      ]
    },
    {
      "cell_type": "code",
      "source": [
        "def split_dataset(images, masks, split=0.2):\n",
        "    split_size = int(len(images) * split)\n",
        "\n",
        "    train_x, valid_x = train_test_split(images, test_size=split_size, random_state=1)\n",
        "    train_y, valid_y = train_test_split(masks, test_size=split_size, random_state=1)\n",
        "\n",
        "    train_x, test_x = train_test_split(train_x, test_size=split_size, random_state=1)\n",
        "    train_y, test_y = train_test_split(train_y, test_size=split_size, random_state=1)\n",
        "\n",
        "    return (train_x, train_y), (valid_x, valid_y), (test_x, test_y)"
      ],
      "metadata": {
        "id": "ws9ts7KVlt51"
      },
      "execution_count": null,
      "outputs": []
    },
    {
      "cell_type": "code",
      "source": [
        "def create_dir(path):\n",
        "    if not os.path.exists(path):\n",
        "        os.makedirs(path)"
      ],
      "metadata": {
        "id": "QHil_naSlzg3"
      },
      "execution_count": null,
      "outputs": []
    },
    {
      "cell_type": "code",
      "source": [
        "def save_dataset(images, masks, save_dir):\n",
        "    for x, y in tqdm(zip(images, masks), total=len(images)):\n",
        "        name = x.split(\"/\")[-1]\n",
        "\n",
        "        x = cv2.imread(x, cv2.IMREAD_COLOR)\n",
        "        y = cv2.imread(y, cv2.IMREAD_COLOR)\n",
        "\n",
        "        save_image_path = os.path.join(save_dir, \"images\", name)\n",
        "        save_mask_path = os.path.join(save_dir, \"masks\", name)\n",
        "\n",
        "        cv2.imwrite(save_image_path, x)\n",
        "        cv2.imwrite(save_mask_path, y)"
      ],
      "metadata": {
        "id": "2iZMhInrl2Uh"
      },
      "execution_count": null,
      "outputs": []
    },
    {
      "cell_type": "code",
      "source": [
        "dataset_path = \"/content/drive/MyDrive/unet\""
      ],
      "metadata": {
        "id": "nuO4Ug2il4Bp"
      },
      "execution_count": null,
      "outputs": []
    },
    {
      "cell_type": "code",
      "source": [
        "def load_dataset(path):\n",
        "  images = sorted(glob(os.path.join(path, \"images\", \"*\")))\n",
        "  masks = sorted(glob(os.path.join(path, \"masks\", \"*\")))\n",
        "  return images, masks"
      ],
      "metadata": {
        "id": "MX5QODUel976"
      },
      "execution_count": null,
      "outputs": []
    },
    {
      "cell_type": "code",
      "source": [
        "images, masks = load_dataset(dataset_path)\n",
        "print(f\"Images: {len(images)} - Masks: {len(masks)}\")"
      ],
      "metadata": {
        "colab": {
          "base_uri": "https://localhost:8080/"
        },
        "id": "iRt59l6amBNk",
        "outputId": "200bc473-7c7e-4c72-8d01-6c888a522a8c"
      },
      "execution_count": null,
      "outputs": [
        {
          "output_type": "stream",
          "name": "stdout",
          "text": [
            "Images: 297 - Masks: 297\n"
          ]
        }
      ]
    },
    {
      "cell_type": "code",
      "source": [
        "for x, y in zip(images, masks):\n",
        "    print(x, y)"
      ],
      "metadata": {
        "colab": {
          "base_uri": "https://localhost:8080/"
        },
        "id": "Gf_x5MwwmBn9",
        "outputId": "bbe24dea-3788-41c9-a56a-cec0fa833ed2"
      },
      "execution_count": null,
      "outputs": [
        {
          "output_type": "stream",
          "name": "stdout",
          "text": [
            "/content/drive/MyDrive/unet/images/ag_2400_0_jpg.rf.49cce0e04dcb27a93c3f0ba053b607ed.jpg /content/drive/MyDrive/unet/masks/ag_2400_0_jpg.rf.49cce0e04dcb27a93c3f0ba053b607ed.jpg\n",
            "/content/drive/MyDrive/unet/images/ag_2400_0_jpg.rf.8abb7796498d0450a801f1ad07885c85.jpg /content/drive/MyDrive/unet/masks/ag_2400_0_jpg.rf.8abb7796498d0450a801f1ad07885c85.jpg\n",
            "/content/drive/MyDrive/unet/images/ag_2400_0_jpg.rf.f7db6abb783442875cea3219c98e49a2.jpg /content/drive/MyDrive/unet/masks/ag_2400_0_jpg.rf.f7db6abb783442875cea3219c98e49a2.jpg\n",
            "/content/drive/MyDrive/unet/images/ag_800_0_jpg.rf.73fe503ca46e9a586396030fdc6b254d.jpg /content/drive/MyDrive/unet/masks/ag_800_0_jpg.rf.73fe503ca46e9a586396030fdc6b254d.jpg\n",
            "/content/drive/MyDrive/unet/images/ag_800_0_jpg.rf.bd1fdbc31e0d7beb3fc17effa712a638.jpg /content/drive/MyDrive/unet/masks/ag_800_0_jpg.rf.bd1fdbc31e0d7beb3fc17effa712a638.jpg\n",
            "/content/drive/MyDrive/unet/images/ag_800_0_jpg.rf.c6d4dd52e0839841434bb426fda515fc.jpg /content/drive/MyDrive/unet/masks/ag_800_0_jpg.rf.c6d4dd52e0839841434bb426fda515fc.jpg\n",
            "/content/drive/MyDrive/unet/images/beni_2400_800_jpg.rf.152e271e0d05ab5dcfb2a338b3478784.jpg /content/drive/MyDrive/unet/masks/beni_2400_800_jpg.rf.152e271e0d05ab5dcfb2a338b3478784.jpg\n",
            "/content/drive/MyDrive/unet/images/beni_2400_800_jpg.rf.ee432b6c1f54a0779851ca0cd2da0969.jpg /content/drive/MyDrive/unet/masks/beni_2400_800_jpg.rf.ee432b6c1f54a0779851ca0cd2da0969.jpg\n",
            "/content/drive/MyDrive/unet/images/beni_2400_800_jpg.rf.fdc7e23c5bc776589f2750efc706678d.jpg /content/drive/MyDrive/unet/masks/beni_2400_800_jpg.rf.fdc7e23c5bc776589f2750efc706678d.jpg\n",
            "/content/drive/MyDrive/unet/images/bens_3200_1600_jpg.rf.36ea4e3b4ffe6d9bb1d9bcd2960acbd1.jpg /content/drive/MyDrive/unet/masks/bens_3200_1600_jpg.rf.36ea4e3b4ffe6d9bb1d9bcd2960acbd1.jpg\n",
            "/content/drive/MyDrive/unet/images/bens_3200_1600_jpg.rf.62e15b6f7d9962f7dc62c1e374761934.jpg /content/drive/MyDrive/unet/masks/bens_3200_1600_jpg.rf.62e15b6f7d9962f7dc62c1e374761934.jpg\n",
            "/content/drive/MyDrive/unet/images/bens_3200_1600_jpg.rf.ee543cb59fd0b4d52d14a09ad124587e.jpg /content/drive/MyDrive/unet/masks/bens_3200_1600_jpg.rf.ee543cb59fd0b4d52d14a09ad124587e.jpg\n",
            "/content/drive/MyDrive/unet/images/bens_3200_2400_jpg.rf.7ef8a40ab30a88f3333cedd7864532a5.jpg /content/drive/MyDrive/unet/masks/bens_3200_2400_jpg.rf.7ef8a40ab30a88f3333cedd7864532a5.jpg\n",
            "/content/drive/MyDrive/unet/images/bens_3200_2400_jpg.rf.a9265161a014b14c5c0ede5f47b13b64.jpg /content/drive/MyDrive/unet/masks/bens_3200_2400_jpg.rf.a9265161a014b14c5c0ede5f47b13b64.jpg\n",
            "/content/drive/MyDrive/unet/images/bens_3200_2400_jpg.rf.c1d8c75494173bbdb1e1212a3756838a.jpg /content/drive/MyDrive/unet/masks/bens_3200_2400_jpg.rf.c1d8c75494173bbdb1e1212a3756838a.jpg\n",
            "/content/drive/MyDrive/unet/images/bens_4000_2400_jpg.rf.5d35f8c7ecf36a3ab71862997f632e50.jpg /content/drive/MyDrive/unet/masks/bens_4000_2400_jpg.rf.5d35f8c7ecf36a3ab71862997f632e50.jpg\n",
            "/content/drive/MyDrive/unet/images/bens_4000_2400_jpg.rf.8f9e7b22dd0823f06a82836b285d3e73.jpg /content/drive/MyDrive/unet/masks/bens_4000_2400_jpg.rf.8f9e7b22dd0823f06a82836b285d3e73.jpg\n",
            "/content/drive/MyDrive/unet/images/bens_4000_2400_jpg.rf.cc12c9611fca1fe88ae552d1c4171fdb.jpg /content/drive/MyDrive/unet/masks/bens_4000_2400_jpg.rf.cc12c9611fca1fe88ae552d1c4171fdb.jpg\n",
            "/content/drive/MyDrive/unet/images/bens_4000_3200_jpg.rf.67067917e41160074e34dc7461d73f86.jpg /content/drive/MyDrive/unet/masks/bens_4000_3200_jpg.rf.67067917e41160074e34dc7461d73f86.jpg\n",
            "/content/drive/MyDrive/unet/images/bens_4000_3200_jpg.rf.9dc34ccee7bb0a446b7f1722868aa127.jpg /content/drive/MyDrive/unet/masks/bens_4000_3200_jpg.rf.9dc34ccee7bb0a446b7f1722868aa127.jpg\n",
            "/content/drive/MyDrive/unet/images/bens_4000_3200_jpg.rf.a00e7edb2c992f01a5999edb1a43a6be.jpg /content/drive/MyDrive/unet/masks/bens_4000_3200_jpg.rf.a00e7edb2c992f01a5999edb1a43a6be.jpg\n",
            "/content/drive/MyDrive/unet/images/chunk_11200_11200_jpg.rf.2e321cfdab2e78e29307808fc196f2ff.jpg /content/drive/MyDrive/unet/masks/chunk_11200_11200_jpg.rf.2e321cfdab2e78e29307808fc196f2ff.jpg\n",
            "/content/drive/MyDrive/unet/images/chunk_11200_11200_jpg.rf.8f9d2b84a5a62368b710a890b505cc21.jpg /content/drive/MyDrive/unet/masks/chunk_11200_11200_jpg.rf.8f9d2b84a5a62368b710a890b505cc21.jpg\n",
            "/content/drive/MyDrive/unet/images/chunk_11200_11200_jpg.rf.e7511f8125059618c834a70fc710f9f8.jpg /content/drive/MyDrive/unet/masks/chunk_11200_11200_jpg.rf.e7511f8125059618c834a70fc710f9f8.jpg\n",
            "/content/drive/MyDrive/unet/images/chunk_1600_4800_jpg.rf.21c142f85cb997f13a4be3416c27f1ca.jpg /content/drive/MyDrive/unet/masks/chunk_1600_4800_jpg.rf.21c142f85cb997f13a4be3416c27f1ca.jpg\n",
            "/content/drive/MyDrive/unet/images/chunk_1600_4800_jpg.rf.30d4aa0549ed0b7dbab3eeaeeb89e473.jpg /content/drive/MyDrive/unet/masks/chunk_1600_4800_jpg.rf.30d4aa0549ed0b7dbab3eeaeeb89e473.jpg\n",
            "/content/drive/MyDrive/unet/images/chunk_1600_4800_jpg.rf.946cd06d58642964bf67efa8942eb2f0.jpg /content/drive/MyDrive/unet/masks/chunk_1600_4800_jpg.rf.946cd06d58642964bf67efa8942eb2f0.jpg\n",
            "/content/drive/MyDrive/unet/images/chunk_2400_3200_jpg.rf.060c8cdc207ae931f27d5cbc9bacd85d.jpg /content/drive/MyDrive/unet/masks/chunk_2400_3200_jpg.rf.060c8cdc207ae931f27d5cbc9bacd85d.jpg\n",
            "/content/drive/MyDrive/unet/images/chunk_2400_3200_jpg.rf.b03739e765e70329e43ebf6164ec6e44.jpg /content/drive/MyDrive/unet/masks/chunk_2400_3200_jpg.rf.b03739e765e70329e43ebf6164ec6e44.jpg\n",
            "/content/drive/MyDrive/unet/images/chunk_2400_3200_jpg.rf.d5f504dfd69c97cc37fac38067ff2cbb.jpg /content/drive/MyDrive/unet/masks/chunk_2400_3200_jpg.rf.d5f504dfd69c97cc37fac38067ff2cbb.jpg\n",
            "/content/drive/MyDrive/unet/images/chunk_4000_1600_jpg.rf.762a19e16631d6ae22e1f84a5ac8cfe0.jpg /content/drive/MyDrive/unet/masks/chunk_4000_1600_jpg.rf.762a19e16631d6ae22e1f84a5ac8cfe0.jpg\n",
            "/content/drive/MyDrive/unet/images/chunk_4000_1600_jpg.rf.a7147b8daa0648e2aa12401090b7b931.jpg /content/drive/MyDrive/unet/masks/chunk_4000_1600_jpg.rf.a7147b8daa0648e2aa12401090b7b931.jpg\n",
            "/content/drive/MyDrive/unet/images/chunk_4000_1600_jpg.rf.d690974b15c712eea83a6b93f49f7e61.jpg /content/drive/MyDrive/unet/masks/chunk_4000_1600_jpg.rf.d690974b15c712eea83a6b93f49f7e61.jpg\n",
            "/content/drive/MyDrive/unet/images/chunk_4000_2400_jpg.rf.7d78792e1f3d1938d7d85fdae33b5a63.jpg /content/drive/MyDrive/unet/masks/chunk_4000_2400_jpg.rf.7d78792e1f3d1938d7d85fdae33b5a63.jpg\n",
            "/content/drive/MyDrive/unet/images/chunk_4000_2400_jpg.rf.f2da72e71fd26870cfb8fa23624a852f.jpg /content/drive/MyDrive/unet/masks/chunk_4000_2400_jpg.rf.f2da72e71fd26870cfb8fa23624a852f.jpg\n",
            "/content/drive/MyDrive/unet/images/chunk_4000_2400_jpg.rf.fe6477b0dd6019c27b1f47bcb06e4fe9.jpg /content/drive/MyDrive/unet/masks/chunk_4000_2400_jpg.rf.fe6477b0dd6019c27b1f47bcb06e4fe9.jpg\n",
            "/content/drive/MyDrive/unet/images/chunk_4000_800_jpg.rf.9e9649315455aff0b96c1ff98d6ec845.jpg /content/drive/MyDrive/unet/masks/chunk_4000_800_jpg.rf.9e9649315455aff0b96c1ff98d6ec845.jpg\n",
            "/content/drive/MyDrive/unet/images/chunk_4000_800_jpg.rf.df5fdd58ab54ec71e3ed724dab0726dd.jpg /content/drive/MyDrive/unet/masks/chunk_4000_800_jpg.rf.df5fdd58ab54ec71e3ed724dab0726dd.jpg\n",
            "/content/drive/MyDrive/unet/images/chunk_4000_800_jpg.rf.e19a0f23d1f693f582e4813a2bdcfbd6.jpg /content/drive/MyDrive/unet/masks/chunk_4000_800_jpg.rf.e19a0f23d1f693f582e4813a2bdcfbd6.jpg\n",
            "/content/drive/MyDrive/unet/images/chunk_4800_4800_jpg.rf.49af09b2a353a9633e14e275080ae658.jpg /content/drive/MyDrive/unet/masks/chunk_4800_4800_jpg.rf.49af09b2a353a9633e14e275080ae658.jpg\n",
            "/content/drive/MyDrive/unet/images/chunk_4800_4800_jpg.rf.66a7ec789f1c429b864561da1d303686.jpg /content/drive/MyDrive/unet/masks/chunk_4800_4800_jpg.rf.66a7ec789f1c429b864561da1d303686.jpg\n",
            "/content/drive/MyDrive/unet/images/chunk_4800_4800_jpg.rf.8f5a035166ceb9065fafb83fd6cc61c2.jpg /content/drive/MyDrive/unet/masks/chunk_4800_4800_jpg.rf.8f5a035166ceb9065fafb83fd6cc61c2.jpg\n",
            "/content/drive/MyDrive/unet/images/chunk_5600_5600_jpg.rf.3abf90b2f457138095046dfbdac32dc7.jpg /content/drive/MyDrive/unet/masks/chunk_5600_5600_jpg.rf.3abf90b2f457138095046dfbdac32dc7.jpg\n",
            "/content/drive/MyDrive/unet/images/chunk_5600_5600_jpg.rf.8e84555a08ab9c7c1ba00fe13f7fe611.jpg /content/drive/MyDrive/unet/masks/chunk_5600_5600_jpg.rf.8e84555a08ab9c7c1ba00fe13f7fe611.jpg\n",
            "/content/drive/MyDrive/unet/images/chunk_5600_5600_jpg.rf.ab6853d8de13e5aa40998c9cf7a93929.jpg /content/drive/MyDrive/unet/masks/chunk_5600_5600_jpg.rf.ab6853d8de13e5aa40998c9cf7a93929.jpg\n",
            "/content/drive/MyDrive/unet/images/chunk_5600_6400_jpg.rf.2e1e02b4e2c9660c10b2b29b7c38c274.jpg /content/drive/MyDrive/unet/masks/chunk_5600_6400_jpg.rf.2e1e02b4e2c9660c10b2b29b7c38c274.jpg\n",
            "/content/drive/MyDrive/unet/images/chunk_5600_6400_jpg.rf.c23a2dac84e0389a892eebe59e828a0d.jpg /content/drive/MyDrive/unet/masks/chunk_5600_6400_jpg.rf.c23a2dac84e0389a892eebe59e828a0d.jpg\n",
            "/content/drive/MyDrive/unet/images/chunk_5600_6400_jpg.rf.db048da71c3bf4107ba6f2e8d5d5d80d.jpg /content/drive/MyDrive/unet/masks/chunk_5600_6400_jpg.rf.db048da71c3bf4107ba6f2e8d5d5d80d.jpg\n",
            "/content/drive/MyDrive/unet/images/chunk_5600_8800_jpg.rf.678b0ccffe1fa0d99b908f27448ba5ca.jpg /content/drive/MyDrive/unet/masks/chunk_5600_8800_jpg.rf.678b0ccffe1fa0d99b908f27448ba5ca.jpg\n",
            "/content/drive/MyDrive/unet/images/chunk_5600_8800_jpg.rf.b58cc967b444297529f3104f60e6db1e.jpg /content/drive/MyDrive/unet/masks/chunk_5600_8800_jpg.rf.b58cc967b444297529f3104f60e6db1e.jpg\n",
            "/content/drive/MyDrive/unet/images/chunk_5600_8800_jpg.rf.b6cc2f25a3cc6dd44470bf9a30ea3fa5.jpg /content/drive/MyDrive/unet/masks/chunk_5600_8800_jpg.rf.b6cc2f25a3cc6dd44470bf9a30ea3fa5.jpg\n",
            "/content/drive/MyDrive/unet/images/chunk_6400_8000_jpg.rf.3cf3b41a63d9592511d2c27cfeb3bd26.jpg /content/drive/MyDrive/unet/masks/chunk_6400_8000_jpg.rf.3cf3b41a63d9592511d2c27cfeb3bd26.jpg\n",
            "/content/drive/MyDrive/unet/images/chunk_6400_8000_jpg.rf.8dea670ed419817ae54bd931260df134.jpg /content/drive/MyDrive/unet/masks/chunk_6400_8000_jpg.rf.8dea670ed419817ae54bd931260df134.jpg\n",
            "/content/drive/MyDrive/unet/images/chunk_6400_8000_jpg.rf.b9d3d815148a8d8b67d13e6aef389bdb.jpg /content/drive/MyDrive/unet/masks/chunk_6400_8000_jpg.rf.b9d3d815148a8d8b67d13e6aef389bdb.jpg\n",
            "/content/drive/MyDrive/unet/images/chunk_6400_800_jpg.rf.030b0c5c6bf359103bd7a8d3a840d71b.jpg /content/drive/MyDrive/unet/masks/chunk_6400_800_jpg.rf.030b0c5c6bf359103bd7a8d3a840d71b.jpg\n",
            "/content/drive/MyDrive/unet/images/chunk_6400_800_jpg.rf.652485e9559b2c4006425046e97bf509.jpg /content/drive/MyDrive/unet/masks/chunk_6400_800_jpg.rf.652485e9559b2c4006425046e97bf509.jpg\n",
            "/content/drive/MyDrive/unet/images/chunk_6400_800_jpg.rf.bc12a7e42935f9ae9969d35a8627d168.jpg /content/drive/MyDrive/unet/masks/chunk_6400_800_jpg.rf.bc12a7e42935f9ae9969d35a8627d168.jpg\n",
            "/content/drive/MyDrive/unet/images/chunk_7200_7200_jpg.rf.6b76c3de46b5b0433652a78a825ca669.jpg /content/drive/MyDrive/unet/masks/chunk_7200_7200_jpg.rf.6b76c3de46b5b0433652a78a825ca669.jpg\n",
            "/content/drive/MyDrive/unet/images/chunk_7200_7200_jpg.rf.9b669fe7e90c63da2413a8d58299385e.jpg /content/drive/MyDrive/unet/masks/chunk_7200_7200_jpg.rf.9b669fe7e90c63da2413a8d58299385e.jpg\n",
            "/content/drive/MyDrive/unet/images/chunk_7200_7200_jpg.rf.f1438ac624891e0e8bf451a0194cb044.jpg /content/drive/MyDrive/unet/masks/chunk_7200_7200_jpg.rf.f1438ac624891e0e8bf451a0194cb044.jpg\n",
            "/content/drive/MyDrive/unet/images/chunk_7200_8000_jpg.rf.1173e85db56ae2edaa9ad9937c2c65b3.jpg /content/drive/MyDrive/unet/masks/chunk_7200_8000_jpg.rf.1173e85db56ae2edaa9ad9937c2c65b3.jpg\n",
            "/content/drive/MyDrive/unet/images/chunk_7200_8000_jpg.rf.158387d49b8835eaeba28ad5d06a09bc.jpg /content/drive/MyDrive/unet/masks/chunk_7200_8000_jpg.rf.158387d49b8835eaeba28ad5d06a09bc.jpg\n",
            "/content/drive/MyDrive/unet/images/chunk_7200_8000_jpg.rf.73a7de558b703f2146a514db551f38f4.jpg /content/drive/MyDrive/unet/masks/chunk_7200_8000_jpg.rf.73a7de558b703f2146a514db551f38f4.jpg\n",
            "/content/drive/MyDrive/unet/images/chunk_8000_800_jpg.rf.36578582cc54d354d920d13cf812f76b.jpg /content/drive/MyDrive/unet/masks/chunk_8000_800_jpg.rf.36578582cc54d354d920d13cf812f76b.jpg\n",
            "/content/drive/MyDrive/unet/images/chunk_8000_800_jpg.rf.a0d8cf2c4795d8dbf584a73016b98c2a.jpg /content/drive/MyDrive/unet/masks/chunk_8000_800_jpg.rf.a0d8cf2c4795d8dbf584a73016b98c2a.jpg\n",
            "/content/drive/MyDrive/unet/images/chunk_8000_800_jpg.rf.f8b6c6bca1c9f0796e79f7ba49888c69.jpg /content/drive/MyDrive/unet/masks/chunk_8000_800_jpg.rf.f8b6c6bca1c9f0796e79f7ba49888c69.jpg\n",
            "/content/drive/MyDrive/unet/images/dakh_1600_800_jpg.rf.45a48c287a84b46c336a22ca11e75d5c.jpg /content/drive/MyDrive/unet/masks/dakh_1600_800_jpg.rf.45a48c287a84b46c336a22ca11e75d5c.jpg\n",
            "/content/drive/MyDrive/unet/images/dakh_1600_800_jpg.rf.8ab33d2351511cde5a0f11b4a7d655f8.jpg /content/drive/MyDrive/unet/masks/dakh_1600_800_jpg.rf.8ab33d2351511cde5a0f11b4a7d655f8.jpg\n",
            "/content/drive/MyDrive/unet/images/dakh_1600_800_jpg.rf.a79e1f28e2ee6aa2dc08f57d6e1f92ad.jpg /content/drive/MyDrive/unet/masks/dakh_1600_800_jpg.rf.a79e1f28e2ee6aa2dc08f57d6e1f92ad.jpg\n",
            "/content/drive/MyDrive/unet/images/err_800_0_jpg.rf.01a39e6cfbd027a10afb458e48b05d59.jpg /content/drive/MyDrive/unet/masks/err_800_0_jpg.rf.01a39e6cfbd027a10afb458e48b05d59.jpg\n",
            "/content/drive/MyDrive/unet/images/err_800_0_jpg.rf.4a96066f223beb8b7c716b2d20cae5b6.jpg /content/drive/MyDrive/unet/masks/err_800_0_jpg.rf.4a96066f223beb8b7c716b2d20cae5b6.jpg\n",
            "/content/drive/MyDrive/unet/images/err_800_0_jpg.rf.b365e3f38761c511d5a9138cfed5487e.jpg /content/drive/MyDrive/unet/masks/err_800_0_jpg.rf.b365e3f38761c511d5a9138cfed5487e.jpg\n",
            "/content/drive/MyDrive/unet/images/ess_800_0_jpg.rf.5761da1fe00d8e4424080a15b53f5b1a.jpg /content/drive/MyDrive/unet/masks/ess_800_0_jpg.rf.5761da1fe00d8e4424080a15b53f5b1a.jpg\n",
            "/content/drive/MyDrive/unet/images/ess_800_0_jpg.rf.9a5b34dfdf79094de41fb20b8030baa3.jpg /content/drive/MyDrive/unet/masks/ess_800_0_jpg.rf.9a5b34dfdf79094de41fb20b8030baa3.jpg\n",
            "/content/drive/MyDrive/unet/images/ess_800_0_jpg.rf.c538d75acbfc387c0e4a00fe176d736f.jpg /content/drive/MyDrive/unet/masks/ess_800_0_jpg.rf.c538d75acbfc387c0e4a00fe176d736f.jpg\n",
            "/content/drive/MyDrive/unet/images/fes_4800_800_jpg.rf.113d93fa127651bb6f333cea26196708.jpg /content/drive/MyDrive/unet/masks/fes_4800_800_jpg.rf.113d93fa127651bb6f333cea26196708.jpg\n",
            "/content/drive/MyDrive/unet/images/fes_4800_800_jpg.rf.19fb744b11e3d6afaad63db4d274f3ca.jpg /content/drive/MyDrive/unet/masks/fes_4800_800_jpg.rf.19fb744b11e3d6afaad63db4d274f3ca.jpg\n",
            "/content/drive/MyDrive/unet/images/fes_4800_800_jpg.rf.21d09c40dbd9239358942e02d5b54b26.jpg /content/drive/MyDrive/unet/masks/fes_4800_800_jpg.rf.21d09c40dbd9239358942e02d5b54b26.jpg\n",
            "/content/drive/MyDrive/unet/images/fes_6400_800_jpg.rf.42dbec10fca4ddfa144eb1ea885b4c4c.jpg /content/drive/MyDrive/unet/masks/fes_6400_800_jpg.rf.42dbec10fca4ddfa144eb1ea885b4c4c.jpg\n",
            "/content/drive/MyDrive/unet/images/fes_6400_800_jpg.rf.5925c6e3710ab3896b94ef01c0062866.jpg /content/drive/MyDrive/unet/masks/fes_6400_800_jpg.rf.5925c6e3710ab3896b94ef01c0062866.jpg\n",
            "/content/drive/MyDrive/unet/images/fes_6400_800_jpg.rf.6faba4f5c31f03bedcb4f5ce86eac6f5.jpg /content/drive/MyDrive/unet/masks/fes_6400_800_jpg.rf.6faba4f5c31f03bedcb4f5ce86eac6f5.jpg\n",
            "/content/drive/MyDrive/unet/images/fes_7200_800_jpg.rf.6053daf9a8f0b9c2f1918e5c3729631e.jpg /content/drive/MyDrive/unet/masks/fes_7200_800_jpg.rf.6053daf9a8f0b9c2f1918e5c3729631e.jpg\n",
            "/content/drive/MyDrive/unet/images/fes_7200_800_jpg.rf.a6f1d8a5dd7c643e8264adc18bd85051.jpg /content/drive/MyDrive/unet/masks/fes_7200_800_jpg.rf.a6f1d8a5dd7c643e8264adc18bd85051.jpg\n",
            "/content/drive/MyDrive/unet/images/fes_7200_800_jpg.rf.e464342462c73338203e28b49a66093f.jpg /content/drive/MyDrive/unet/masks/fes_7200_800_jpg.rf.e464342462c73338203e28b49a66093f.jpg\n",
            "/content/drive/MyDrive/unet/images/kech_16800_24000_jpg.rf.24bfc2f815819b4a9b3ddfd2c3916288.jpg /content/drive/MyDrive/unet/masks/kech_16800_24000_jpg.rf.24bfc2f815819b4a9b3ddfd2c3916288.jpg\n",
            "/content/drive/MyDrive/unet/images/kech_16800_24000_jpg.rf.2d43b7d22f5f09e1f9f7a9c1ef34a8f0.jpg /content/drive/MyDrive/unet/masks/kech_16800_24000_jpg.rf.2d43b7d22f5f09e1f9f7a9c1ef34a8f0.jpg\n",
            "/content/drive/MyDrive/unet/images/kech_16800_24000_jpg.rf.5e36a294428f3d4d5cf45f8bc7237c54.jpg /content/drive/MyDrive/unet/masks/kech_16800_24000_jpg.rf.5e36a294428f3d4d5cf45f8bc7237c54.jpg\n",
            "/content/drive/MyDrive/unet/images/kech_18400_24000_jpg.rf.229a87110ff1832656d9c242f2df5acd.jpg /content/drive/MyDrive/unet/masks/kech_18400_24000_jpg.rf.229a87110ff1832656d9c242f2df5acd.jpg\n",
            "/content/drive/MyDrive/unet/images/kech_18400_24000_jpg.rf.2607adeec4fb4f296ba7e020d6424a20.jpg /content/drive/MyDrive/unet/masks/kech_18400_24000_jpg.rf.2607adeec4fb4f296ba7e020d6424a20.jpg\n",
            "/content/drive/MyDrive/unet/images/kech_18400_24000_jpg.rf.29351ad01974589061d79b17dd7b88ed.jpg /content/drive/MyDrive/unet/masks/kech_18400_24000_jpg.rf.29351ad01974589061d79b17dd7b88ed.jpg\n",
            "/content/drive/MyDrive/unet/images/kech_20800_23200_jpg.rf.abb2bfc8ed2c1fb1f8c595a7aef524dd.jpg /content/drive/MyDrive/unet/masks/kech_20800_23200_jpg.rf.abb2bfc8ed2c1fb1f8c595a7aef524dd.jpg\n",
            "/content/drive/MyDrive/unet/images/kech_20800_23200_jpg.rf.ce3b2fe5881f474cb053cb07ff19ba5a.jpg /content/drive/MyDrive/unet/masks/kech_20800_23200_jpg.rf.ce3b2fe5881f474cb053cb07ff19ba5a.jpg\n",
            "/content/drive/MyDrive/unet/images/kech_20800_23200_jpg.rf.e4441fae1c201570e3de4dabdd8be4a3.jpg /content/drive/MyDrive/unet/masks/kech_20800_23200_jpg.rf.e4441fae1c201570e3de4dabdd8be4a3.jpg\n",
            "/content/drive/MyDrive/unet/images/kech_20800_24000_jpg.rf.04d2eb130277ed52830bf15930811ff3.jpg /content/drive/MyDrive/unet/masks/kech_20800_24000_jpg.rf.04d2eb130277ed52830bf15930811ff3.jpg\n",
            "/content/drive/MyDrive/unet/images/kech_20800_24000_jpg.rf.c862bc800fe1971bfd618f7da27bf274.jpg /content/drive/MyDrive/unet/masks/kech_20800_24000_jpg.rf.c862bc800fe1971bfd618f7da27bf274.jpg\n",
            "/content/drive/MyDrive/unet/images/kech_20800_24000_jpg.rf.c956e0d48e91802f61c60a381d7aaaa7.jpg /content/drive/MyDrive/unet/masks/kech_20800_24000_jpg.rf.c956e0d48e91802f61c60a381d7aaaa7.jpg\n",
            "/content/drive/MyDrive/unet/images/kech_27200_4000_jpg.rf.0653d13bfa1d489be760275672646ff9.jpg /content/drive/MyDrive/unet/masks/kech_27200_4000_jpg.rf.0653d13bfa1d489be760275672646ff9.jpg\n",
            "/content/drive/MyDrive/unet/images/kech_27200_4000_jpg.rf.5328a7b3a419d704a0042f6f2e651c33.jpg /content/drive/MyDrive/unet/masks/kech_27200_4000_jpg.rf.5328a7b3a419d704a0042f6f2e651c33.jpg\n",
            "/content/drive/MyDrive/unet/images/kech_27200_4000_jpg.rf.9261a2897871370e3251b84e1ce1740f.jpg /content/drive/MyDrive/unet/masks/kech_27200_4000_jpg.rf.9261a2897871370e3251b84e1ce1740f.jpg\n",
            "/content/drive/MyDrive/unet/images/kech_28000_2400_jpg.rf.1b0d29f2e0e6a1cd9f5f5ce9eb55cdc9.jpg /content/drive/MyDrive/unet/masks/kech_28000_2400_jpg.rf.1b0d29f2e0e6a1cd9f5f5ce9eb55cdc9.jpg\n",
            "/content/drive/MyDrive/unet/images/kech_28000_2400_jpg.rf.6907d4a9de192c0977762ffa1ae78a2f.jpg /content/drive/MyDrive/unet/masks/kech_28000_2400_jpg.rf.6907d4a9de192c0977762ffa1ae78a2f.jpg\n",
            "/content/drive/MyDrive/unet/images/kech_28000_2400_jpg.rf.729639489308348b6075f2e622e1413e.jpg /content/drive/MyDrive/unet/masks/kech_28000_2400_jpg.rf.729639489308348b6075f2e622e1413e.jpg\n",
            "/content/drive/MyDrive/unet/images/kech_28000_4000_jpg.rf.191ac57bfce0d0a4cc7fab1eb89276be.jpg /content/drive/MyDrive/unet/masks/kech_28000_4000_jpg.rf.191ac57bfce0d0a4cc7fab1eb89276be.jpg\n",
            "/content/drive/MyDrive/unet/images/kech_28000_4000_jpg.rf.1ec038dcafd266fcf805ae38251ad40f.jpg /content/drive/MyDrive/unet/masks/kech_28000_4000_jpg.rf.1ec038dcafd266fcf805ae38251ad40f.jpg\n",
            "/content/drive/MyDrive/unet/images/kech_28000_4000_jpg.rf.d313849d943a10f7d2e86bcf874f601a.jpg /content/drive/MyDrive/unet/masks/kech_28000_4000_jpg.rf.d313849d943a10f7d2e86bcf874f601a.jpg\n",
            "/content/drive/MyDrive/unet/images/kech_29600_4000_jpg.rf.50c7b8a9a6cf618278ed09000c25918d.jpg /content/drive/MyDrive/unet/masks/kech_29600_4000_jpg.rf.50c7b8a9a6cf618278ed09000c25918d.jpg\n",
            "/content/drive/MyDrive/unet/images/kech_29600_4000_jpg.rf.b390d323c126fa9275c496ead9109c7c.jpg /content/drive/MyDrive/unet/masks/kech_29600_4000_jpg.rf.b390d323c126fa9275c496ead9109c7c.jpg\n",
            "/content/drive/MyDrive/unet/images/kech_29600_4000_jpg.rf.d6c42b303b5ec071f7bd5f6de5f76953.jpg /content/drive/MyDrive/unet/masks/kech_29600_4000_jpg.rf.d6c42b303b5ec071f7bd5f6de5f76953.jpg\n",
            "/content/drive/MyDrive/unet/images/kech_32000_4000_jpg.rf.0cdcbe45fa2705e9c012629d646e5c67.jpg /content/drive/MyDrive/unet/masks/kech_32000_4000_jpg.rf.0cdcbe45fa2705e9c012629d646e5c67.jpg\n",
            "/content/drive/MyDrive/unet/images/kech_32000_4000_jpg.rf.178b8c78db2c6e2d6603b9a4802a31a5.jpg /content/drive/MyDrive/unet/masks/kech_32000_4000_jpg.rf.178b8c78db2c6e2d6603b9a4802a31a5.jpg\n",
            "/content/drive/MyDrive/unet/images/kech_32000_4000_jpg.rf.ede851da71f462a7014cfdec59e3e7e6.jpg /content/drive/MyDrive/unet/masks/kech_32000_4000_jpg.rf.ede851da71f462a7014cfdec59e3e7e6.jpg\n",
            "/content/drive/MyDrive/unet/images/kech_34400_4800_jpg.rf.04a30c2a8b841bef3190c9c5f1840dd9.jpg /content/drive/MyDrive/unet/masks/kech_34400_4800_jpg.rf.04a30c2a8b841bef3190c9c5f1840dd9.jpg\n",
            "/content/drive/MyDrive/unet/images/kech_34400_4800_jpg.rf.a7d3452f832fdb15039510970fc5f880.jpg /content/drive/MyDrive/unet/masks/kech_34400_4800_jpg.rf.a7d3452f832fdb15039510970fc5f880.jpg\n",
            "/content/drive/MyDrive/unet/images/kech_34400_4800_jpg.rf.d3ed694bdd95c7dc8938c835c7ab8025.jpg /content/drive/MyDrive/unet/masks/kech_34400_4800_jpg.rf.d3ed694bdd95c7dc8938c835c7ab8025.jpg\n",
            "/content/drive/MyDrive/unet/images/kech_37600_0_jpg.rf.88fda8694cc6dc6467b51d1a45120b28.jpg /content/drive/MyDrive/unet/masks/kech_37600_0_jpg.rf.88fda8694cc6dc6467b51d1a45120b28.jpg\n",
            "/content/drive/MyDrive/unet/images/kech_37600_0_jpg.rf.bff84fc5fdaf0cc38b3660ba7884edb5.jpg /content/drive/MyDrive/unet/masks/kech_37600_0_jpg.rf.bff84fc5fdaf0cc38b3660ba7884edb5.jpg\n",
            "/content/drive/MyDrive/unet/images/kech_37600_0_jpg.rf.c5152977b22681424ae43a31e14fc9a8.jpg /content/drive/MyDrive/unet/masks/kech_37600_0_jpg.rf.c5152977b22681424ae43a31e14fc9a8.jpg\n",
            "/content/drive/MyDrive/unet/images/kech_37600_8800_jpg.rf.052ee29bbcf116b86123fbb70ce207a1.jpg /content/drive/MyDrive/unet/masks/kech_37600_8800_jpg.rf.052ee29bbcf116b86123fbb70ce207a1.jpg\n",
            "/content/drive/MyDrive/unet/images/kech_37600_8800_jpg.rf.7eb81353e4a906a76db305ba133cbaa2.jpg /content/drive/MyDrive/unet/masks/kech_37600_8800_jpg.rf.7eb81353e4a906a76db305ba133cbaa2.jpg\n",
            "/content/drive/MyDrive/unet/images/kech_37600_8800_jpg.rf.edf004622d5aafff3c30fd2e6fcb8c93.jpg /content/drive/MyDrive/unet/masks/kech_37600_8800_jpg.rf.edf004622d5aafff3c30fd2e6fcb8c93.jpg\n",
            "/content/drive/MyDrive/unet/images/kech_37600_9600_jpg.rf.004bd71949895d9a09279483a183842e.jpg /content/drive/MyDrive/unet/masks/kech_37600_9600_jpg.rf.004bd71949895d9a09279483a183842e.jpg\n",
            "/content/drive/MyDrive/unet/images/kech_37600_9600_jpg.rf.6296a34a7ea232ed06bbb94b06e8a07d.jpg /content/drive/MyDrive/unet/masks/kech_37600_9600_jpg.rf.6296a34a7ea232ed06bbb94b06e8a07d.jpg\n",
            "/content/drive/MyDrive/unet/images/kech_37600_9600_jpg.rf.ed78d39076b9faf603fdb130e8446ea8.jpg /content/drive/MyDrive/unet/masks/kech_37600_9600_jpg.rf.ed78d39076b9faf603fdb130e8446ea8.jpg\n",
            "/content/drive/MyDrive/unet/images/kech_38400_800_jpg.rf.1d0330ce70c5fe276901ed7038a4efc7.jpg /content/drive/MyDrive/unet/masks/kech_38400_800_jpg.rf.1d0330ce70c5fe276901ed7038a4efc7.jpg\n",
            "/content/drive/MyDrive/unet/images/kech_38400_800_jpg.rf.5a152c190d1df35a8db13fbe3c6fa4d3.jpg /content/drive/MyDrive/unet/masks/kech_38400_800_jpg.rf.5a152c190d1df35a8db13fbe3c6fa4d3.jpg\n",
            "/content/drive/MyDrive/unet/images/kech_38400_800_jpg.rf.c3035f614870db531183d3c5ba22ddcc.jpg /content/drive/MyDrive/unet/masks/kech_38400_800_jpg.rf.c3035f614870db531183d3c5ba22ddcc.jpg\n",
            "/content/drive/MyDrive/unet/images/kech_38400_9600_jpg.rf.5361fe85628cac1c0ae0624f93a8d56c.jpg /content/drive/MyDrive/unet/masks/kech_38400_9600_jpg.rf.5361fe85628cac1c0ae0624f93a8d56c.jpg\n",
            "/content/drive/MyDrive/unet/images/kech_38400_9600_jpg.rf.5961ffce76ae92b85d0a365ad8a28f5a.jpg /content/drive/MyDrive/unet/masks/kech_38400_9600_jpg.rf.5961ffce76ae92b85d0a365ad8a28f5a.jpg\n",
            "/content/drive/MyDrive/unet/images/kech_38400_9600_jpg.rf.ee3f18ff02d5908e296ad5fa9482ed64.jpg /content/drive/MyDrive/unet/masks/kech_38400_9600_jpg.rf.ee3f18ff02d5908e296ad5fa9482ed64.jpg\n",
            "/content/drive/MyDrive/unet/images/kech_39200_10400_jpg.rf.01f00fc6fd138097bb3048ea7d32f6e3.jpg /content/drive/MyDrive/unet/masks/kech_39200_10400_jpg.rf.01f00fc6fd138097bb3048ea7d32f6e3.jpg\n",
            "/content/drive/MyDrive/unet/images/kech_39200_10400_jpg.rf.1461a04cdd507ef9e8969afd031330bd.jpg /content/drive/MyDrive/unet/masks/kech_39200_10400_jpg.rf.1461a04cdd507ef9e8969afd031330bd.jpg\n",
            "/content/drive/MyDrive/unet/images/kech_39200_10400_jpg.rf.3773eb58181dd147926abc3078254361.jpg /content/drive/MyDrive/unet/masks/kech_39200_10400_jpg.rf.3773eb58181dd147926abc3078254361.jpg\n",
            "/content/drive/MyDrive/unet/images/kech_39200_9600_jpg.rf.3e3cab8852d68c095c611cfb3745e1a3.jpg /content/drive/MyDrive/unet/masks/kech_39200_9600_jpg.rf.3e3cab8852d68c095c611cfb3745e1a3.jpg\n",
            "/content/drive/MyDrive/unet/images/kech_39200_9600_jpg.rf.44c44a2bfb9c037cbed0035aec6cdc0e.jpg /content/drive/MyDrive/unet/masks/kech_39200_9600_jpg.rf.44c44a2bfb9c037cbed0035aec6cdc0e.jpg\n",
            "/content/drive/MyDrive/unet/images/kech_39200_9600_jpg.rf.fb0bf6ec77766cac720dc7b866391cc4.jpg /content/drive/MyDrive/unet/masks/kech_39200_9600_jpg.rf.fb0bf6ec77766cac720dc7b866391cc4.jpg\n",
            "/content/drive/MyDrive/unet/images/kech_41600_7200_jpg.rf.504752ceb339e3040ea6bd94cc1e6111.jpg /content/drive/MyDrive/unet/masks/kech_41600_7200_jpg.rf.504752ceb339e3040ea6bd94cc1e6111.jpg\n",
            "/content/drive/MyDrive/unet/images/kech_41600_7200_jpg.rf.88f1ff919d42e7b40c4349c06fafc0d4.jpg /content/drive/MyDrive/unet/masks/kech_41600_7200_jpg.rf.88f1ff919d42e7b40c4349c06fafc0d4.jpg\n",
            "/content/drive/MyDrive/unet/images/kech_41600_7200_jpg.rf.a11ee656ed37bdbe84ac13f86c633c82.jpg /content/drive/MyDrive/unet/masks/kech_41600_7200_jpg.rf.a11ee656ed37bdbe84ac13f86c633c82.jpg\n",
            "/content/drive/MyDrive/unet/images/kech_46400_20000_jpg.rf.3326620dd66107cf490a5415feb14afc.jpg /content/drive/MyDrive/unet/masks/kech_46400_20000_jpg.rf.3326620dd66107cf490a5415feb14afc.jpg\n",
            "/content/drive/MyDrive/unet/images/kech_46400_20000_jpg.rf.d9167f95974dd817bae26e117a046084.jpg /content/drive/MyDrive/unet/masks/kech_46400_20000_jpg.rf.d9167f95974dd817bae26e117a046084.jpg\n",
            "/content/drive/MyDrive/unet/images/kech_46400_20000_jpg.rf.eb085bad2506998e5261851a77dc45bb.jpg /content/drive/MyDrive/unet/masks/kech_46400_20000_jpg.rf.eb085bad2506998e5261851a77dc45bb.jpg\n",
            "/content/drive/MyDrive/unet/images/kech_48000_24000_jpg.rf.25f5a4e98bf6fbcaa707c304e56c97be.jpg /content/drive/MyDrive/unet/masks/kech_48000_24000_jpg.rf.25f5a4e98bf6fbcaa707c304e56c97be.jpg\n",
            "/content/drive/MyDrive/unet/images/kech_48000_24000_jpg.rf.3b0d60f69fe0c7d60744bfcc3366de2f.jpg /content/drive/MyDrive/unet/masks/kech_48000_24000_jpg.rf.3b0d60f69fe0c7d60744bfcc3366de2f.jpg\n",
            "/content/drive/MyDrive/unet/images/kech_48000_24000_jpg.rf.9e464c8f78593aeb84b97666dd975d50.jpg /content/drive/MyDrive/unet/masks/kech_48000_24000_jpg.rf.9e464c8f78593aeb84b97666dd975d50.jpg\n",
            "/content/drive/MyDrive/unet/images/kech_48800_24000_jpg.rf.5fc4e015f022ee7c5800971a62e1b1dc.jpg /content/drive/MyDrive/unet/masks/kech_48800_24000_jpg.rf.5fc4e015f022ee7c5800971a62e1b1dc.jpg\n",
            "/content/drive/MyDrive/unet/images/kech_48800_24000_jpg.rf.d308893264a57519ca13915aa603a064.jpg /content/drive/MyDrive/unet/masks/kech_48800_24000_jpg.rf.d308893264a57519ca13915aa603a064.jpg\n",
            "/content/drive/MyDrive/unet/images/kech_48800_24000_jpg.rf.d8daa73d1573a6998ce7e5fc20cf4733.jpg /content/drive/MyDrive/unet/masks/kech_48800_24000_jpg.rf.d8daa73d1573a6998ce7e5fc20cf4733.jpg\n",
            "/content/drive/MyDrive/unet/images/kech_49600_24000_jpg.rf.419eb9a9ffb66e37e2ee5b95619441ad.jpg /content/drive/MyDrive/unet/masks/kech_49600_24000_jpg.rf.419eb9a9ffb66e37e2ee5b95619441ad.jpg\n",
            "/content/drive/MyDrive/unet/images/kech_49600_24000_jpg.rf.ca6d1f5301f95296f4c9e4c59a4bc2dd.jpg /content/drive/MyDrive/unet/masks/kech_49600_24000_jpg.rf.ca6d1f5301f95296f4c9e4c59a4bc2dd.jpg\n",
            "/content/drive/MyDrive/unet/images/kech_49600_24000_jpg.rf.f4bd5aeca551b4442b8c335dcc0c6e0f.jpg /content/drive/MyDrive/unet/masks/kech_49600_24000_jpg.rf.f4bd5aeca551b4442b8c335dcc0c6e0f.jpg\n",
            "/content/drive/MyDrive/unet/images/kech_49600_24800_jpg.rf.90e2b4843151972e089bc06718c3ef0c.jpg /content/drive/MyDrive/unet/masks/kech_49600_24800_jpg.rf.90e2b4843151972e089bc06718c3ef0c.jpg\n",
            "/content/drive/MyDrive/unet/images/kech_49600_24800_jpg.rf.9bb85324964e7169f3d32496d862a519.jpg /content/drive/MyDrive/unet/masks/kech_49600_24800_jpg.rf.9bb85324964e7169f3d32496d862a519.jpg\n",
            "/content/drive/MyDrive/unet/images/kech_49600_24800_jpg.rf.e639d985c49d93b293239cd16929bd41.jpg /content/drive/MyDrive/unet/masks/kech_49600_24800_jpg.rf.e639d985c49d93b293239cd16929bd41.jpg\n",
            "/content/drive/MyDrive/unet/images/kech_50400_15200_jpg.rf.6d1916370dd0c96662cb3c2394c3f22e.jpg /content/drive/MyDrive/unet/masks/kech_50400_15200_jpg.rf.6d1916370dd0c96662cb3c2394c3f22e.jpg\n",
            "/content/drive/MyDrive/unet/images/kech_50400_15200_jpg.rf.6e62d62308f926b906837838282931f0.jpg /content/drive/MyDrive/unet/masks/kech_50400_15200_jpg.rf.6e62d62308f926b906837838282931f0.jpg\n",
            "/content/drive/MyDrive/unet/images/kech_50400_15200_jpg.rf.7d6dab0fa0195ae1fea3f3304fd3f3ba.jpg /content/drive/MyDrive/unet/masks/kech_50400_15200_jpg.rf.7d6dab0fa0195ae1fea3f3304fd3f3ba.jpg\n",
            "/content/drive/MyDrive/unet/images/kech_50400_16000_jpg.rf.3abe0870c56d6d23fc790580cf436d7e.jpg /content/drive/MyDrive/unet/masks/kech_50400_16000_jpg.rf.3abe0870c56d6d23fc790580cf436d7e.jpg\n",
            "/content/drive/MyDrive/unet/images/kech_50400_16000_jpg.rf.a1eb007f2b6493711e78c8af095396c6.jpg /content/drive/MyDrive/unet/masks/kech_50400_16000_jpg.rf.a1eb007f2b6493711e78c8af095396c6.jpg\n",
            "/content/drive/MyDrive/unet/images/kech_50400_16000_jpg.rf.c6d50351e9bacc29b3689bd77032606f.jpg /content/drive/MyDrive/unet/masks/kech_50400_16000_jpg.rf.c6d50351e9bacc29b3689bd77032606f.jpg\n",
            "/content/drive/MyDrive/unet/images/kech_50400_16800_jpg.rf.24b541c435b463a4002e33811b057ab4.jpg /content/drive/MyDrive/unet/masks/kech_50400_16800_jpg.rf.24b541c435b463a4002e33811b057ab4.jpg\n",
            "/content/drive/MyDrive/unet/images/kech_50400_16800_jpg.rf.8a9ecc6b0e373fa78e670bde98776ff7.jpg /content/drive/MyDrive/unet/masks/kech_50400_16800_jpg.rf.8a9ecc6b0e373fa78e670bde98776ff7.jpg\n",
            "/content/drive/MyDrive/unet/images/kech_50400_16800_jpg.rf.bd77165e8a2c94cbd3377147948cd1ec.jpg /content/drive/MyDrive/unet/masks/kech_50400_16800_jpg.rf.bd77165e8a2c94cbd3377147948cd1ec.jpg\n",
            "/content/drive/MyDrive/unet/images/kech_50400_24000_jpg.rf.496c5e60bc4462f2c6c872fc1846fa44.jpg /content/drive/MyDrive/unet/masks/kech_50400_24000_jpg.rf.496c5e60bc4462f2c6c872fc1846fa44.jpg\n",
            "/content/drive/MyDrive/unet/images/kech_50400_24000_jpg.rf.973b061e3f38d0f3b5cfc9671f807047.jpg /content/drive/MyDrive/unet/masks/kech_50400_24000_jpg.rf.973b061e3f38d0f3b5cfc9671f807047.jpg\n",
            "/content/drive/MyDrive/unet/images/kech_50400_24000_jpg.rf.b234abb19b4423be3a9dcb34c3838ceb.jpg /content/drive/MyDrive/unet/masks/kech_50400_24000_jpg.rf.b234abb19b4423be3a9dcb34c3838ceb.jpg\n",
            "/content/drive/MyDrive/unet/images/kech_50400_24800_jpg.rf.427235c37bf65d84f92eaeed2c3890f6.jpg /content/drive/MyDrive/unet/masks/kech_50400_24800_jpg.rf.427235c37bf65d84f92eaeed2c3890f6.jpg\n",
            "/content/drive/MyDrive/unet/images/kech_50400_24800_jpg.rf.63b9543e66ecfb65254714e5e393c2cc.jpg /content/drive/MyDrive/unet/masks/kech_50400_24800_jpg.rf.63b9543e66ecfb65254714e5e393c2cc.jpg\n",
            "/content/drive/MyDrive/unet/images/kech_50400_24800_jpg.rf.cfc688809b8699c76905a1d6791de202.jpg /content/drive/MyDrive/unet/masks/kech_50400_24800_jpg.rf.cfc688809b8699c76905a1d6791de202.jpg\n",
            "/content/drive/MyDrive/unet/images/kech_51200_26400_jpg.rf.41fe083e7a6bf608e43de510513b0e5e.jpg /content/drive/MyDrive/unet/masks/kech_51200_26400_jpg.rf.41fe083e7a6bf608e43de510513b0e5e.jpg\n",
            "/content/drive/MyDrive/unet/images/kech_51200_26400_jpg.rf.6c41cddefeb99fd32a8da4304d2538fb.jpg /content/drive/MyDrive/unet/masks/kech_51200_26400_jpg.rf.6c41cddefeb99fd32a8da4304d2538fb.jpg\n",
            "/content/drive/MyDrive/unet/images/kech_51200_26400_jpg.rf.abc0b97775a64762b01afb968367eb32.jpg /content/drive/MyDrive/unet/masks/kech_51200_26400_jpg.rf.abc0b97775a64762b01afb968367eb32.jpg\n",
            "/content/drive/MyDrive/unet/images/kech_51200_27200_jpg.rf.4646ac86a85eb48dbd0c90dfaea1d02e.jpg /content/drive/MyDrive/unet/masks/kech_51200_27200_jpg.rf.4646ac86a85eb48dbd0c90dfaea1d02e.jpg\n",
            "/content/drive/MyDrive/unet/images/kech_51200_27200_jpg.rf.468e4cadac90174a4bb914ef90b10248.jpg /content/drive/MyDrive/unet/masks/kech_51200_27200_jpg.rf.468e4cadac90174a4bb914ef90b10248.jpg\n",
            "/content/drive/MyDrive/unet/images/kech_51200_27200_jpg.rf.c4af0e7db53169a107b6bd9a96b83a9f.jpg /content/drive/MyDrive/unet/masks/kech_51200_27200_jpg.rf.c4af0e7db53169a107b6bd9a96b83a9f.jpg\n",
            "/content/drive/MyDrive/unet/images/kech_52800_28800_jpg.rf.2d3ba629982c1dd4eaf01507f87819a6.jpg /content/drive/MyDrive/unet/masks/kech_52800_28800_jpg.rf.2d3ba629982c1dd4eaf01507f87819a6.jpg\n",
            "/content/drive/MyDrive/unet/images/kech_52800_28800_jpg.rf.90418f6de86f600cc682c2b06ec08934.jpg /content/drive/MyDrive/unet/masks/kech_52800_28800_jpg.rf.90418f6de86f600cc682c2b06ec08934.jpg\n",
            "/content/drive/MyDrive/unet/images/kech_52800_28800_jpg.rf.ece396b3c645c30791ffadbe6ca56e2b.jpg /content/drive/MyDrive/unet/masks/kech_52800_28800_jpg.rf.ece396b3c645c30791ffadbe6ca56e2b.jpg\n",
            "/content/drive/MyDrive/unet/images/kech_53600_26400_jpg.rf.44c40a1d7932ebb9a548f72856987bb1.jpg /content/drive/MyDrive/unet/masks/kech_53600_26400_jpg.rf.44c40a1d7932ebb9a548f72856987bb1.jpg\n",
            "/content/drive/MyDrive/unet/images/kech_53600_26400_jpg.rf.542207793b86b88ecd1b6a5bda9c05a4.jpg /content/drive/MyDrive/unet/masks/kech_53600_26400_jpg.rf.542207793b86b88ecd1b6a5bda9c05a4.jpg\n",
            "/content/drive/MyDrive/unet/images/kech_53600_26400_jpg.rf.d8c3c9b3b9c7a8ad11ecb1b8e3c8253f.jpg /content/drive/MyDrive/unet/masks/kech_53600_26400_jpg.rf.d8c3c9b3b9c7a8ad11ecb1b8e3c8253f.jpg\n",
            "/content/drive/MyDrive/unet/images/kech_53600_27200_jpg.rf.9886f7a4f4ee3c67d5a21bb293e2dea4.jpg /content/drive/MyDrive/unet/masks/kech_53600_27200_jpg.rf.9886f7a4f4ee3c67d5a21bb293e2dea4.jpg\n",
            "/content/drive/MyDrive/unet/images/kech_53600_27200_jpg.rf.a4536f493a7c2c1093e3aa476342d787.jpg /content/drive/MyDrive/unet/masks/kech_53600_27200_jpg.rf.a4536f493a7c2c1093e3aa476342d787.jpg\n",
            "/content/drive/MyDrive/unet/images/kech_53600_27200_jpg.rf.fc12048e7af6bf34489718f8f12b9f70.jpg /content/drive/MyDrive/unet/masks/kech_53600_27200_jpg.rf.fc12048e7af6bf34489718f8f12b9f70.jpg\n",
            "/content/drive/MyDrive/unet/images/kech_53600_28000_jpg.rf.b5a159e55a3c20f40034fd7acca040ae.jpg /content/drive/MyDrive/unet/masks/kech_53600_28000_jpg.rf.b5a159e55a3c20f40034fd7acca040ae.jpg\n",
            "/content/drive/MyDrive/unet/images/kech_53600_28000_jpg.rf.eb832ec4dcc04f12f0544978744a9116.jpg /content/drive/MyDrive/unet/masks/kech_53600_28000_jpg.rf.eb832ec4dcc04f12f0544978744a9116.jpg\n",
            "/content/drive/MyDrive/unet/images/kech_53600_28000_jpg.rf.ff90922e72390bdb730dec2c0c377ccc.jpg /content/drive/MyDrive/unet/masks/kech_53600_28000_jpg.rf.ff90922e72390bdb730dec2c0c377ccc.jpg\n",
            "/content/drive/MyDrive/unet/images/kech_53600_28800_jpg.rf.07d9b189619bd4ac25183dc511c80006.jpg /content/drive/MyDrive/unet/masks/kech_53600_28800_jpg.rf.07d9b189619bd4ac25183dc511c80006.jpg\n",
            "/content/drive/MyDrive/unet/images/kech_53600_28800_jpg.rf.53cfbcf9e450d13c46ec6ea70c411209.jpg /content/drive/MyDrive/unet/masks/kech_53600_28800_jpg.rf.53cfbcf9e450d13c46ec6ea70c411209.jpg\n",
            "/content/drive/MyDrive/unet/images/kech_53600_28800_jpg.rf.ba29bc1b1a97e3f3abbcb8bb0afb3a66.jpg /content/drive/MyDrive/unet/masks/kech_53600_28800_jpg.rf.ba29bc1b1a97e3f3abbcb8bb0afb3a66.jpg\n",
            "/content/drive/MyDrive/unet/images/kech_53600_30400_jpg.rf.191c2a8c9e68ee3bfd379c80d79f039d.jpg /content/drive/MyDrive/unet/masks/kech_53600_30400_jpg.rf.191c2a8c9e68ee3bfd379c80d79f039d.jpg\n",
            "/content/drive/MyDrive/unet/images/kech_53600_30400_jpg.rf.e90254555ee0a37bb0da1ba5964636bf.jpg /content/drive/MyDrive/unet/masks/kech_53600_30400_jpg.rf.e90254555ee0a37bb0da1ba5964636bf.jpg\n",
            "/content/drive/MyDrive/unet/images/kech_53600_30400_jpg.rf.e9f7f9501fb165d3fbafef782953aebe.jpg /content/drive/MyDrive/unet/masks/kech_53600_30400_jpg.rf.e9f7f9501fb165d3fbafef782953aebe.jpg\n",
            "/content/drive/MyDrive/unet/images/kech_54400_26400_jpg.rf.176052153a262f9d9a3f39a09961b190.jpg /content/drive/MyDrive/unet/masks/kech_54400_26400_jpg.rf.176052153a262f9d9a3f39a09961b190.jpg\n",
            "/content/drive/MyDrive/unet/images/kech_54400_26400_jpg.rf.b9c90f11b3a1d16e6c78c0e935778f6a.jpg /content/drive/MyDrive/unet/masks/kech_54400_26400_jpg.rf.b9c90f11b3a1d16e6c78c0e935778f6a.jpg\n",
            "/content/drive/MyDrive/unet/images/kech_54400_26400_jpg.rf.eb605afd6c7530c11691ab8560c896d8.jpg /content/drive/MyDrive/unet/masks/kech_54400_26400_jpg.rf.eb605afd6c7530c11691ab8560c896d8.jpg\n",
            "/content/drive/MyDrive/unet/images/kech_56800_24800_jpg.rf.013128bcfe3c4135300e8e05ff75ddd7.jpg /content/drive/MyDrive/unet/masks/kech_56800_24800_jpg.rf.013128bcfe3c4135300e8e05ff75ddd7.jpg\n",
            "/content/drive/MyDrive/unet/images/kech_56800_24800_jpg.rf.805f0f4a2f3173de964b3a7d080b8ecc.jpg /content/drive/MyDrive/unet/masks/kech_56800_24800_jpg.rf.805f0f4a2f3173de964b3a7d080b8ecc.jpg\n",
            "/content/drive/MyDrive/unet/images/kech_56800_24800_jpg.rf.94c02024858b87e6f1ee8b02a0245989.jpg /content/drive/MyDrive/unet/masks/kech_56800_24800_jpg.rf.94c02024858b87e6f1ee8b02a0245989.jpg\n",
            "/content/drive/MyDrive/unet/images/kech_56800_25600_jpg.rf.5fd6488f823b9abb4055d9b9d85f3849.jpg /content/drive/MyDrive/unet/masks/kech_56800_25600_jpg.rf.5fd6488f823b9abb4055d9b9d85f3849.jpg\n",
            "/content/drive/MyDrive/unet/images/kech_56800_25600_jpg.rf.9c876589fe6067896d12efe8a81bbfce.jpg /content/drive/MyDrive/unet/masks/kech_56800_25600_jpg.rf.9c876589fe6067896d12efe8a81bbfce.jpg\n",
            "/content/drive/MyDrive/unet/images/kech_56800_25600_jpg.rf.d9e49889c84566ff9f34859b5ee1a0d3.jpg /content/drive/MyDrive/unet/masks/kech_56800_25600_jpg.rf.d9e49889c84566ff9f34859b5ee1a0d3.jpg\n",
            "/content/drive/MyDrive/unet/images/kech_58400_24800_jpg.rf.32f176fb7eca01c4f0c4e6e388684997.jpg /content/drive/MyDrive/unet/masks/kech_58400_24800_jpg.rf.32f176fb7eca01c4f0c4e6e388684997.jpg\n",
            "/content/drive/MyDrive/unet/images/kech_58400_24800_jpg.rf.b6002464be882dbb31b8524d9e35fb0a.jpg /content/drive/MyDrive/unet/masks/kech_58400_24800_jpg.rf.b6002464be882dbb31b8524d9e35fb0a.jpg\n",
            "/content/drive/MyDrive/unet/images/kech_58400_24800_jpg.rf.e32e33840b7478a82ab59bd770ced6cc.jpg /content/drive/MyDrive/unet/masks/kech_58400_24800_jpg.rf.e32e33840b7478a82ab59bd770ced6cc.jpg\n",
            "/content/drive/MyDrive/unet/images/kech_58400_25600_jpg.rf.24455f6be1f9d46a9e3f0083e986358d.jpg /content/drive/MyDrive/unet/masks/kech_58400_25600_jpg.rf.24455f6be1f9d46a9e3f0083e986358d.jpg\n",
            "/content/drive/MyDrive/unet/images/kech_58400_25600_jpg.rf.e326c79ebc3478d17fa94d2a8517d1c8.jpg /content/drive/MyDrive/unet/masks/kech_58400_25600_jpg.rf.e326c79ebc3478d17fa94d2a8517d1c8.jpg\n",
            "/content/drive/MyDrive/unet/images/kech_58400_25600_jpg.rf.ec3263b81661bda5e389e0c61df32c55.jpg /content/drive/MyDrive/unet/masks/kech_58400_25600_jpg.rf.ec3263b81661bda5e389e0c61df32c55.jpg\n",
            "/content/drive/MyDrive/unet/images/kech_58400_26400_jpg.rf.91d56a3effd87aaeba58de7be1567073.jpg /content/drive/MyDrive/unet/masks/kech_58400_26400_jpg.rf.91d56a3effd87aaeba58de7be1567073.jpg\n",
            "/content/drive/MyDrive/unet/images/kech_58400_26400_jpg.rf.a942cf3bceb612e561145779ce579639.jpg /content/drive/MyDrive/unet/masks/kech_58400_26400_jpg.rf.a942cf3bceb612e561145779ce579639.jpg\n",
            "/content/drive/MyDrive/unet/images/kech_58400_26400_jpg.rf.d23b5819c2ef3292c7add0a6898a3ad1.jpg /content/drive/MyDrive/unet/masks/kech_58400_26400_jpg.rf.d23b5819c2ef3292c7add0a6898a3ad1.jpg\n",
            "/content/drive/MyDrive/unet/images/kech_59200_24800_jpg.rf.3124547c66bfcad66e1bcc6abb1aa5b8.jpg /content/drive/MyDrive/unet/masks/kech_59200_24800_jpg.rf.3124547c66bfcad66e1bcc6abb1aa5b8.jpg\n",
            "/content/drive/MyDrive/unet/images/kech_59200_24800_jpg.rf.8f971c4426e4452c606d67b881d00fa0.jpg /content/drive/MyDrive/unet/masks/kech_59200_24800_jpg.rf.8f971c4426e4452c606d67b881d00fa0.jpg\n",
            "/content/drive/MyDrive/unet/images/kech_59200_24800_jpg.rf.d138ad5f1690e156048b32c3c18f5e49.jpg /content/drive/MyDrive/unet/masks/kech_59200_24800_jpg.rf.d138ad5f1690e156048b32c3c18f5e49.jpg\n",
            "/content/drive/MyDrive/unet/images/kech_59200_25600_jpg.rf.2f81943873e795fd70c6f031fe4268a2.jpg /content/drive/MyDrive/unet/masks/kech_59200_25600_jpg.rf.2f81943873e795fd70c6f031fe4268a2.jpg\n",
            "/content/drive/MyDrive/unet/images/kech_59200_25600_jpg.rf.52a8e76a8d8137163b6340f67e0f13b7.jpg /content/drive/MyDrive/unet/masks/kech_59200_25600_jpg.rf.52a8e76a8d8137163b6340f67e0f13b7.jpg\n",
            "/content/drive/MyDrive/unet/images/kech_59200_25600_jpg.rf.8d0e6d8796876a8b38bdcb5773387200.jpg /content/drive/MyDrive/unet/masks/kech_59200_25600_jpg.rf.8d0e6d8796876a8b38bdcb5773387200.jpg\n",
            "/content/drive/MyDrive/unet/images/kech_59200_26400_jpg.rf.3e6f9af27d83ecb3551aca1728a5cb69.jpg /content/drive/MyDrive/unet/masks/kech_59200_26400_jpg.rf.3e6f9af27d83ecb3551aca1728a5cb69.jpg\n",
            "/content/drive/MyDrive/unet/images/kech_59200_26400_jpg.rf.6bf7f5e2d7bc7f0c9e7156cfd8640a43.jpg /content/drive/MyDrive/unet/masks/kech_59200_26400_jpg.rf.6bf7f5e2d7bc7f0c9e7156cfd8640a43.jpg\n",
            "/content/drive/MyDrive/unet/images/kech_59200_26400_jpg.rf.d7253464bf7a0dc0df7a0bbb7a4441e8.jpg /content/drive/MyDrive/unet/masks/kech_59200_26400_jpg.rf.d7253464bf7a0dc0df7a0bbb7a4441e8.jpg\n",
            "/content/drive/MyDrive/unet/images/ken_4000_3200_jpg.rf.0af7b366a0b418c8976f344a3c74ebba.jpg /content/drive/MyDrive/unet/masks/ken_4000_3200_jpg.rf.0af7b366a0b418c8976f344a3c74ebba.jpg\n",
            "/content/drive/MyDrive/unet/images/ken_4000_3200_jpg.rf.9f0b42567d70d2287971b7217c53d6b3.jpg /content/drive/MyDrive/unet/masks/ken_4000_3200_jpg.rf.9f0b42567d70d2287971b7217c53d6b3.jpg\n",
            "/content/drive/MyDrive/unet/images/ken_4000_3200_jpg.rf.fec7e05e3f308c65d302e061301c6be4.jpg /content/drive/MyDrive/unet/masks/ken_4000_3200_jpg.rf.fec7e05e3f308c65d302e061301c6be4.jpg\n",
            "/content/drive/MyDrive/unet/images/ken_4000_4000_jpg.rf.418a1ba85fd8c2a3a5d923aaf818cde7.jpg /content/drive/MyDrive/unet/masks/ken_4000_4000_jpg.rf.418a1ba85fd8c2a3a5d923aaf818cde7.jpg\n",
            "/content/drive/MyDrive/unet/images/ken_4000_4000_jpg.rf.4873805c0748ba4fff0ea231011edc91.jpg /content/drive/MyDrive/unet/masks/ken_4000_4000_jpg.rf.4873805c0748ba4fff0ea231011edc91.jpg\n",
            "/content/drive/MyDrive/unet/images/ken_4000_4000_jpg.rf.6af6b94ca2f9782a7034f86e1f2ce19b.jpg /content/drive/MyDrive/unet/masks/ken_4000_4000_jpg.rf.6af6b94ca2f9782a7034f86e1f2ce19b.jpg\n",
            "/content/drive/MyDrive/unet/images/ken_4800_3200_jpg.rf.5b86fd68dde56b59705a4a0e5204f626.jpg /content/drive/MyDrive/unet/masks/ken_4800_3200_jpg.rf.5b86fd68dde56b59705a4a0e5204f626.jpg\n",
            "/content/drive/MyDrive/unet/images/ken_4800_3200_jpg.rf.5ec5e866c17de6222d9ecfd83f0d7a80.jpg /content/drive/MyDrive/unet/masks/ken_4800_3200_jpg.rf.5ec5e866c17de6222d9ecfd83f0d7a80.jpg\n",
            "/content/drive/MyDrive/unet/images/ken_4800_3200_jpg.rf.dc9323911c11f24dcd8c6645676359f2.jpg /content/drive/MyDrive/unet/masks/ken_4800_3200_jpg.rf.dc9323911c11f24dcd8c6645676359f2.jpg\n",
            "/content/drive/MyDrive/unet/images/ken_5600_3200_jpg.rf.46c057d351c3e330440231f42981ba4d.jpg /content/drive/MyDrive/unet/masks/ken_5600_3200_jpg.rf.46c057d351c3e330440231f42981ba4d.jpg\n",
            "/content/drive/MyDrive/unet/images/ken_5600_3200_jpg.rf.572f3f153d3a22350998b9e262de5a97.jpg /content/drive/MyDrive/unet/masks/ken_5600_3200_jpg.rf.572f3f153d3a22350998b9e262de5a97.jpg\n",
            "/content/drive/MyDrive/unet/images/ken_5600_3200_jpg.rf.ae1e8b6ff69658ad24534773359d7204.jpg /content/drive/MyDrive/unet/masks/ken_5600_3200_jpg.rf.ae1e8b6ff69658ad24534773359d7204.jpg\n",
            "/content/drive/MyDrive/unet/images/ken_5600_4000_jpg.rf.0e006ad99fab82ee913ddaf4fb171506.jpg /content/drive/MyDrive/unet/masks/ken_5600_4000_jpg.rf.0e006ad99fab82ee913ddaf4fb171506.jpg\n",
            "/content/drive/MyDrive/unet/images/ken_5600_4000_jpg.rf.3b85a01e10f28d1f42ab4425aeec7266.jpg /content/drive/MyDrive/unet/masks/ken_5600_4000_jpg.rf.3b85a01e10f28d1f42ab4425aeec7266.jpg\n",
            "/content/drive/MyDrive/unet/images/ken_5600_4000_jpg.rf.6fec6dc6736946503b6c0e0f761b2a92.jpg /content/drive/MyDrive/unet/masks/ken_5600_4000_jpg.rf.6fec6dc6736946503b6c0e0f761b2a92.jpg\n",
            "/content/drive/MyDrive/unet/images/ken_5600_4800_jpg.rf.50c18860bc08884840ee4c79bd9ba79b.jpg /content/drive/MyDrive/unet/masks/ken_5600_4800_jpg.rf.50c18860bc08884840ee4c79bd9ba79b.jpg\n",
            "/content/drive/MyDrive/unet/images/ken_5600_4800_jpg.rf.b0a73d4f28e19b6922a6860df5d4596d.jpg /content/drive/MyDrive/unet/masks/ken_5600_4800_jpg.rf.b0a73d4f28e19b6922a6860df5d4596d.jpg\n",
            "/content/drive/MyDrive/unet/images/ken_5600_4800_jpg.rf.bb6b3b2af53813338af949252a9a9d04.jpg /content/drive/MyDrive/unet/masks/ken_5600_4800_jpg.rf.bb6b3b2af53813338af949252a9a9d04.jpg\n",
            "/content/drive/MyDrive/unet/images/ken_6400_4000_jpg.rf.8bcd4fcde596d7d00b7248a690a751b7.jpg /content/drive/MyDrive/unet/masks/ken_6400_4000_jpg.rf.8bcd4fcde596d7d00b7248a690a751b7.jpg\n",
            "/content/drive/MyDrive/unet/images/ken_6400_4000_jpg.rf.c9c225f07a961e9da9d646b7a9e753f0.jpg /content/drive/MyDrive/unet/masks/ken_6400_4000_jpg.rf.c9c225f07a961e9da9d646b7a9e753f0.jpg\n",
            "/content/drive/MyDrive/unet/images/ken_6400_4000_jpg.rf.f95ce3c87f1e6d6e091bcc6dcd4191fd.jpg /content/drive/MyDrive/unet/masks/ken_6400_4000_jpg.rf.f95ce3c87f1e6d6e091bcc6dcd4191fd.jpg\n",
            "/content/drive/MyDrive/unet/images/laay_1600_0_jpg.rf.0eabfa281ab94be0cdf1339c64c99bf6.jpg /content/drive/MyDrive/unet/masks/laay_1600_0_jpg.rf.0eabfa281ab94be0cdf1339c64c99bf6.jpg\n",
            "/content/drive/MyDrive/unet/images/laay_1600_0_jpg.rf.5de9c7dda7c70d4817cc883a13182164.jpg /content/drive/MyDrive/unet/masks/laay_1600_0_jpg.rf.5de9c7dda7c70d4817cc883a13182164.jpg\n",
            "/content/drive/MyDrive/unet/images/laay_1600_0_jpg.rf.77b7649962fe1ca79aa5c35589326607.jpg /content/drive/MyDrive/unet/masks/laay_1600_0_jpg.rf.77b7649962fe1ca79aa5c35589326607.jpg\n",
            "/content/drive/MyDrive/unet/images/nado_4000_800_jpg.rf.427b499ad688a621a0dce4f76b742aba.jpg /content/drive/MyDrive/unet/masks/nado_4000_800_jpg.rf.427b499ad688a621a0dce4f76b742aba.jpg\n",
            "/content/drive/MyDrive/unet/images/nado_4000_800_jpg.rf.86797f112c4ce8eb3971192eae0880ed.jpg /content/drive/MyDrive/unet/masks/nado_4000_800_jpg.rf.86797f112c4ce8eb3971192eae0880ed.jpg\n",
            "/content/drive/MyDrive/unet/images/nado_4000_800_jpg.rf.88ba35884ad9a8d3551b647a9ce933ba.jpg /content/drive/MyDrive/unet/masks/nado_4000_800_jpg.rf.88ba35884ad9a8d3551b647a9ce933ba.jpg\n",
            "/content/drive/MyDrive/unet/images/nado_5600_800_jpg.rf.0e7b6f7af7bae32b898a29362eb6ad43.jpg /content/drive/MyDrive/unet/masks/nado_5600_800_jpg.rf.0e7b6f7af7bae32b898a29362eb6ad43.jpg\n",
            "/content/drive/MyDrive/unet/images/nado_5600_800_jpg.rf.287ffe3a56317bb89a78b1d974c78ad1.jpg /content/drive/MyDrive/unet/masks/nado_5600_800_jpg.rf.287ffe3a56317bb89a78b1d974c78ad1.jpg\n",
            "/content/drive/MyDrive/unet/images/nado_5600_800_jpg.rf.b1e4a90a41c284591c9d8c545f4d877b.jpg /content/drive/MyDrive/unet/masks/nado_5600_800_jpg.rf.b1e4a90a41c284591c9d8c545f4d877b.jpg\n",
            "/content/drive/MyDrive/unet/images/rbt_11200_1600_jpg.rf.22deb4fb943002a18e78fde43039e5e7.jpg /content/drive/MyDrive/unet/masks/rbt_11200_1600_jpg.rf.22deb4fb943002a18e78fde43039e5e7.jpg\n",
            "/content/drive/MyDrive/unet/images/rbt_11200_1600_jpg.rf.4bdd506a13c65773bb08b7dc652c1850.jpg /content/drive/MyDrive/unet/masks/rbt_11200_1600_jpg.rf.4bdd506a13c65773bb08b7dc652c1850.jpg\n",
            "/content/drive/MyDrive/unet/images/rbt_11200_1600_jpg.rf.757554d08aa8d94ea9a0054913f1cb05.jpg /content/drive/MyDrive/unet/masks/rbt_11200_1600_jpg.rf.757554d08aa8d94ea9a0054913f1cb05.jpg\n",
            "/content/drive/MyDrive/unet/images/rbt_12000_1600_jpg.rf.215c6ee3149065d6f8647d4f2e52831d.jpg /content/drive/MyDrive/unet/masks/rbt_12000_1600_jpg.rf.215c6ee3149065d6f8647d4f2e52831d.jpg\n",
            "/content/drive/MyDrive/unet/images/rbt_12000_1600_jpg.rf.4636758bba49162eea67d979fca30074.jpg /content/drive/MyDrive/unet/masks/rbt_12000_1600_jpg.rf.4636758bba49162eea67d979fca30074.jpg\n",
            "/content/drive/MyDrive/unet/images/rbt_12000_1600_jpg.rf.50c9ce4cae316cdb79618c92a8faa3a9.jpg /content/drive/MyDrive/unet/masks/rbt_12000_1600_jpg.rf.50c9ce4cae316cdb79618c92a8faa3a9.jpg\n",
            "/content/drive/MyDrive/unet/images/rbt_1600_6400_jpg.rf.76554cbf24654d7e34db01fafd5433a2.jpg /content/drive/MyDrive/unet/masks/rbt_1600_6400_jpg.rf.76554cbf24654d7e34db01fafd5433a2.jpg\n",
            "/content/drive/MyDrive/unet/images/rbt_1600_6400_jpg.rf.afb3dd5afbcb40b04a4228da61616a9f.jpg /content/drive/MyDrive/unet/masks/rbt_1600_6400_jpg.rf.afb3dd5afbcb40b04a4228da61616a9f.jpg\n",
            "/content/drive/MyDrive/unet/images/rbt_1600_6400_jpg.rf.b817155c6b44410cb6a86bbc3cf839b8.jpg /content/drive/MyDrive/unet/masks/rbt_1600_6400_jpg.rf.b817155c6b44410cb6a86bbc3cf839b8.jpg\n",
            "/content/drive/MyDrive/unet/images/rbt_2400_5600_jpg.rf.226e3eaad4720a407dce44b13a9af4b6.jpg /content/drive/MyDrive/unet/masks/rbt_2400_5600_jpg.rf.226e3eaad4720a407dce44b13a9af4b6.jpg\n",
            "/content/drive/MyDrive/unet/images/rbt_2400_5600_jpg.rf.a4b2b73ac1fa6e1e66bc227dc21f9182.jpg /content/drive/MyDrive/unet/masks/rbt_2400_5600_jpg.rf.a4b2b73ac1fa6e1e66bc227dc21f9182.jpg\n",
            "/content/drive/MyDrive/unet/images/rbt_2400_5600_jpg.rf.aa6a5a3f10f98a74c15c37962761b0e4.jpg /content/drive/MyDrive/unet/masks/rbt_2400_5600_jpg.rf.aa6a5a3f10f98a74c15c37962761b0e4.jpg\n",
            "/content/drive/MyDrive/unet/images/rbt_2400_6400_jpg.rf.10521aa60299e9c60b43259eb9a85136.jpg /content/drive/MyDrive/unet/masks/rbt_2400_6400_jpg.rf.10521aa60299e9c60b43259eb9a85136.jpg\n",
            "/content/drive/MyDrive/unet/images/rbt_2400_6400_jpg.rf.4c6680bf2a2a1e2b4b2f9bf0113c94f8.jpg /content/drive/MyDrive/unet/masks/rbt_2400_6400_jpg.rf.4c6680bf2a2a1e2b4b2f9bf0113c94f8.jpg\n",
            "/content/drive/MyDrive/unet/images/rbt_2400_6400_jpg.rf.cafff4f3fa1aaa8b11fe2ee6f0df43bd.jpg /content/drive/MyDrive/unet/masks/rbt_2400_6400_jpg.rf.cafff4f3fa1aaa8b11fe2ee6f0df43bd.jpg\n",
            "/content/drive/MyDrive/unet/images/rbt_4800_10400_jpg.rf.100f294ab6f942990ac14516d02d2a66.jpg /content/drive/MyDrive/unet/masks/rbt_4800_10400_jpg.rf.100f294ab6f942990ac14516d02d2a66.jpg\n",
            "/content/drive/MyDrive/unet/images/rbt_4800_10400_jpg.rf.6853ec344bbd1906c65be80faec91e75.jpg /content/drive/MyDrive/unet/masks/rbt_4800_10400_jpg.rf.6853ec344bbd1906c65be80faec91e75.jpg\n",
            "/content/drive/MyDrive/unet/images/rbt_4800_10400_jpg.rf.8c9def38c545f81248dd6216cdd2a82e.jpg /content/drive/MyDrive/unet/masks/rbt_4800_10400_jpg.rf.8c9def38c545f81248dd6216cdd2a82e.jpg\n",
            "/content/drive/MyDrive/unet/images/rbt_4800_9600_jpg.rf.3268a50993b29c1d3e454da8a1c75382.jpg /content/drive/MyDrive/unet/masks/rbt_4800_9600_jpg.rf.3268a50993b29c1d3e454da8a1c75382.jpg\n",
            "/content/drive/MyDrive/unet/images/rbt_4800_9600_jpg.rf.bdc6eeb0c35165a3c40aa9aa8b333296.jpg /content/drive/MyDrive/unet/masks/rbt_4800_9600_jpg.rf.bdc6eeb0c35165a3c40aa9aa8b333296.jpg\n",
            "/content/drive/MyDrive/unet/images/rbt_4800_9600_jpg.rf.f7b5b4fdce01fe37e1c7efc4cd0a7ed9.jpg /content/drive/MyDrive/unet/masks/rbt_4800_9600_jpg.rf.f7b5b4fdce01fe37e1c7efc4cd0a7ed9.jpg\n",
            "/content/drive/MyDrive/unet/images/rbt_6400_9600_jpg.rf.5788a21abffa3ee681658d87240c5cb0.jpg /content/drive/MyDrive/unet/masks/rbt_6400_9600_jpg.rf.5788a21abffa3ee681658d87240c5cb0.jpg\n",
            "/content/drive/MyDrive/unet/images/rbt_6400_9600_jpg.rf.62e559faf2c8d946316c26f0a8024256.jpg /content/drive/MyDrive/unet/masks/rbt_6400_9600_jpg.rf.62e559faf2c8d946316c26f0a8024256.jpg\n",
            "/content/drive/MyDrive/unet/images/rbt_6400_9600_jpg.rf.e2a9df2256f70f5961536bd5c5cd6601.jpg /content/drive/MyDrive/unet/masks/rbt_6400_9600_jpg.rf.e2a9df2256f70f5961536bd5c5cd6601.jpg\n",
            "/content/drive/MyDrive/unet/images/rbt_7200_10400_jpg.rf.1e31973a5054b8f00985d14b917ecc1d.jpg /content/drive/MyDrive/unet/masks/rbt_7200_10400_jpg.rf.1e31973a5054b8f00985d14b917ecc1d.jpg\n",
            "/content/drive/MyDrive/unet/images/rbt_7200_10400_jpg.rf.b80793ded729967d0a0e3f8eddc85a0a.jpg /content/drive/MyDrive/unet/masks/rbt_7200_10400_jpg.rf.b80793ded729967d0a0e3f8eddc85a0a.jpg\n",
            "/content/drive/MyDrive/unet/images/rbt_7200_10400_jpg.rf.cb7da31c9ce310bed78258da341b607a.jpg /content/drive/MyDrive/unet/masks/rbt_7200_10400_jpg.rf.cb7da31c9ce310bed78258da341b607a.jpg\n",
            "/content/drive/MyDrive/unet/images/rbt_7200_9600_jpg.rf.1ec1163fd386f606daa84e4d97270d67.jpg /content/drive/MyDrive/unet/masks/rbt_7200_9600_jpg.rf.1ec1163fd386f606daa84e4d97270d67.jpg\n",
            "/content/drive/MyDrive/unet/images/rbt_7200_9600_jpg.rf.223825413fd04a5590ec3b20e8c9a711.jpg /content/drive/MyDrive/unet/masks/rbt_7200_9600_jpg.rf.223825413fd04a5590ec3b20e8c9a711.jpg\n",
            "/content/drive/MyDrive/unet/images/rbt_7200_9600_jpg.rf.923598a214fa8e790635a9e76eb48745.jpg /content/drive/MyDrive/unet/masks/rbt_7200_9600_jpg.rf.923598a214fa8e790635a9e76eb48745.jpg\n",
            "/content/drive/MyDrive/unet/images/rbt_800_6400_jpg.rf.0c7a880b1b679206663cab2bc7ffbb12.jpg /content/drive/MyDrive/unet/masks/rbt_800_6400_jpg.rf.0c7a880b1b679206663cab2bc7ffbb12.jpg\n",
            "/content/drive/MyDrive/unet/images/rbt_800_6400_jpg.rf.38d13b873c55f7f613611faf306cdf37.jpg /content/drive/MyDrive/unet/masks/rbt_800_6400_jpg.rf.38d13b873c55f7f613611faf306cdf37.jpg\n",
            "/content/drive/MyDrive/unet/images/rbt_800_6400_jpg.rf.72be2282fbe2d680d39690c44f2f52c0.jpg /content/drive/MyDrive/unet/masks/rbt_800_6400_jpg.rf.72be2282fbe2d680d39690c44f2f52c0.jpg\n",
            "/content/drive/MyDrive/unet/images/rbt_800_7200_jpg.rf.5af308f9f5f3bec4876dcaec26202f8e.jpg /content/drive/MyDrive/unet/masks/rbt_800_7200_jpg.rf.5af308f9f5f3bec4876dcaec26202f8e.jpg\n",
            "/content/drive/MyDrive/unet/images/rbt_800_7200_jpg.rf.82ac0e0e7d6179fbcd41f2f995835203.jpg /content/drive/MyDrive/unet/masks/rbt_800_7200_jpg.rf.82ac0e0e7d6179fbcd41f2f995835203.jpg\n",
            "/content/drive/MyDrive/unet/images/rbt_800_7200_jpg.rf.cf93bb84296434befe849ac272ac9dc9.jpg /content/drive/MyDrive/unet/masks/rbt_800_7200_jpg.rf.cf93bb84296434befe849ac272ac9dc9.jpg\n",
            "/content/drive/MyDrive/unet/images/rbt_8800_1600_jpg.rf.3c3d2ad54c4af361eeedc3f5814af5dd.jpg /content/drive/MyDrive/unet/masks/rbt_8800_1600_jpg.rf.3c3d2ad54c4af361eeedc3f5814af5dd.jpg\n",
            "/content/drive/MyDrive/unet/images/rbt_8800_1600_jpg.rf.6177adb8db8db6eb21d418e4f69081a5.jpg /content/drive/MyDrive/unet/masks/rbt_8800_1600_jpg.rf.6177adb8db8db6eb21d418e4f69081a5.jpg\n",
            "/content/drive/MyDrive/unet/images/rbt_8800_1600_jpg.rf.a6d8a730ec5adf9d18f44312e063882e.jpg /content/drive/MyDrive/unet/masks/rbt_8800_1600_jpg.rf.a6d8a730ec5adf9d18f44312e063882e.jpg\n",
            "/content/drive/MyDrive/unet/images/tan_11200_4000_jpg.rf.1c6401e1f360ec49fbeb389eed37dad2.jpg /content/drive/MyDrive/unet/masks/tan_11200_4000_jpg.rf.1c6401e1f360ec49fbeb389eed37dad2.jpg\n",
            "/content/drive/MyDrive/unet/images/tan_11200_4000_jpg.rf.7a01d5c0aec4717280bb84f0fedec3d9.jpg /content/drive/MyDrive/unet/masks/tan_11200_4000_jpg.rf.7a01d5c0aec4717280bb84f0fedec3d9.jpg\n",
            "/content/drive/MyDrive/unet/images/tan_11200_4000_jpg.rf.bb66040cd996806adf15b7b00b2aa56b.jpg /content/drive/MyDrive/unet/masks/tan_11200_4000_jpg.rf.bb66040cd996806adf15b7b00b2aa56b.jpg\n",
            "/content/drive/MyDrive/unet/images/tant_800_0_jpg.rf.41171e0365e20b69468eb9677e3c9bfe.jpg /content/drive/MyDrive/unet/masks/tant_800_0_jpg.rf.41171e0365e20b69468eb9677e3c9bfe.jpg\n",
            "/content/drive/MyDrive/unet/images/tant_800_0_jpg.rf.94a4885be9320638def490b4ac1c88d4.jpg /content/drive/MyDrive/unet/masks/tant_800_0_jpg.rf.94a4885be9320638def490b4ac1c88d4.jpg\n",
            "/content/drive/MyDrive/unet/images/tant_800_0_jpg.rf.f6bb499680d6414f7ee38ecab44d27be.jpg /content/drive/MyDrive/unet/masks/tant_800_0_jpg.rf.f6bb499680d6414f7ee38ecab44d27be.jpg\n",
            "/content/drive/MyDrive/unet/images/tit_0_0_jpg.rf.39a4e891a0663af4640e8b6ea6187be9.jpg /content/drive/MyDrive/unet/masks/tit_0_0_jpg.rf.39a4e891a0663af4640e8b6ea6187be9.jpg\n",
            "/content/drive/MyDrive/unet/images/tit_0_0_jpg.rf.6f29d950329decb48ec9e78b4d858fe3.jpg /content/drive/MyDrive/unet/masks/tit_0_0_jpg.rf.6f29d950329decb48ec9e78b4d858fe3.jpg\n",
            "/content/drive/MyDrive/unet/images/tit_0_0_jpg.rf.bce7c50534bafdd35b210f03cefa9df5.jpg /content/drive/MyDrive/unet/masks/tit_0_0_jpg.rf.bce7c50534bafdd35b210f03cefa9df5.jpg\n"
          ]
        }
      ]
    },
    {
      "cell_type": "code",
      "source": [
        "!pip install imshowtools\n"
      ],
      "metadata": {
        "colab": {
          "base_uri": "https://localhost:8080/"
        },
        "id": "OO65XmXsmFbh",
        "outputId": "af1dc7a5-722f-4a4a-9ed4-a95d8d2432bb"
      },
      "execution_count": null,
      "outputs": [
        {
          "output_type": "stream",
          "name": "stdout",
          "text": [
            "Collecting imshowtools\n",
            "  Downloading imshowtools-0.6.5-py3-none-any.whl (7.4 kB)\n",
            "Requirement already satisfied: matplotlib in /usr/local/lib/python3.10/dist-packages (from imshowtools) (3.7.1)\n",
            "Requirement already satisfied: numpy in /usr/local/lib/python3.10/dist-packages (from imshowtools) (1.22.4)\n",
            "Requirement already satisfied: contourpy>=1.0.1 in /usr/local/lib/python3.10/dist-packages (from matplotlib->imshowtools) (1.1.0)\n",
            "Requirement already satisfied: cycler>=0.10 in /usr/local/lib/python3.10/dist-packages (from matplotlib->imshowtools) (0.11.0)\n",
            "Requirement already satisfied: fonttools>=4.22.0 in /usr/local/lib/python3.10/dist-packages (from matplotlib->imshowtools) (4.41.0)\n",
            "Requirement already satisfied: kiwisolver>=1.0.1 in /usr/local/lib/python3.10/dist-packages (from matplotlib->imshowtools) (1.4.4)\n",
            "Requirement already satisfied: packaging>=20.0 in /usr/local/lib/python3.10/dist-packages (from matplotlib->imshowtools) (23.1)\n",
            "Requirement already satisfied: pillow>=6.2.0 in /usr/local/lib/python3.10/dist-packages (from matplotlib->imshowtools) (8.4.0)\n",
            "Requirement already satisfied: pyparsing>=2.3.1 in /usr/local/lib/python3.10/dist-packages (from matplotlib->imshowtools) (3.1.0)\n",
            "Requirement already satisfied: python-dateutil>=2.7 in /usr/local/lib/python3.10/dist-packages (from matplotlib->imshowtools) (2.8.2)\n",
            "Requirement already satisfied: six>=1.5 in /usr/local/lib/python3.10/dist-packages (from python-dateutil>=2.7->matplotlib->imshowtools) (1.16.0)\n",
            "Installing collected packages: imshowtools\n",
            "Successfully installed imshowtools-0.6.5\n"
          ]
        }
      ]
    },
    {
      "cell_type": "code",
      "source": [
        "from imshowtools import imshow\n",
        "\n",
        "cat = []\n",
        "for x, y in zip(images[:6], masks[:6]):\n",
        "    x = cv2.imread(x, cv2.IMREAD_COLOR)\n",
        "    x = cv2.cvtColor(x, cv2.COLOR_BGR2RGB)\n",
        "    y = cv2.imread(y, cv2.IMREAD_COLOR)\n",
        "    z = np.concatenate([x, y], axis=1)\n",
        "    cat.append(z)\n",
        "\n",
        "imshow(*cat, size=(20, 10), columns=3)"
      ],
      "metadata": {
        "colab": {
          "base_uri": "https://localhost:8080/",
          "height": 284
        },
        "id": "iawtOhldmTCL",
        "outputId": "813deb2e-cd83-4c13-f655-6f8942824407"
      },
      "execution_count": null,
      "outputs": [
        {
          "output_type": "display_data",
          "data": {
            "text/plain": [
              "<Figure size 2000x1000 with 6 Axes>"
            ],
            "image/png": "[encoded data removed]"
          },
          "metadata": {}
        }
      ]
    },
    {
      "cell_type": "code",
      "source": [
        "(train_x, train_y), (valid_x, valid_y), (test_x, test_y) = split_dataset(images, masks, split=0.2)"
      ],
      "metadata": {
        "id": "6JPZsqermVkj"
      },
      "execution_count": null,
      "outputs": []
    },
    {
      "cell_type": "code",
      "source": [
        "print(f\"Train: {len(train_x)} - {len(train_y)}\")\n",
        "print(f\"Valid: {len(valid_x)} - {len(valid_y)}\")\n",
        "print(f\"Test : {len(test_x)} - {len(test_y)}\")"
      ],
      "metadata": {
        "colab": {
          "base_uri": "https://localhost:8080/"
        },
        "id": "oiGPQRJ5maUz",
        "outputId": "2ecc81a6-3f3f-447b-caaa-095b89241f6f"
      },
      "execution_count": null,
      "outputs": [
        {
          "output_type": "stream",
          "name": "stdout",
          "text": [
            "Train: 179 - 179\n",
            "Valid: 59 - 59\n",
            "Test : 59 - 59\n"
          ]
        }
      ]
    },
    {
      "cell_type": "code",
      "source": [
        "save_dir = os.path.join(\"/content/drive/MyDrive/unet\", \"non-aug\")\n",
        "for item in [\"train\", \"valid\", \"test\"]:\n",
        "    create_dir(os.path.join(save_dir, item, \"images\"))\n",
        "    create_dir(os.path.join(save_dir, item, \"masks\"))"
      ],
      "metadata": {
        "id": "jPhQ0WH-mjSp"
      },
      "execution_count": null,
      "outputs": []
    },
    {
      "cell_type": "code",
      "source": [
        "!ls"
      ],
      "metadata": {
        "colab": {
          "base_uri": "https://localhost:8080/"
        },
        "id": "XEasothvmq6L",
        "outputId": "d535d34a-624c-412a-986b-76ca1a0a5083"
      },
      "execution_count": null,
      "outputs": [
        {
          "output_type": "stream",
          "name": "stdout",
          "text": [
            "drive  sample_data\n"
          ]
        }
      ]
    },
    {
      "cell_type": "code",
      "source": [
        "save_dataset(train_x, train_y, os.path.join(save_dir, \"train\"))"
      ],
      "metadata": {
        "colab": {
          "base_uri": "https://localhost:8080/"
        },
        "id": "Pf_BZImUmvQI",
        "outputId": "990ab505-bd59-4eac-a887-b07a911516a8"
      },
      "execution_count": null,
      "outputs": [
        {
          "output_type": "stream",
          "name": "stderr",
          "text": [
            "100%|██████████| 179/179 [00:06<00:00, 26.32it/s]\n"
          ]
        }
      ]
    },
    {
      "cell_type": "code",
      "source": [
        "save_dataset(valid_x, valid_y, os.path.join(save_dir, \"valid\"))"
      ],
      "metadata": {
        "colab": {
          "base_uri": "https://localhost:8080/"
        },
        "id": "iUrwlmeOmwC0",
        "outputId": "b2263f11-e583-46f7-d7f0-2143c32195ae"
      },
      "execution_count": null,
      "outputs": [
        {
          "output_type": "stream",
          "name": "stderr",
          "text": [
            "100%|██████████| 59/59 [00:02<00:00, 23.39it/s]\n"
          ]
        }
      ]
    },
    {
      "cell_type": "code",
      "source": [
        "save_dataset(test_x, test_y, os.path.join(save_dir, \"test\"))"
      ],
      "metadata": {
        "colab": {
          "base_uri": "https://localhost:8080/"
        },
        "id": "4GWpxdnbmxsr",
        "outputId": "9570d04e-ab09-40e9-d965-620e9556356a"
      },
      "execution_count": null,
      "outputs": [
        {
          "output_type": "stream",
          "name": "stderr",
          "text": [
            "100%|██████████| 59/59 [00:01<00:00, 35.71it/s]\n"
          ]
        }
      ]
    },
    {
      "cell_type": "code",
      "source": [
        "!mv \"/content/unet/non-aug\" \"/content/drive/MyDrive/unet\"\n"
      ],
      "metadata": {
        "id": "1IsPNMJXm0BF"
      },
      "execution_count": null,
      "outputs": []
    },
    {
      "cell_type": "code",
      "source": [
        "!ls"
      ],
      "metadata": {
        "colab": {
          "base_uri": "https://localhost:8080/"
        },
        "id": "gXok6OKX7R_L",
        "outputId": "1c08196d-b1c8-4ef4-8286-4b80e27b0808"
      },
      "execution_count": null,
      "outputs": [
        {
          "output_type": "stream",
          "name": "stdout",
          "text": [
            " air.zip   images   masks   non-aug  'non-aug (1)'\n"
          ]
        }
      ]
    },
    {
      "cell_type": "code",
      "source": [
        "#Training"
      ],
      "metadata": {
        "id": "VhWa6kDBp-Jz"
      },
      "execution_count": null,
      "outputs": []
    },
    {
      "cell_type": "code",
      "source": [
        "drive_path =  \"/content/drive/MyDrive\""
      ],
      "metadata": {
        "id": "o_g1MnroyD-T"
      },
      "execution_count": null,
      "outputs": []
    },
    {
      "cell_type": "code",
      "source": [
        "!pip3 install numpy"
      ],
      "metadata": {
        "colab": {
          "base_uri": "https://localhost:8080/"
        },
        "id": "1SbKiJPNyL0Q",
        "outputId": "1ac798b9-7ff2-4deb-8c66-567430996711"
      },
      "execution_count": null,
      "outputs": [
        {
          "output_type": "stream",
          "name": "stdout",
          "text": [
            "Requirement already satisfied: numpy in /usr/local/lib/python3.10/dist-packages (1.22.4)\n"
          ]
        }
      ]
    },
    {
      "cell_type": "code",
      "source": [
        "import os\n",
        "import numpy as np\n",
        "import cv2\n",
        "from glob import glob\n",
        "import tensorflow as tf\n",
        "from tensorflow.keras.layers import Conv2D, BatchNormalization, Activation, MaxPool2D, Conv2DTranspose, Concatenate, Input\n",
        "from tensorflow.keras.models import Model\n",
        "from tensorflow.keras.callbacks import EarlyStopping, ModelCheckpoint, ReduceLROnPlateau, CSVLogger"
      ],
      "metadata": {
        "id": "3H-zv7eUyPR4"
      },
      "execution_count": null,
      "outputs": []
    },
    {
      "cell_type": "code",
      "source": [
        "os.environ[\"PYTHONHASHSEED\"] = str(42)\n",
        "np.random.seed(42)\n",
        "tf.random.set_seed(42)"
      ],
      "metadata": {
        "id": "gPkgBk8kyRRL"
      },
      "execution_count": null,
      "outputs": []
    },
    {
      "cell_type": "code",
      "source": [
        "batch_size = 4\n",
        "lr = 1e-4 ## 0.0001\n",
        "epochs = 5\n",
        "height = 512\n",
        "width = 512"
      ],
      "metadata": {
        "id": "VrN1HMInyS4q"
      },
      "execution_count": null,
      "outputs": []
    },
    {
      "cell_type": "code",
      "source": [
        "dataset_path = os.path.join('/content/drive/MyDrive/unet/non-aug')\n",
        "\n",
        "files_dir = os.path.join(drive_path, \"UnetAirplane\", \"files\", \"non-aug\")\n",
        "model_file = os.path.join(files_dir, \"unet-non-aug.h5\")\n",
        "log_file = os.path.join(files_dir, \"log-non-aug.csv\")"
      ],
      "metadata": {
        "id": "70aV4y8iyf65"
      },
      "execution_count": null,
      "outputs": []
    },
    {
      "cell_type": "code",
      "source": [],
      "metadata": {
        "id": "YL7GsjwCyx5t"
      },
      "execution_count": null,
      "outputs": []
    },
    {
      "cell_type": "code",
      "source": [
        "def create_dir(path):\n",
        "    if not os.path.exists(path):\n",
        "        os.makedirs(path)"
      ],
      "metadata": {
        "id": "JGNaTIL2yjqG"
      },
      "execution_count": null,
      "outputs": []
    },
    {
      "cell_type": "code",
      "source": [
        "create_dir(files_dir)"
      ],
      "metadata": {
        "id": "Fkcsxb2byk-P"
      },
      "execution_count": null,
      "outputs": []
    },
    {
      "cell_type": "code",
      "source": [
        "def conv_block(inputs, num_filters):\n",
        "    x = Conv2D(num_filters, 3, padding=\"same\")(inputs)\n",
        "    x = BatchNormalization()(x)\n",
        "    x = Activation(\"relu\")(x)\n",
        "\n",
        "    x = Conv2D(num_filters, 3, padding=\"same\")(x)\n",
        "    x = BatchNormalization()(x)\n",
        "    x = Activation(\"relu\")(x)\n",
        "\n",
        "    return x"
      ],
      "metadata": {
        "id": "bbKgX6Fcy2C9"
      },
      "execution_count": null,
      "outputs": []
    },
    {
      "cell_type": "code",
      "source": [
        "def encoder_block(inputs, num_filters):\n",
        "    x = conv_block(inputs, num_filters)\n",
        "    p = MaxPool2D((2, 2))(x)\n",
        "    return x, p"
      ],
      "metadata": {
        "id": "z1LT5jcty4T4"
      },
      "execution_count": null,
      "outputs": []
    },
    {
      "cell_type": "code",
      "source": [
        "def decoder_block(inputs, skip, num_filters):\n",
        "    x = Conv2DTranspose(num_filters, (2, 2), strides=2, padding=\"same\")(inputs)\n",
        "    x = Concatenate()([x, skip])\n",
        "    x = conv_block(x, num_filters)\n",
        "    return x"
      ],
      "metadata": {
        "id": "EGJOmVcSy52p"
      },
      "execution_count": null,
      "outputs": []
    },
    {
      "cell_type": "code",
      "source": [
        "def build_unet(input_shape):\n",
        "    inputs = Input(input_shape)\n",
        "\n",
        "    \"\"\" Encoder \"\"\"\n",
        "    s1, p1 = encoder_block(inputs, 64)\n",
        "    s2, p2 = encoder_block(p1, 128)\n",
        "    s3, p3 = encoder_block(p2, 256)\n",
        "    s4, p4 = encoder_block(p3, 512)\n",
        "\n",
        "    \"\"\" Bridge \"\"\"\n",
        "    b1 = conv_block(p4, 1024)\n",
        "\n",
        "    \"\"\" Decoder \"\"\"\n",
        "    d1 = decoder_block(b1, s4, 512)\n",
        "    d2 = decoder_block(d1, s3, 256)\n",
        "    d3 = decoder_block(d2, s2, 128)\n",
        "    d4 = decoder_block(d3, s1, 64)\n",
        "\n",
        "    outputs = Conv2D(1, 1, padding=\"same\", activation=\"sigmoid\")(d4)\n",
        "\n",
        "    model = Model(inputs, outputs, name=\"UNET\")\n",
        "    return model"
      ],
      "metadata": {
        "id": "7JdzmVQKy7h7"
      },
      "execution_count": null,
      "outputs": []
    },
    {
      "cell_type": "code",
      "source": [
        "def load_data(path):\n",
        "    train_x = sorted(glob(os.path.join(path, \"train\", \"images\", \"*\")))\n",
        "    train_y = sorted(glob(os.path.join(path, \"train\", \"masks\", \"*\")))\n",
        "\n",
        "    valid_x = sorted(glob(os.path.join(path, \"valid\", \"images\", \"*\")))\n",
        "    valid_y = sorted(glob(os.path.join(path, \"valid\", \"masks\", \"*\")))\n",
        "\n",
        "    return (train_x, train_y), (valid_x, valid_y)"
      ],
      "metadata": {
        "id": "csMkECaQy9zE"
      },
      "execution_count": null,
      "outputs": []
    },
    {
      "cell_type": "code",
      "source": [
        "def read_image(path):\n",
        "    path = path.decode()\n",
        "    x = cv2.imread(path, cv2.IMREAD_COLOR)\n",
        "    x = x/255.0\n",
        "    return x"
      ],
      "metadata": {
        "id": "G2yjZwnczAqb"
      },
      "execution_count": null,
      "outputs": []
    },
    {
      "cell_type": "code",
      "source": [
        "def read_mask(path):\n",
        "    path = path.decode()\n",
        "    x = cv2.imread(path, cv2.IMREAD_GRAYSCALE)\n",
        "    x = x/255.0\n",
        "    x = np.expand_dims(x, axis=-1)\n",
        "    return x"
      ],
      "metadata": {
        "id": "ZlydVBb-zCoB"
      },
      "execution_count": null,
      "outputs": []
    },
    {
      "cell_type": "code",
      "source": [
        "def tf_parse(x, y):\n",
        "    def _parse(x, y):\n",
        "        x = read_image(x)\n",
        "        y = read_mask(y)\n",
        "        return x, y\n",
        "\n",
        "    x, y = tf.numpy_function(_parse, [x, y], [tf.float64, tf.float64])\n",
        "    x.set_shape([height, width, 3])\n",
        "    y.set_shape([height, width, 1])\n",
        "\n",
        "    return x, y"
      ],
      "metadata": {
        "id": "2ZSmmRPNzEee"
      },
      "execution_count": null,
      "outputs": []
    },
    {
      "cell_type": "code",
      "source": [
        "def tf_dataset(x, y, batch=8):\n",
        "    dataset = tf.data.Dataset.from_tensor_slices((x, y))\n",
        "    dataset = dataset.map(tf_parse, num_parallel_calls=tf.data.AUTOTUNE)\n",
        "    dataset = dataset.batch(batch)\n",
        "    dataset = dataset.prefetch(tf.data.AUTOTUNE)\n",
        "    return dataset"
      ],
      "metadata": {
        "id": "oRYqS0KHzGSR"
      },
      "execution_count": null,
      "outputs": []
    },
    {
      "cell_type": "code",
      "source": [
        "(train_x, train_y), (valid_x, valid_y) = load_data(dataset_path)\n",
        "print(f\"Train: {len(train_x)} - {len(train_y)}\")\n",
        "print(f\"Valid: {len(valid_x)} - {len(valid_y)}\")"
      ],
      "metadata": {
        "colab": {
          "base_uri": "https://localhost:8080/"
        },
        "id": "6wYIQwzczIFs",
        "outputId": "fdc0cde7-d758-4ec7-d41d-87974e656ebe"
      },
      "execution_count": null,
      "outputs": [
        {
          "output_type": "stream",
          "name": "stdout",
          "text": [
            "Train: 179 - 179\n",
            "Valid: 59 - 59\n"
          ]
        }
      ]
    },
    {
      "cell_type": "code",
      "source": [
        "train_dataset = tf_dataset(train_x, train_y, batch=batch_size)\n",
        "valid_dataset = tf_dataset(valid_x, valid_y, batch=batch_size)"
      ],
      "metadata": {
        "id": "GB4fZJWazJ3K"
      },
      "execution_count": null,
      "outputs": []
    },
    {
      "cell_type": "code",
      "source": [
        "for x, y in valid_dataset:\n",
        "    print(x.shape, y.shape)"
      ],
      "metadata": {
        "colab": {
          "base_uri": "https://localhost:8080/"
        },
        "id": "WCeU5MZzzjTo",
        "outputId": "dc776fd6-7051-4e4b-d740-c494ed8f0cbd"
      },
      "execution_count": null,
      "outputs": [
        {
          "output_type": "stream",
          "name": "stdout",
          "text": [
            "(4, 512, 512, 3) (4, 512, 512, 1)\n",
            "(4, 512, 512, 3) (4, 512, 512, 1)\n",
            "(4, 512, 512, 3) (4, 512, 512, 1)\n",
            "(4, 512, 512, 3) (4, 512, 512, 1)\n",
            "(4, 512, 512, 3) (4, 512, 512, 1)\n",
            "(4, 512, 512, 3) (4, 512, 512, 1)\n",
            "(4, 512, 512, 3) (4, 512, 512, 1)\n",
            "(4, 512, 512, 3) (4, 512, 512, 1)\n",
            "(4, 512, 512, 3) (4, 512, 512, 1)\n",
            "(4, 512, 512, 3) (4, 512, 512, 1)\n",
            "(4, 512, 512, 3) (4, 512, 512, 1)\n",
            "(4, 512, 512, 3) (4, 512, 512, 1)\n",
            "(4, 512, 512, 3) (4, 512, 512, 1)\n",
            "(4, 512, 512, 3) (4, 512, 512, 1)\n",
            "(3, 512, 512, 3) (3, 512, 512, 1)\n"
          ]
        }
      ]
    },
    {
      "cell_type": "code",
      "source": [
        "input_shape = (height, width, 3)\n",
        "model = build_unet(input_shape)"
      ],
      "metadata": {
        "id": "1OGWQmP8zMT_"
      },
      "execution_count": null,
      "outputs": []
    },
    {
      "cell_type": "code",
      "source": [
        "model.summary()"
      ],
      "metadata": {
        "colab": {
          "base_uri": "https://localhost:8080/"
        },
        "id": "hUl3zS_7zNuD",
        "outputId": "a1bf719f-224a-4986-ceb7-e9d21bba623f"
      },
      "execution_count": null,
      "outputs": [
        {
          "output_type": "stream",
          "name": "stdout",
          "text": [
            "Model: \"UNET\"\n",
            "__________________________________________________________________________________________________\n",
            " Layer (type)                   Output Shape         Param #     Connected to                     \n",
            "==================================================================================================\n",
            " input_4 (InputLayer)           [(None, 512, 512, 3  0           []                               \n",
            "                                )]                                                                \n",
            "                                                                                                  \n",
            " conv2d_57 (Conv2D)             (None, 512, 512, 64  1792        ['input_4[0][0]']                \n",
            "                                )                                                                 \n",
            "                                                                                                  \n",
            " batch_normalization_54 (BatchN  (None, 512, 512, 64  256        ['conv2d_57[0][0]']              \n",
            " ormalization)                  )                                                                 \n",
            "                                                                                                  \n",
            " activation_54 (Activation)     (None, 512, 512, 64  0           ['batch_normalization_54[0][0]'] \n",
            "                                )                                                                 \n",
            "                                                                                                  \n",
            " conv2d_58 (Conv2D)             (None, 512, 512, 64  36928       ['activation_54[0][0]']          \n",
            "                                )                                                                 \n",
            "                                                                                                  \n",
            " batch_normalization_55 (BatchN  (None, 512, 512, 64  256        ['conv2d_58[0][0]']              \n",
            " ormalization)                  )                                                                 \n",
            "                                                                                                  \n",
            " activation_55 (Activation)     (None, 512, 512, 64  0           ['batch_normalization_55[0][0]'] \n",
            "                                )                                                                 \n",
            "                                                                                                  \n",
            " max_pooling2d_12 (MaxPooling2D  (None, 256, 256, 64  0          ['activation_55[0][0]']          \n",
            " )                              )                                                                 \n",
            "                                                                                                  \n",
            " conv2d_59 (Conv2D)             (None, 256, 256, 12  73856       ['max_pooling2d_12[0][0]']       \n",
            "                                8)                                                                \n",
            "                                                                                                  \n",
            " batch_normalization_56 (BatchN  (None, 256, 256, 12  512        ['conv2d_59[0][0]']              \n",
            " ormalization)                  8)                                                                \n",
            "                                                                                                  \n",
            " activation_56 (Activation)     (None, 256, 256, 12  0           ['batch_normalization_56[0][0]'] \n",
            "                                8)                                                                \n",
            "                                                                                                  \n",
            " conv2d_60 (Conv2D)             (None, 256, 256, 12  147584      ['activation_56[0][0]']          \n",
            "                                8)                                                                \n",
            "                                                                                                  \n",
            " batch_normalization_57 (BatchN  (None, 256, 256, 12  512        ['conv2d_60[0][0]']              \n",
            " ormalization)                  8)                                                                \n",
            "                                                                                                  \n",
            " activation_57 (Activation)     (None, 256, 256, 12  0           ['batch_normalization_57[0][0]'] \n",
            "                                8)                                                                \n",
            "                                                                                                  \n",
            " max_pooling2d_13 (MaxPooling2D  (None, 128, 128, 12  0          ['activation_57[0][0]']          \n",
            " )                              8)                                                                \n",
            "                                                                                                  \n",
            " conv2d_61 (Conv2D)             (None, 128, 128, 25  295168      ['max_pooling2d_13[0][0]']       \n",
            "                                6)                                                                \n",
            "                                                                                                  \n",
            " batch_normalization_58 (BatchN  (None, 128, 128, 25  1024       ['conv2d_61[0][0]']              \n",
            " ormalization)                  6)                                                                \n",
            "                                                                                                  \n",
            " activation_58 (Activation)     (None, 128, 128, 25  0           ['batch_normalization_58[0][0]'] \n",
            "                                6)                                                                \n",
            "                                                                                                  \n",
            " conv2d_62 (Conv2D)             (None, 128, 128, 25  590080      ['activation_58[0][0]']          \n",
            "                                6)                                                                \n",
            "                                                                                                  \n",
            " batch_normalization_59 (BatchN  (None, 128, 128, 25  1024       ['conv2d_62[0][0]']              \n",
            " ormalization)                  6)                                                                \n",
            "                                                                                                  \n",
            " activation_59 (Activation)     (None, 128, 128, 25  0           ['batch_normalization_59[0][0]'] \n",
            "                                6)                                                                \n",
            "                                                                                                  \n",
            " max_pooling2d_14 (MaxPooling2D  (None, 64, 64, 256)  0          ['activation_59[0][0]']          \n",
            " )                                                                                                \n",
            "                                                                                                  \n",
            " conv2d_63 (Conv2D)             (None, 64, 64, 512)  1180160     ['max_pooling2d_14[0][0]']       \n",
            "                                                                                                  \n",
            " batch_normalization_60 (BatchN  (None, 64, 64, 512)  2048       ['conv2d_63[0][0]']              \n",
            " ormalization)                                                                                    \n",
            "                                                                                                  \n",
            " activation_60 (Activation)     (None, 64, 64, 512)  0           ['batch_normalization_60[0][0]'] \n",
            "                                                                                                  \n",
            " conv2d_64 (Conv2D)             (None, 64, 64, 512)  2359808     ['activation_60[0][0]']          \n",
            "                                                                                                  \n",
            " batch_normalization_61 (BatchN  (None, 64, 64, 512)  2048       ['conv2d_64[0][0]']              \n",
            " ormalization)                                                                                    \n",
            "                                                                                                  \n",
            " activation_61 (Activation)     (None, 64, 64, 512)  0           ['batch_normalization_61[0][0]'] \n",
            "                                                                                                  \n",
            " max_pooling2d_15 (MaxPooling2D  (None, 32, 32, 512)  0          ['activation_61[0][0]']          \n",
            " )                                                                                                \n",
            "                                                                                                  \n",
            " conv2d_65 (Conv2D)             (None, 32, 32, 1024  4719616     ['max_pooling2d_15[0][0]']       \n",
            "                                )                                                                 \n",
            "                                                                                                  \n",
            " batch_normalization_62 (BatchN  (None, 32, 32, 1024  4096       ['conv2d_65[0][0]']              \n",
            " ormalization)                  )                                                                 \n",
            "                                                                                                  \n",
            " activation_62 (Activation)     (None, 32, 32, 1024  0           ['batch_normalization_62[0][0]'] \n",
            "                                )                                                                 \n",
            "                                                                                                  \n",
            " conv2d_66 (Conv2D)             (None, 32, 32, 1024  9438208     ['activation_62[0][0]']          \n",
            "                                )                                                                 \n",
            "                                                                                                  \n",
            " batch_normalization_63 (BatchN  (None, 32, 32, 1024  4096       ['conv2d_66[0][0]']              \n",
            " ormalization)                  )                                                                 \n",
            "                                                                                                  \n",
            " activation_63 (Activation)     (None, 32, 32, 1024  0           ['batch_normalization_63[0][0]'] \n",
            "                                )                                                                 \n",
            "                                                                                                  \n",
            " conv2d_transpose_12 (Conv2DTra  (None, 64, 64, 512)  2097664    ['activation_63[0][0]']          \n",
            " nspose)                                                                                          \n",
            "                                                                                                  \n",
            " concatenate_12 (Concatenate)   (None, 64, 64, 1024  0           ['conv2d_transpose_12[0][0]',    \n",
            "                                )                                 'activation_61[0][0]']          \n",
            "                                                                                                  \n",
            " conv2d_67 (Conv2D)             (None, 64, 64, 512)  4719104     ['concatenate_12[0][0]']         \n",
            "                                                                                                  \n",
            " batch_normalization_64 (BatchN  (None, 64, 64, 512)  2048       ['conv2d_67[0][0]']              \n",
            " ormalization)                                                                                    \n",
            "                                                                                                  \n",
            " activation_64 (Activation)     (None, 64, 64, 512)  0           ['batch_normalization_64[0][0]'] \n",
            "                                                                                                  \n",
            " conv2d_68 (Conv2D)             (None, 64, 64, 512)  2359808     ['activation_64[0][0]']          \n",
            "                                                                                                  \n",
            " batch_normalization_65 (BatchN  (None, 64, 64, 512)  2048       ['conv2d_68[0][0]']              \n",
            " ormalization)                                                                                    \n",
            "                                                                                                  \n",
            " activation_65 (Activation)     (None, 64, 64, 512)  0           ['batch_normalization_65[0][0]'] \n",
            "                                                                                                  \n",
            " conv2d_transpose_13 (Conv2DTra  (None, 128, 128, 25  524544     ['activation_65[0][0]']          \n",
            " nspose)                        6)                                                                \n",
            "                                                                                                  \n",
            " concatenate_13 (Concatenate)   (None, 128, 128, 51  0           ['conv2d_transpose_13[0][0]',    \n",
            "                                2)                                'activation_59[0][0]']          \n",
            "                                                                                                  \n",
            " conv2d_69 (Conv2D)             (None, 128, 128, 25  1179904     ['concatenate_13[0][0]']         \n",
            "                                6)                                                                \n",
            "                                                                                                  \n",
            " batch_normalization_66 (BatchN  (None, 128, 128, 25  1024       ['conv2d_69[0][0]']              \n",
            " ormalization)                  6)                                                                \n",
            "                                                                                                  \n",
            " activation_66 (Activation)     (None, 128, 128, 25  0           ['batch_normalization_66[0][0]'] \n",
            "                                6)                                                                \n",
            "                                                                                                  \n",
            " conv2d_70 (Conv2D)             (None, 128, 128, 25  590080      ['activation_66[0][0]']          \n",
            "                                6)                                                                \n",
            "                                                                                                  \n",
            " batch_normalization_67 (BatchN  (None, 128, 128, 25  1024       ['conv2d_70[0][0]']              \n",
            " ormalization)                  6)                                                                \n",
            "                                                                                                  \n",
            " activation_67 (Activation)     (None, 128, 128, 25  0           ['batch_normalization_67[0][0]'] \n",
            "                                6)                                                                \n",
            "                                                                                                  \n",
            " conv2d_transpose_14 (Conv2DTra  (None, 256, 256, 12  131200     ['activation_67[0][0]']          \n",
            " nspose)                        8)                                                                \n",
            "                                                                                                  \n",
            " concatenate_14 (Concatenate)   (None, 256, 256, 25  0           ['conv2d_transpose_14[0][0]',    \n",
            "                                6)                                'activation_57[0][0]']          \n",
            "                                                                                                  \n",
            " conv2d_71 (Conv2D)             (None, 256, 256, 12  295040      ['concatenate_14[0][0]']         \n",
            "                                8)                                                                \n",
            "                                                                                                  \n",
            " batch_normalization_68 (BatchN  (None, 256, 256, 12  512        ['conv2d_71[0][0]']              \n",
            " ormalization)                  8)                                                                \n",
            "                                                                                                  \n",
            " activation_68 (Activation)     (None, 256, 256, 12  0           ['batch_normalization_68[0][0]'] \n",
            "                                8)                                                                \n",
            "                                                                                                  \n",
            " conv2d_72 (Conv2D)             (None, 256, 256, 12  147584      ['activation_68[0][0]']          \n",
            "                                8)                                                                \n",
            "                                                                                                  \n",
            " batch_normalization_69 (BatchN  (None, 256, 256, 12  512        ['conv2d_72[0][0]']              \n",
            " ormalization)                  8)                                                                \n",
            "                                                                                                  \n",
            " activation_69 (Activation)     (None, 256, 256, 12  0           ['batch_normalization_69[0][0]'] \n",
            "                                8)                                                                \n",
            "                                                                                                  \n",
            " conv2d_transpose_15 (Conv2DTra  (None, 512, 512, 64  32832      ['activation_69[0][0]']          \n",
            " nspose)                        )                                                                 \n",
            "                                                                                                  \n",
            " concatenate_15 (Concatenate)   (None, 512, 512, 12  0           ['conv2d_transpose_15[0][0]',    \n",
            "                                8)                                'activation_55[0][0]']          \n",
            "                                                                                                  \n",
            " conv2d_73 (Conv2D)             (None, 512, 512, 64  73792       ['concatenate_15[0][0]']         \n",
            "                                )                                                                 \n",
            "                                                                                                  \n",
            " batch_normalization_70 (BatchN  (None, 512, 512, 64  256        ['conv2d_73[0][0]']              \n",
            " ormalization)                  )                                                                 \n",
            "                                                                                                  \n",
            " activation_70 (Activation)     (None, 512, 512, 64  0           ['batch_normalization_70[0][0]'] \n",
            "                                )                                                                 \n",
            "                                                                                                  \n",
            " conv2d_74 (Conv2D)             (None, 512, 512, 64  36928       ['activation_70[0][0]']          \n",
            "                                )                                                                 \n",
            "                                                                                                  \n",
            " batch_normalization_71 (BatchN  (None, 512, 512, 64  256        ['conv2d_74[0][0]']              \n",
            " ormalization)                  )                                                                 \n",
            "                                                                                                  \n",
            " activation_71 (Activation)     (None, 512, 512, 64  0           ['batch_normalization_71[0][0]'] \n",
            "                                )                                                                 \n",
            "                                                                                                  \n",
            " conv2d_75 (Conv2D)             (None, 512, 512, 1)  65          ['activation_71[0][0]']          \n",
            "                                                                                                  \n",
            "==================================================================================================\n",
            "Total params: 31,055,297\n",
            "Trainable params: 31,043,521\n",
            "Non-trainable params: 11,776\n",
            "__________________________________________________________________________________________________\n"
          ]
        }
      ]
    },
    {
      "cell_type": "code",
      "source": [
        "opt = tf.keras.optimizers.Adam(lr)\n",
        "model.compile(loss=\"binary_crossentropy\", optimizer=opt, metrics=[\"acc\"])"
      ],
      "metadata": {
        "id": "sQvNj9uwzQAw"
      },
      "execution_count": null,
      "outputs": []
    },
    {
      "cell_type": "code",
      "source": [],
      "metadata": {
        "id": "nOVeRZqmPqsg"
      },
      "execution_count": null,
      "outputs": []
    },
    {
      "cell_type": "code",
      "source": [
        "callbacks = [\n",
        "        ModelCheckpoint(model_file, verbose=1, save_best_only=True),\n",
        "        ReduceLROnPlateau(monitor='val_loss', factor=0.1, patience=4),\n",
        "        CSVLogger(log_file),\n",
        "        EarlyStopping(monitor='val_loss', patience=20, restore_best_weights=False)\n",
        "    ]"
      ],
      "metadata": {
        "id": "c1l7ZaAdzRll"
      },
      "execution_count": null,
      "outputs": []
    },
    {
      "cell_type": "code",
      "source": [
        "model.fit(\n",
        "    train_dataset,\n",
        "    validation_data=valid_dataset,\n",
        "    epochs=epochs,\n",
        "    callbacks=callbacks\n",
        ")"
      ],
      "metadata": {
        "colab": {
          "base_uri": "https://localhost:8080/"
        },
        "id": "rDS38K4JNt4W",
        "outputId": "8c2c22b2-58cf-4833-f844-e92f84f3a801"
      },
      "execution_count": null,
      "outputs": [
        {
          "output_type": "stream",
          "name": "stdout",
          "text": [
            "Epoch 1/5\n",
            "45/45 [==============================] - ETA: 0s - loss: 0.4743 - acc: 0.8581\n",
            "Epoch 1: val_loss improved from inf to 0.59479, saving model to /content/drive/MyDrive/UnetAirplane/files/non-aug/unet-non-aug.h5\n",
            "45/45 [==============================] - 70s 1s/step - loss: 0.4743 - acc: 0.8581 - val_loss: 0.5948 - val_acc: 0.9785 - lr: 1.0000e-04\n",
            "Epoch 2/5\n",
            "45/45 [==============================] - ETA: 0s - loss: 0.2184 - acc: 0.9803\n",
            "Epoch 2: val_loss improved from 0.59479 to 0.43576, saving model to /content/drive/MyDrive/UnetAirplane/files/non-aug/unet-non-aug.h5\n",
            "45/45 [==============================] - 75s 2s/step - loss: 0.2184 - acc: 0.9803 - val_loss: 0.4358 - val_acc: 0.9788 - lr: 1.0000e-04\n",
            "Epoch 3/5\n",
            "45/45 [==============================] - ETA: 0s - loss: 0.1751 - acc: 0.9811\n",
            "Epoch 3: val_loss improved from 0.43576 to 0.33148, saving model to /content/drive/MyDrive/UnetAirplane/files/non-aug/unet-non-aug.h5\n",
            "45/45 [==============================] - 76s 2s/step - loss: 0.1751 - acc: 0.9811 - val_loss: 0.3315 - val_acc: 0.9788 - lr: 1.0000e-04\n",
            "Epoch 4/5\n",
            "45/45 [==============================] - ETA: 0s - loss: 0.1557 - acc: 0.9813\n",
            "Epoch 4: val_loss improved from 0.33148 to 0.25933, saving model to /content/drive/MyDrive/UnetAirplane/files/non-aug/unet-non-aug.h5\n",
            "45/45 [==============================] - 83s 2s/step - loss: 0.1557 - acc: 0.9813 - val_loss: 0.2593 - val_acc: 0.9788 - lr: 1.0000e-04\n",
            "Epoch 5/5\n",
            "45/45 [==============================] - ETA: 0s - loss: 0.1446 - acc: 0.9813\n",
            "Epoch 5: val_loss improved from 0.25933 to 0.21625, saving model to /content/drive/MyDrive/UnetAirplane/files/non-aug/unet-non-aug.h5\n",
            "45/45 [==============================] - 75s 2s/step - loss: 0.1446 - acc: 0.9813 - val_loss: 0.2163 - val_acc: 0.9788 - lr: 1.0000e-04\n"
          ]
        },
        {
          "output_type": "execute_result",
          "data": {
            "text/plain": [
              "<keras.callbacks.History at 0x789e6c2f47c0>"
            ]
          },
          "metadata": {},
          "execution_count": 232
        }
      ]
    },
    {
      "cell_type": "code",
      "source": [
        "#Evaluation"
      ],
      "metadata": {
        "id": "Of4KvqcFY__0"
      },
      "execution_count": null,
      "outputs": []
    },
    {
      "cell_type": "code",
      "source": [
        "import os\n",
        "import time\n",
        "import numpy as np\n",
        "import cv2\n",
        "from glob import glob\n",
        "from tqdm import tqdm\n",
        "import tensorflow as tf"
      ],
      "metadata": {
        "id": "RuinoFNgPsot"
      },
      "execution_count": null,
      "outputs": []
    },
    {
      "cell_type": "code",
      "source": [
        "os.environ[\"PYTHONHASHSEED\"] = str(42)\n",
        "np.random.seed(42)\n",
        "tf.random.set_seed(42)"
      ],
      "metadata": {
        "id": "VSCVfO1UZDE0"
      },
      "execution_count": null,
      "outputs": []
    },
    {
      "cell_type": "code",
      "source": [
        "height = 256\n",
        "width = 256"
      ],
      "metadata": {
        "id": "pd2-V_EhZGBB"
      },
      "execution_count": null,
      "outputs": []
    },
    {
      "cell_type": "code",
      "source": [
        "!ls"
      ],
      "metadata": {
        "colab": {
          "base_uri": "https://localhost:8080/"
        },
        "id": "Ul4fyTB7cQ6A",
        "outputId": "892da2c0-60e0-4788-8fc4-d4daec44eafe"
      },
      "execution_count": null,
      "outputs": [
        {
          "output_type": "stream",
          "name": "stdout",
          "text": [
            "drive  sample_data\n"
          ]
        }
      ]
    },
    {
      "cell_type": "code",
      "source": [
        "%cd /content/drive/MyDrive/UnetAirplane"
      ],
      "metadata": {
        "colab": {
          "base_uri": "https://localhost:8080/"
        },
        "id": "wiOLIT1hcOn4",
        "outputId": "72a7a577-4a7e-4123-814b-51711bbb7c72"
      },
      "execution_count": null,
      "outputs": [
        {
          "output_type": "stream",
          "name": "stdout",
          "text": [
            "/content/drive/MyDrive/UnetAirplane\n"
          ]
        }
      ]
    },
    {
      "cell_type": "code",
      "source": [
        "!ls"
      ],
      "metadata": {
        "colab": {
          "base_uri": "https://localhost:8080/"
        },
        "id": "i48huh7fcVw9",
        "outputId": "27fa62dc-37d5-4313-9268-a873e98ee302"
      },
      "execution_count": null,
      "outputs": [
        {
          "output_type": "stream",
          "name": "stdout",
          "text": [
            "files  pred  predict\n"
          ]
        }
      ]
    },
    {
      "cell_type": "code",
      "source": [
        "dataset_path= \"/content/drive/MyDrive/unet/non-aug\"\n",
        "save_path = \"/content/drive/MyDrive/UnetAirplane/predict\"\n",
        "model_path = '/content/drive/MyDrive/UnetAirplane/files/non-aug/unet-non-aug.h5'"
      ],
      "metadata": {
        "id": "1lEAXbDqasqz"
      },
      "execution_count": null,
      "outputs": []
    },
    {
      "cell_type": "code",
      "source": [
        "save_path ='/content/drive/MyDrive/airplane/predout'"
      ],
      "metadata": {
        "id": "xtJ36G0dZbY1"
      },
      "execution_count": null,
      "outputs": []
    },
    {
      "cell_type": "code",
      "source": [
        "def create_dir(path):\n",
        "    if not os.path.exists(path):\n",
        "        os.makedirs(path)"
      ],
      "metadata": {
        "id": "-1sYT1evZWus"
      },
      "execution_count": null,
      "outputs": []
    },
    {
      "cell_type": "code",
      "source": [
        "create_dir(save_path)\n",
        "\n"
      ],
      "metadata": {
        "id": "4ZEUyj9dZZa0"
      },
      "execution_count": null,
      "outputs": []
    },
    {
      "cell_type": "code",
      "source": [
        "model = tf.keras.models.load_model('/content/drive/MyDrive/UnetAirplane/files/non-aug/unet-non-aug.h5')"
      ],
      "metadata": {
        "id": "7ZpaaHL7biuz"
      },
      "execution_count": null,
      "outputs": []
    },
    {
      "cell_type": "code",
      "source": [
        "model.summary()"
      ],
      "metadata": {
        "colab": {
          "base_uri": "https://localhost:8080/"
        },
        "id": "94J7rCwye5Bj",
        "outputId": "588ecd25-b138-4925-aed8-4bbc8b9019e3"
      },
      "execution_count": null,
      "outputs": [
        {
          "output_type": "stream",
          "name": "stdout",
          "text": [
            "Model: \"UNET\"\n",
            "__________________________________________________________________________________________________\n",
            " Layer (type)                   Output Shape         Param #     Connected to                     \n",
            "==================================================================================================\n",
            " input_4 (InputLayer)           [(None, 512, 512, 3  0           []                               \n",
            "                                )]                                                                \n",
            "                                                                                                  \n",
            " conv2d_57 (Conv2D)             (None, 512, 512, 64  1792        ['input_4[0][0]']                \n",
            "                                )                                                                 \n",
            "                                                                                                  \n",
            " batch_normalization_54 (BatchN  (None, 512, 512, 64  256        ['conv2d_57[0][0]']              \n",
            " ormalization)                  )                                                                 \n",
            "                                                                                                  \n",
            " activation_54 (Activation)     (None, 512, 512, 64  0           ['batch_normalization_54[0][0]'] \n",
            "                                )                                                                 \n",
            "                                                                                                  \n",
            " conv2d_58 (Conv2D)             (None, 512, 512, 64  36928       ['activation_54[0][0]']          \n",
            "                                )                                                                 \n",
            "                                                                                                  \n",
            " batch_normalization_55 (BatchN  (None, 512, 512, 64  256        ['conv2d_58[0][0]']              \n",
            " ormalization)                  )                                                                 \n",
            "                                                                                                  \n",
            " activation_55 (Activation)     (None, 512, 512, 64  0           ['batch_normalization_55[0][0]'] \n",
            "                                )                                                                 \n",
            "                                                                                                  \n",
            " max_pooling2d_12 (MaxPooling2D  (None, 256, 256, 64  0          ['activation_55[0][0]']          \n",
            " )                              )                                                                 \n",
            "                                                                                                  \n",
            " conv2d_59 (Conv2D)             (None, 256, 256, 12  73856       ['max_pooling2d_12[0][0]']       \n",
            "                                8)                                                                \n",
            "                                                                                                  \n",
            " batch_normalization_56 (BatchN  (None, 256, 256, 12  512        ['conv2d_59[0][0]']              \n",
            " ormalization)                  8)                                                                \n",
            "                                                                                                  \n",
            " activation_56 (Activation)     (None, 256, 256, 12  0           ['batch_normalization_56[0][0]'] \n",
            "                                8)                                                                \n",
            "                                                                                                  \n",
            " conv2d_60 (Conv2D)             (None, 256, 256, 12  147584      ['activation_56[0][0]']          \n",
            "                                8)                                                                \n",
            "                                                                                                  \n",
            " batch_normalization_57 (BatchN  (None, 256, 256, 12  512        ['conv2d_60[0][0]']              \n",
            " ormalization)                  8)                                                                \n",
            "                                                                                                  \n",
            " activation_57 (Activation)     (None, 256, 256, 12  0           ['batch_normalization_57[0][0]'] \n",
            "                                8)                                                                \n",
            "                                                                                                  \n",
            " max_pooling2d_13 (MaxPooling2D  (None, 128, 128, 12  0          ['activation_57[0][0]']          \n",
            " )                              8)                                                                \n",
            "                                                                                                  \n",
            " conv2d_61 (Conv2D)             (None, 128, 128, 25  295168      ['max_pooling2d_13[0][0]']       \n",
            "                                6)                                                                \n",
            "                                                                                                  \n",
            " batch_normalization_58 (BatchN  (None, 128, 128, 25  1024       ['conv2d_61[0][0]']              \n",
            " ormalization)                  6)                                                                \n",
            "                                                                                                  \n",
            " activation_58 (Activation)     (None, 128, 128, 25  0           ['batch_normalization_58[0][0]'] \n",
            "                                6)                                                                \n",
            "                                                                                                  \n",
            " conv2d_62 (Conv2D)             (None, 128, 128, 25  590080      ['activation_58[0][0]']          \n",
            "                                6)                                                                \n",
            "                                                                                                  \n",
            " batch_normalization_59 (BatchN  (None, 128, 128, 25  1024       ['conv2d_62[0][0]']              \n",
            " ormalization)                  6)                                                                \n",
            "                                                                                                  \n",
            " activation_59 (Activation)     (None, 128, 128, 25  0           ['batch_normalization_59[0][0]'] \n",
            "                                6)                                                                \n",
            "                                                                                                  \n",
            " max_pooling2d_14 (MaxPooling2D  (None, 64, 64, 256)  0          ['activation_59[0][0]']          \n",
            " )                                                                                                \n",
            "                                                                                                  \n",
            " conv2d_63 (Conv2D)             (None, 64, 64, 512)  1180160     ['max_pooling2d_14[0][0]']       \n",
            "                                                                                                  \n",
            " batch_normalization_60 (BatchN  (None, 64, 64, 512)  2048       ['conv2d_63[0][0]']              \n",
            " ormalization)                                                                                    \n",
            "                                                                                                  \n",
            " activation_60 (Activation)     (None, 64, 64, 512)  0           ['batch_normalization_60[0][0]'] \n",
            "                                                                                                  \n",
            " conv2d_64 (Conv2D)             (None, 64, 64, 512)  2359808     ['activation_60[0][0]']          \n",
            "                                                                                                  \n",
            " batch_normalization_61 (BatchN  (None, 64, 64, 512)  2048       ['conv2d_64[0][0]']              \n",
            " ormalization)                                                                                    \n",
            "                                                                                                  \n",
            " activation_61 (Activation)     (None, 64, 64, 512)  0           ['batch_normalization_61[0][0]'] \n",
            "                                                                                                  \n",
            " max_pooling2d_15 (MaxPooling2D  (None, 32, 32, 512)  0          ['activation_61[0][0]']          \n",
            " )                                                                                                \n",
            "                                                                                                  \n",
            " conv2d_65 (Conv2D)             (None, 32, 32, 1024  4719616     ['max_pooling2d_15[0][0]']       \n",
            "                                )                                                                 \n",
            "                                                                                                  \n",
            " batch_normalization_62 (BatchN  (None, 32, 32, 1024  4096       ['conv2d_65[0][0]']              \n",
            " ormalization)                  )                                                                 \n",
            "                                                                                                  \n",
            " activation_62 (Activation)     (None, 32, 32, 1024  0           ['batch_normalization_62[0][0]'] \n",
            "                                )                                                                 \n",
            "                                                                                                  \n",
            " conv2d_66 (Conv2D)             (None, 32, 32, 1024  9438208     ['activation_62[0][0]']          \n",
            "                                )                                                                 \n",
            "                                                                                                  \n",
            " batch_normalization_63 (BatchN  (None, 32, 32, 1024  4096       ['conv2d_66[0][0]']              \n",
            " ormalization)                  )                                                                 \n",
            "                                                                                                  \n",
            " activation_63 (Activation)     (None, 32, 32, 1024  0           ['batch_normalization_63[0][0]'] \n",
            "                                )                                                                 \n",
            "                                                                                                  \n",
            " conv2d_transpose_12 (Conv2DTra  (None, 64, 64, 512)  2097664    ['activation_63[0][0]']          \n",
            " nspose)                                                                                          \n",
            "                                                                                                  \n",
            " concatenate_12 (Concatenate)   (None, 64, 64, 1024  0           ['conv2d_transpose_12[0][0]',    \n",
            "                                )                                 'activation_61[0][0]']          \n",
            "                                                                                                  \n",
            " conv2d_67 (Conv2D)             (None, 64, 64, 512)  4719104     ['concatenate_12[0][0]']         \n",
            "                                                                                                  \n",
            " batch_normalization_64 (BatchN  (None, 64, 64, 512)  2048       ['conv2d_67[0][0]']              \n",
            " ormalization)                                                                                    \n",
            "                                                                                                  \n",
            " activation_64 (Activation)     (None, 64, 64, 512)  0           ['batch_normalization_64[0][0]'] \n",
            "                                                                                                  \n",
            " conv2d_68 (Conv2D)             (None, 64, 64, 512)  2359808     ['activation_64[0][0]']          \n",
            "                                                                                                  \n",
            " batch_normalization_65 (BatchN  (None, 64, 64, 512)  2048       ['conv2d_68[0][0]']              \n",
            " ormalization)                                                                                    \n",
            "                                                                                                  \n",
            " activation_65 (Activation)     (None, 64, 64, 512)  0           ['batch_normalization_65[0][0]'] \n",
            "                                                                                                  \n",
            " conv2d_transpose_13 (Conv2DTra  (None, 128, 128, 25  524544     ['activation_65[0][0]']          \n",
            " nspose)                        6)                                                                \n",
            "                                                                                                  \n",
            " concatenate_13 (Concatenate)   (None, 128, 128, 51  0           ['conv2d_transpose_13[0][0]',    \n",
            "                                2)                                'activation_59[0][0]']          \n",
            "                                                                                                  \n",
            " conv2d_69 (Conv2D)             (None, 128, 128, 25  1179904     ['concatenate_13[0][0]']         \n",
            "                                6)                                                                \n",
            "                                                                                                  \n",
            " batch_normalization_66 (BatchN  (None, 128, 128, 25  1024       ['conv2d_69[0][0]']              \n",
            " ormalization)                  6)                                                                \n",
            "                                                                                                  \n",
            " activation_66 (Activation)     (None, 128, 128, 25  0           ['batch_normalization_66[0][0]'] \n",
            "                                6)                                                                \n",
            "                                                                                                  \n",
            " conv2d_70 (Conv2D)             (None, 128, 128, 25  590080      ['activation_66[0][0]']          \n",
            "                                6)                                                                \n",
            "                                                                                                  \n",
            " batch_normalization_67 (BatchN  (None, 128, 128, 25  1024       ['conv2d_70[0][0]']              \n",
            " ormalization)                  6)                                                                \n",
            "                                                                                                  \n",
            " activation_67 (Activation)     (None, 128, 128, 25  0           ['batch_normalization_67[0][0]'] \n",
            "                                6)                                                                \n",
            "                                                                                                  \n",
            " conv2d_transpose_14 (Conv2DTra  (None, 256, 256, 12  131200     ['activation_67[0][0]']          \n",
            " nspose)                        8)                                                                \n",
            "                                                                                                  \n",
            " concatenate_14 (Concatenate)   (None, 256, 256, 25  0           ['conv2d_transpose_14[0][0]',    \n",
            "                                6)                                'activation_57[0][0]']          \n",
            "                                                                                                  \n",
            " conv2d_71 (Conv2D)             (None, 256, 256, 12  295040      ['concatenate_14[0][0]']         \n",
            "                                8)                                                                \n",
            "                                                                                                  \n",
            " batch_normalization_68 (BatchN  (None, 256, 256, 12  512        ['conv2d_71[0][0]']              \n",
            " ormalization)                  8)                                                                \n",
            "                                                                                                  \n",
            " activation_68 (Activation)     (None, 256, 256, 12  0           ['batch_normalization_68[0][0]'] \n",
            "                                8)                                                                \n",
            "                                                                                                  \n",
            " conv2d_72 (Conv2D)             (None, 256, 256, 12  147584      ['activation_68[0][0]']          \n",
            "                                8)                                                                \n",
            "                                                                                                  \n",
            " batch_normalization_69 (BatchN  (None, 256, 256, 12  512        ['conv2d_72[0][0]']              \n",
            " ormalization)                  8)                                                                \n",
            "                                                                                                  \n",
            " activation_69 (Activation)     (None, 256, 256, 12  0           ['batch_normalization_69[0][0]'] \n",
            "                                8)                                                                \n",
            "                                                                                                  \n",
            " conv2d_transpose_15 (Conv2DTra  (None, 512, 512, 64  32832      ['activation_69[0][0]']          \n",
            " nspose)                        )                                                                 \n",
            "                                                                                                  \n",
            " concatenate_15 (Concatenate)   (None, 512, 512, 12  0           ['conv2d_transpose_15[0][0]',    \n",
            "                                8)                                'activation_55[0][0]']          \n",
            "                                                                                                  \n",
            " conv2d_73 (Conv2D)             (None, 512, 512, 64  73792       ['concatenate_15[0][0]']         \n",
            "                                )                                                                 \n",
            "                                                                                                  \n",
            " batch_normalization_70 (BatchN  (None, 512, 512, 64  256        ['conv2d_73[0][0]']              \n",
            " ormalization)                  )                                                                 \n",
            "                                                                                                  \n",
            " activation_70 (Activation)     (None, 512, 512, 64  0           ['batch_normalization_70[0][0]'] \n",
            "                                )                                                                 \n",
            "                                                                                                  \n",
            " conv2d_74 (Conv2D)             (None, 512, 512, 64  36928       ['activation_70[0][0]']          \n",
            "                                )                                                                 \n",
            "                                                                                                  \n",
            " batch_normalization_71 (BatchN  (None, 512, 512, 64  256        ['conv2d_74[0][0]']              \n",
            " ormalization)                  )                                                                 \n",
            "                                                                                                  \n",
            " activation_71 (Activation)     (None, 512, 512, 64  0           ['batch_normalization_71[0][0]'] \n",
            "                                )                                                                 \n",
            "                                                                                                  \n",
            " conv2d_75 (Conv2D)             (None, 512, 512, 1)  65          ['activation_71[0][0]']          \n",
            "                                                                                                  \n",
            "==================================================================================================\n",
            "Total params: 31,055,297\n",
            "Trainable params: 31,043,521\n",
            "Non-trainable params: 11,776\n",
            "__________________________________________________________________________________________________\n"
          ]
        }
      ]
    },
    {
      "cell_type": "code",
      "source": [
        "test_x = sorted(glob(os.path.join('/content/drive/MyDrive/unet/non-aug/test', \"images\", \"*\")))\n",
        "print(\"Test Images: \", len(test_x))"
      ],
      "metadata": {
        "colab": {
          "base_uri": "https://localhost:8080/"
        },
        "id": "BDB7sbyxe6wA",
        "outputId": "26c70ead-60d9-4580-b768-dcbb551e65e4"
      },
      "execution_count": null,
      "outputs": [
        {
          "output_type": "stream",
          "name": "stdout",
          "text": [
            "Test Images:  59\n"
          ]
        }
      ]
    },
    {
      "cell_type": "code",
      "source": [
        "time_taken = []\n",
        "\n",
        "for x in tqdm(test_x):\n",
        "    name = x.split(\"/\")[-1]\n",
        "\n",
        "    x = cv2.imread(x, cv2.IMREAD_COLOR)\n",
        "    x = x/255.0\n",
        "    x = np.expand_dims(x, axis=0)\n",
        "\n",
        "    start_time = time.time()\n",
        "    p = model.predict(x)[0]\n",
        "    total_time = time.time() - start_time\n",
        "\n",
        "    time_taken.append(total_time)\n",
        "\n",
        "    p = p > 0.5\n",
        "    p = p * 255.0\n",
        "\n",
        "    cv2.imwrite(os.path.join(save_path, name), p)"
      ],
      "metadata": {
        "colab": {
          "base_uri": "https://localhost:8080/"
        },
        "id": "FiHreZcJe_SD",
        "outputId": "c07801ef-2478-46b8-9a9c-5a9a3dcb2ecf"
      },
      "execution_count": null,
      "outputs": [
        {
          "output_type": "stream",
          "name": "stderr",
          "text": [
            "\r  0%|          | 0/59 [00:00<?, ?it/s]"
          ]
        },
        {
          "output_type": "stream",
          "name": "stdout",
          "text": [
            "1/1 [==============================] - 0s 34ms/step\n"
          ]
        },
        {
          "output_type": "stream",
          "name": "stderr",
          "text": [
            "\r  2%|▏         | 1/59 [00:00<00:15,  3.71it/s]"
          ]
        },
        {
          "output_type": "stream",
          "name": "stdout",
          "text": [
            "1/1 [==============================] - 0s 43ms/step\n"
          ]
        },
        {
          "output_type": "stream",
          "name": "stderr",
          "text": [
            "\r  3%|▎         | 2/59 [00:00<00:14,  3.98it/s]"
          ]
        },
        {
          "output_type": "stream",
          "name": "stdout",
          "text": [
            "1/1 [==============================] - 0s 94ms/step\n"
          ]
        },
        {
          "output_type": "stream",
          "name": "stderr",
          "text": [
            "\r  5%|▌         | 3/59 [00:00<00:16,  3.47it/s]"
          ]
        },
        {
          "output_type": "stream",
          "name": "stdout",
          "text": [
            "1/1 [==============================] - 0s 74ms/step\n"
          ]
        },
        {
          "output_type": "stream",
          "name": "stderr",
          "text": [
            "\r  7%|▋         | 4/59 [00:01<00:15,  3.50it/s]"
          ]
        },
        {
          "output_type": "stream",
          "name": "stdout",
          "text": [
            "1/1 [==============================] - 0s 70ms/step\n"
          ]
        },
        {
          "output_type": "stream",
          "name": "stderr",
          "text": [
            "\r  8%|▊         | 5/59 [00:01<00:16,  3.23it/s]"
          ]
        },
        {
          "output_type": "stream",
          "name": "stdout",
          "text": [
            "1/1 [==============================] - 0s 33ms/step\n"
          ]
        },
        {
          "output_type": "stream",
          "name": "stderr",
          "text": [
            "\r 10%|█         | 6/59 [00:01<00:14,  3.60it/s]"
          ]
        },
        {
          "output_type": "stream",
          "name": "stdout",
          "text": [
            "1/1 [==============================] - 0s 35ms/step\n"
          ]
        },
        {
          "output_type": "stream",
          "name": "stderr",
          "text": [
            "\r 12%|█▏        | 7/59 [00:01<00:13,  3.77it/s]"
          ]
        },
        {
          "output_type": "stream",
          "name": "stdout",
          "text": [
            "1/1 [==============================] - 0s 34ms/step\n"
          ]
        },
        {
          "output_type": "stream",
          "name": "stderr",
          "text": [
            "\r 14%|█▎        | 8/59 [00:02<00:13,  3.89it/s]"
          ]
        },
        {
          "output_type": "stream",
          "name": "stdout",
          "text": [
            "1/1 [==============================] - 0s 32ms/step\n"
          ]
        },
        {
          "output_type": "stream",
          "name": "stderr",
          "text": [
            "\r 15%|█▌        | 9/59 [00:02<00:12,  4.01it/s]"
          ]
        },
        {
          "output_type": "stream",
          "name": "stdout",
          "text": [
            "1/1 [==============================] - 0s 38ms/step\n"
          ]
        },
        {
          "output_type": "stream",
          "name": "stderr",
          "text": [
            "\r 17%|█▋        | 10/59 [00:02<00:12,  4.02it/s]"
          ]
        },
        {
          "output_type": "stream",
          "name": "stdout",
          "text": [
            "1/1 [==============================] - 0s 33ms/step\n"
          ]
        },
        {
          "output_type": "stream",
          "name": "stderr",
          "text": [
            "\r 19%|█▊        | 11/59 [00:02<00:11,  4.05it/s]"
          ]
        },
        {
          "output_type": "stream",
          "name": "stdout",
          "text": [
            "1/1 [==============================] - 0s 35ms/step\n"
          ]
        },
        {
          "output_type": "stream",
          "name": "stderr",
          "text": [
            "\r 20%|██        | 12/59 [00:03<00:11,  4.10it/s]"
          ]
        },
        {
          "output_type": "stream",
          "name": "stdout",
          "text": [
            "1/1 [==============================] - 0s 32ms/step\n"
          ]
        },
        {
          "output_type": "stream",
          "name": "stderr",
          "text": [
            "\r 22%|██▏       | 13/59 [00:03<00:11,  4.12it/s]"
          ]
        },
        {
          "output_type": "stream",
          "name": "stdout",
          "text": [
            "1/1 [==============================] - 0s 32ms/step\n"
          ]
        },
        {
          "output_type": "stream",
          "name": "stderr",
          "text": [
            "\r 24%|██▎       | 14/59 [00:03<00:10,  4.17it/s]"
          ]
        },
        {
          "output_type": "stream",
          "name": "stdout",
          "text": [
            "1/1 [==============================] - 0s 53ms/step\n"
          ]
        },
        {
          "output_type": "stream",
          "name": "stderr",
          "text": [
            "\r 25%|██▌       | 15/59 [00:03<00:10,  4.39it/s]"
          ]
        },
        {
          "output_type": "stream",
          "name": "stdout",
          "text": [
            "1/1 [==============================] - 0s 32ms/step\n"
          ]
        },
        {
          "output_type": "stream",
          "name": "stderr",
          "text": [
            "\r 27%|██▋       | 16/59 [00:04<00:09,  4.36it/s]"
          ]
        },
        {
          "output_type": "stream",
          "name": "stdout",
          "text": [
            "1/1 [==============================] - 0s 32ms/step\n"
          ]
        },
        {
          "output_type": "stream",
          "name": "stderr",
          "text": [
            "\r 29%|██▉       | 17/59 [00:04<00:09,  4.31it/s]"
          ]
        },
        {
          "output_type": "stream",
          "name": "stdout",
          "text": [
            "1/1 [==============================] - 0s 30ms/step\n"
          ]
        },
        {
          "output_type": "stream",
          "name": "stderr",
          "text": [
            "\r 31%|███       | 18/59 [00:04<00:09,  4.29it/s]"
          ]
        },
        {
          "output_type": "stream",
          "name": "stdout",
          "text": [
            "1/1 [==============================] - 0s 38ms/step\n"
          ]
        },
        {
          "output_type": "stream",
          "name": "stderr",
          "text": [
            "\r 32%|███▏      | 19/59 [00:04<00:09,  4.24it/s]"
          ]
        },
        {
          "output_type": "stream",
          "name": "stdout",
          "text": [
            "1/1 [==============================] - 0s 35ms/step\n"
          ]
        },
        {
          "output_type": "stream",
          "name": "stderr",
          "text": [
            "\r 34%|███▍      | 20/59 [00:04<00:08,  4.44it/s]"
          ]
        },
        {
          "output_type": "stream",
          "name": "stdout",
          "text": [
            "1/1 [==============================] - 0s 54ms/step\n"
          ]
        },
        {
          "output_type": "stream",
          "name": "stderr",
          "text": [
            "\r 36%|███▌      | 21/59 [00:05<00:08,  4.32it/s]"
          ]
        },
        {
          "output_type": "stream",
          "name": "stdout",
          "text": [
            "1/1 [==============================] - 0s 24ms/step\n"
          ]
        },
        {
          "output_type": "stream",
          "name": "stderr",
          "text": [
            "\r 37%|███▋      | 22/59 [00:05<00:09,  3.97it/s]"
          ]
        },
        {
          "output_type": "stream",
          "name": "stdout",
          "text": [
            "1/1 [==============================] - 0s 22ms/step\n"
          ]
        },
        {
          "output_type": "stream",
          "name": "stderr",
          "text": [
            "\r 39%|███▉      | 23/59 [00:05<00:07,  4.55it/s]"
          ]
        },
        {
          "output_type": "stream",
          "name": "stdout",
          "text": [
            "1/1 [==============================] - 0s 25ms/step\n"
          ]
        },
        {
          "output_type": "stream",
          "name": "stderr",
          "text": [
            "\r 41%|████      | 24/59 [00:05<00:07,  4.95it/s]"
          ]
        },
        {
          "output_type": "stream",
          "name": "stdout",
          "text": [
            "1/1 [==============================] - 0s 26ms/step\n"
          ]
        },
        {
          "output_type": "stream",
          "name": "stderr",
          "text": [
            "\r 42%|████▏     | 25/59 [00:05<00:06,  5.35it/s]"
          ]
        },
        {
          "output_type": "stream",
          "name": "stdout",
          "text": [
            "1/1 [==============================] - 0s 23ms/step\n"
          ]
        },
        {
          "output_type": "stream",
          "name": "stderr",
          "text": [
            "\r 44%|████▍     | 26/59 [00:06<00:05,  5.77it/s]"
          ]
        },
        {
          "output_type": "stream",
          "name": "stdout",
          "text": [
            "1/1 [==============================] - 0s 23ms/step\n"
          ]
        },
        {
          "output_type": "stream",
          "name": "stderr",
          "text": [
            "\r 46%|████▌     | 27/59 [00:06<00:05,  6.09it/s]"
          ]
        },
        {
          "output_type": "stream",
          "name": "stdout",
          "text": [
            "1/1 [==============================] - 0s 26ms/step\n"
          ]
        },
        {
          "output_type": "stream",
          "name": "stderr",
          "text": [
            "\r 47%|████▋     | 28/59 [00:06<00:04,  6.31it/s]"
          ]
        },
        {
          "output_type": "stream",
          "name": "stdout",
          "text": [
            "1/1 [==============================] - 0s 23ms/step\n"
          ]
        },
        {
          "output_type": "stream",
          "name": "stderr",
          "text": [
            "\r 49%|████▉     | 29/59 [00:06<00:04,  6.52it/s]"
          ]
        },
        {
          "output_type": "stream",
          "name": "stdout",
          "text": [
            "1/1 [==============================] - 0s 24ms/step\n"
          ]
        },
        {
          "output_type": "stream",
          "name": "stderr",
          "text": [
            "\r 51%|█████     | 30/59 [00:06<00:04,  6.75it/s]"
          ]
        },
        {
          "output_type": "stream",
          "name": "stdout",
          "text": [
            "1/1 [==============================] - 0s 23ms/step\n"
          ]
        },
        {
          "output_type": "stream",
          "name": "stderr",
          "text": [
            "\r 53%|█████▎    | 31/59 [00:06<00:04,  6.01it/s]"
          ]
        },
        {
          "output_type": "stream",
          "name": "stdout",
          "text": [
            "1/1 [==============================] - 0s 23ms/step\n"
          ]
        },
        {
          "output_type": "stream",
          "name": "stderr",
          "text": [
            "\r 54%|█████▍    | 32/59 [00:07<00:04,  6.22it/s]"
          ]
        },
        {
          "output_type": "stream",
          "name": "stdout",
          "text": [
            "1/1 [==============================] - 0s 24ms/step\n"
          ]
        },
        {
          "output_type": "stream",
          "name": "stderr",
          "text": [
            "\r 56%|█████▌    | 33/59 [00:07<00:04,  6.38it/s]"
          ]
        },
        {
          "output_type": "stream",
          "name": "stdout",
          "text": [
            "1/1 [==============================] - 0s 30ms/step\n"
          ]
        },
        {
          "output_type": "stream",
          "name": "stderr",
          "text": [
            "\r 58%|█████▊    | 34/59 [00:07<00:04,  5.75it/s]"
          ]
        },
        {
          "output_type": "stream",
          "name": "stdout",
          "text": [
            "1/1 [==============================] - 0s 22ms/step\n"
          ]
        },
        {
          "output_type": "stream",
          "name": "stderr",
          "text": [
            "\r 59%|█████▉    | 35/59 [00:07<00:04,  5.87it/s]"
          ]
        },
        {
          "output_type": "stream",
          "name": "stdout",
          "text": [
            "1/1 [==============================] - 0s 25ms/step\n"
          ]
        },
        {
          "output_type": "stream",
          "name": "stderr",
          "text": [
            "\r 61%|██████    | 36/59 [00:07<00:03,  5.99it/s]"
          ]
        },
        {
          "output_type": "stream",
          "name": "stdout",
          "text": [
            "1/1 [==============================] - 0s 25ms/step\n"
          ]
        },
        {
          "output_type": "stream",
          "name": "stderr",
          "text": [
            "\r 63%|██████▎   | 37/59 [00:07<00:03,  6.27it/s]"
          ]
        },
        {
          "output_type": "stream",
          "name": "stdout",
          "text": [
            "1/1 [==============================] - 0s 22ms/step\n"
          ]
        },
        {
          "output_type": "stream",
          "name": "stderr",
          "text": [
            "\r 64%|██████▍   | 38/59 [00:07<00:03,  6.51it/s]"
          ]
        },
        {
          "output_type": "stream",
          "name": "stdout",
          "text": [
            "1/1 [==============================] - 0s 22ms/step\n"
          ]
        },
        {
          "output_type": "stream",
          "name": "stderr",
          "text": [
            "\r 66%|██████▌   | 39/59 [00:08<00:03,  5.85it/s]"
          ]
        },
        {
          "output_type": "stream",
          "name": "stdout",
          "text": [
            "1/1 [==============================] - 0s 25ms/step\n"
          ]
        },
        {
          "output_type": "stream",
          "name": "stderr",
          "text": [
            "\r 68%|██████▊   | 40/59 [00:08<00:03,  6.13it/s]"
          ]
        },
        {
          "output_type": "stream",
          "name": "stdout",
          "text": [
            "1/1 [==============================] - 0s 22ms/step\n"
          ]
        },
        {
          "output_type": "stream",
          "name": "stderr",
          "text": [
            "\r 69%|██████▉   | 41/59 [00:08<00:02,  6.36it/s]"
          ]
        },
        {
          "output_type": "stream",
          "name": "stdout",
          "text": [
            "1/1 [==============================] - 0s 24ms/step\n"
          ]
        },
        {
          "output_type": "stream",
          "name": "stderr",
          "text": [
            "\r 71%|███████   | 42/59 [00:08<00:02,  6.34it/s]"
          ]
        },
        {
          "output_type": "stream",
          "name": "stdout",
          "text": [
            "1/1 [==============================] - 0s 25ms/step\n"
          ]
        },
        {
          "output_type": "stream",
          "name": "stderr",
          "text": [
            "\r 73%|███████▎  | 43/59 [00:08<00:02,  5.78it/s]"
          ]
        },
        {
          "output_type": "stream",
          "name": "stdout",
          "text": [
            "1/1 [==============================] - 0s 25ms/step\n"
          ]
        },
        {
          "output_type": "stream",
          "name": "stderr",
          "text": [
            "\r 75%|███████▍  | 44/59 [00:08<00:02,  6.09it/s]"
          ]
        },
        {
          "output_type": "stream",
          "name": "stdout",
          "text": [
            "1/1 [==============================] - 0s 24ms/step\n"
          ]
        },
        {
          "output_type": "stream",
          "name": "stderr",
          "text": [
            "\r 76%|███████▋  | 45/59 [00:09<00:02,  5.57it/s]"
          ]
        },
        {
          "output_type": "stream",
          "name": "stdout",
          "text": [
            "1/1 [==============================] - 0s 23ms/step\n"
          ]
        },
        {
          "output_type": "stream",
          "name": "stderr",
          "text": [
            "\r 78%|███████▊  | 46/59 [00:09<00:02,  5.86it/s]"
          ]
        },
        {
          "output_type": "stream",
          "name": "stdout",
          "text": [
            "1/1 [==============================] - 0s 25ms/step\n"
          ]
        },
        {
          "output_type": "stream",
          "name": "stderr",
          "text": [
            "\r 80%|███████▉  | 47/59 [00:09<00:01,  6.06it/s]"
          ]
        },
        {
          "output_type": "stream",
          "name": "stdout",
          "text": [
            "1/1 [==============================] - 0s 23ms/step\n"
          ]
        },
        {
          "output_type": "stream",
          "name": "stderr",
          "text": [
            "\r 81%|████████▏ | 48/59 [00:09<00:01,  5.55it/s]"
          ]
        },
        {
          "output_type": "stream",
          "name": "stdout",
          "text": [
            "1/1 [==============================] - 0s 32ms/step\n"
          ]
        },
        {
          "output_type": "stream",
          "name": "stderr",
          "text": [
            "\r 83%|████████▎ | 49/59 [00:09<00:01,  5.29it/s]"
          ]
        },
        {
          "output_type": "stream",
          "name": "stdout",
          "text": [
            "1/1 [==============================] - 0s 23ms/step\n"
          ]
        },
        {
          "output_type": "stream",
          "name": "stderr",
          "text": [
            "\r 85%|████████▍ | 50/59 [00:10<00:01,  5.04it/s]"
          ]
        },
        {
          "output_type": "stream",
          "name": "stdout",
          "text": [
            "1/1 [==============================] - 0s 30ms/step\n"
          ]
        },
        {
          "output_type": "stream",
          "name": "stderr",
          "text": [
            "\r 86%|████████▋ | 51/59 [00:10<00:01,  5.39it/s]"
          ]
        },
        {
          "output_type": "stream",
          "name": "stdout",
          "text": [
            "1/1 [==============================] - 0s 22ms/step\n"
          ]
        },
        {
          "output_type": "stream",
          "name": "stderr",
          "text": [
            "\r 88%|████████▊ | 52/59 [00:10<00:01,  5.73it/s]"
          ]
        },
        {
          "output_type": "stream",
          "name": "stdout",
          "text": [
            "1/1 [==============================] - 0s 22ms/step\n"
          ]
        },
        {
          "output_type": "stream",
          "name": "stderr",
          "text": [
            "\r 90%|████████▉ | 53/59 [00:10<00:00,  6.00it/s]"
          ]
        },
        {
          "output_type": "stream",
          "name": "stdout",
          "text": [
            "1/1 [==============================] - 0s 24ms/step\n"
          ]
        },
        {
          "output_type": "stream",
          "name": "stderr",
          "text": [
            "\r 92%|█████████▏| 54/59 [00:10<00:00,  6.17it/s]"
          ]
        },
        {
          "output_type": "stream",
          "name": "stdout",
          "text": [
            "1/1 [==============================] - 0s 27ms/step\n"
          ]
        },
        {
          "output_type": "stream",
          "name": "stderr",
          "text": [
            "\r 93%|█████████▎| 55/59 [00:10<00:00,  5.58it/s]"
          ]
        },
        {
          "output_type": "stream",
          "name": "stdout",
          "text": [
            "1/1 [==============================] - 0s 22ms/step\n"
          ]
        },
        {
          "output_type": "stream",
          "name": "stderr",
          "text": [
            "\r 95%|█████████▍| 56/59 [00:11<00:00,  5.89it/s]"
          ]
        },
        {
          "output_type": "stream",
          "name": "stdout",
          "text": [
            "1/1 [==============================] - 0s 26ms/step\n"
          ]
        },
        {
          "output_type": "stream",
          "name": "stderr",
          "text": [
            "\r 97%|█████████▋| 57/59 [00:11<00:00,  6.09it/s]"
          ]
        },
        {
          "output_type": "stream",
          "name": "stdout",
          "text": [
            "1/1 [==============================] - 0s 25ms/step\n"
          ]
        },
        {
          "output_type": "stream",
          "name": "stderr",
          "text": [
            "\r 98%|█████████▊| 58/59 [00:11<00:00,  6.21it/s]"
          ]
        },
        {
          "output_type": "stream",
          "name": "stdout",
          "text": [
            "1/1 [==============================] - 0s 24ms/step\n"
          ]
        },
        {
          "output_type": "stream",
          "name": "stderr",
          "text": [
            "100%|██████████| 59/59 [00:11<00:00,  5.09it/s]\n"
          ]
        }
      ]
    },
    {
      "cell_type": "code",
      "source": [],
      "metadata": {
        "colab": {
          "base_uri": "https://localhost:8080/",
          "height": 252
        },
        "id": "AvprXhnNqsPv",
        "outputId": "750b4314-b8d6-4b5a-a06c-7c0659dfeda3"
      },
      "execution_count": null,
      "outputs": [
        {
          "output_type": "error",
          "ename": "AttributeError",
          "evalue": "ignored",
          "traceback": [
            "\u001b[0;31m---------------------------------------------------------------------------\u001b[0m",
            "\u001b[0;31mAttributeError\u001b[0m                            Traceback (most recent call last)",
            "\u001b[0;32m<ipython-input-306-678f4c29b3e2>\u001b[0m in \u001b[0;36m<cell line: 1>\u001b[0;34m()\u001b[0m\n\u001b[1;32m      1\u001b[0m \u001b[0;32mfor\u001b[0m \u001b[0mi\u001b[0m\u001b[0;34m,\u001b[0m \u001b[0mpred\u001b[0m \u001b[0;32min\u001b[0m \u001b[0menumerate\u001b[0m\u001b[0;34m(\u001b[0m\u001b[0mpred_mask\u001b[0m\u001b[0;34m[\u001b[0m\u001b[0;36m0\u001b[0m\u001b[0;34m]\u001b[0m\u001b[0;34m)\u001b[0m\u001b[0;34m:\u001b[0m\u001b[0;34m\u001b[0m\u001b[0;34m\u001b[0m\u001b[0m\n\u001b[0;32m----> 2\u001b[0;31m   \u001b[0mpred_arg\u001b[0m \u001b[0;34m=\u001b[0m \u001b[0mpred\u001b[0m\u001b[0;34m.\u001b[0m\u001b[0margmax\u001b[0m\u001b[0;34m(\u001b[0m\u001b[0mdim\u001b[0m\u001b[0;34m=\u001b[0m\u001b[0;36m0\u001b[0m\u001b[0;34m)\u001b[0m\u001b[0;34m.\u001b[0m\u001b[0mnumpy\u001b[0m\u001b[0;34m(\u001b[0m\u001b[0;34m)\u001b[0m\u001b[0;34m\u001b[0m\u001b[0;34m\u001b[0m\u001b[0m\n\u001b[0m\u001b[1;32m      3\u001b[0m   \u001b[0mrescaled\u001b[0m \u001b[0;34m=\u001b[0m \u001b[0;34m(\u001b[0m\u001b[0;36m255.0\u001b[0m \u001b[0;34m/\u001b[0m \u001b[0mpred_arg\u001b[0m\u001b[0;34m.\u001b[0m\u001b[0mmax\u001b[0m\u001b[0;34m(\u001b[0m\u001b[0;34m)\u001b[0m \u001b[0;34m*\u001b[0m \u001b[0;34m(\u001b[0m\u001b[0mpred_arg\u001b[0m \u001b[0;34m-\u001b[0m \u001b[0mpred_arg\u001b[0m\u001b[0;34m.\u001b[0m\u001b[0mmin\u001b[0m\u001b[0;34m(\u001b[0m\u001b[0;34m)\u001b[0m\u001b[0;34m)\u001b[0m\u001b[0;34m)\u001b[0m\u001b[0;34m.\u001b[0m\u001b[0mastype\u001b[0m\u001b[0;34m(\u001b[0m\u001b[0mnp\u001b[0m\u001b[0;34m.\u001b[0m\u001b[0muint8\u001b[0m\u001b[0;34m)\u001b[0m\u001b[0;34m\u001b[0m\u001b[0;34m\u001b[0m\u001b[0m\n\u001b[1;32m      4\u001b[0m   \u001b[0mim\u001b[0m \u001b[0;34m=\u001b[0m \u001b[0mImage\u001b[0m\u001b[0;34m.\u001b[0m\u001b[0mfromarray\u001b[0m\u001b[0;34m(\u001b[0m\u001b[0mrescaled\u001b[0m\u001b[0;34m)\u001b[0m\u001b[0;34m\u001b[0m\u001b[0;34m\u001b[0m\u001b[0m\n\u001b[1;32m      5\u001b[0m   \u001b[0mim\u001b[0m\u001b[0;34m.\u001b[0m\u001b[0msave\u001b[0m\u001b[0;34m(\u001b[0m\u001b[0;34mf'Image_{i}.png'\u001b[0m\u001b[0;34m)\u001b[0m\u001b[0;34m\u001b[0m\u001b[0;34m\u001b[0m\u001b[0m\n",
            "\u001b[0;31mAttributeError\u001b[0m: 'str' object has no attribute 'argmax'"
          ]
        }
      ]
    },
    {
      "cell_type": "code",
      "source": [
        "mean_time = np.mean(time_taken)\n",
        "mean_fps = 1/mean_time\n",
        "\n",
        "print(f\"Mean Time: {mean_time: 1.5f} - Mean FPS: {mean_fps:2.5f}\")"
      ],
      "metadata": {
        "colab": {
          "base_uri": "https://localhost:8080/"
        },
        "id": "-MfpiK57fpBw",
        "outputId": "8f5ab7dc-411e-4d8d-e498-e039d2b4402c"
      },
      "execution_count": null,
      "outputs": [
        {
          "output_type": "stream",
          "name": "stdout",
          "text": [
            "Mean Time:  0.18243 - Mean FPS: 5.48159\n"
          ]
        }
      ]
    },
    {
      "cell_type": "code",
      "source": [
        "import os\n",
        "import numpy as np\n",
        "import cv2\n",
        "from glob import glob\n",
        "from tqdm import tqdm\n",
        "from sklearn.metrics import accuracy_score, f1_score, jaccard_score, precision_score, recall_score"
      ],
      "metadata": {
        "id": "Alp59MKrf2WU"
      },
      "execution_count": null,
      "outputs": []
    },
    {
      "cell_type": "code",
      "source": [
        "print(pred_mask, true_mask)"
      ],
      "metadata": {
        "colab": {
          "base_uri": "https://localhost:8080/"
        },
        "id": "w-hhQFqrf4vF",
        "outputId": "ad1db2a7-8853-4a2d-835e-ca06a82f3501"
      },
      "execution_count": null,
      "outputs": [
        {
          "output_type": "stream",
          "name": "stdout",
          "text": [
            "['/content/drive/MyDrive/airplane/predout/ag_2400_0_jpg.rf.8abb7796498d0450a801f1ad07885c85.jpg', '/content/drive/MyDrive/airplane/predout/bens_3200_2400_jpg.rf.a9265161a014b14c5c0ede5f47b13b64.jpg', '/content/drive/MyDrive/airplane/predout/bens_3200_2400_jpg.rf.c1d8c75494173bbdb1e1212a3756838a.jpg', '/content/drive/MyDrive/airplane/predout/bens_4000_3200_jpg.rf.9dc34ccee7bb0a446b7f1722868aa127.jpg', '/content/drive/MyDrive/airplane/predout/bens_4000_3200_jpg.rf.a00e7edb2c992f01a5999edb1a43a6be.jpg', '/content/drive/MyDrive/airplane/predout/chunk_4000_1600_jpg.rf.762a19e16631d6ae22e1f84a5ac8cfe0.jpg', '/content/drive/MyDrive/airplane/predout/chunk_4000_1600_jpg.rf.d690974b15c712eea83a6b93f49f7e61.jpg', '/content/drive/MyDrive/airplane/predout/chunk_4000_2400_jpg.rf.fe6477b0dd6019c27b1f47bcb06e4fe9.jpg', '/content/drive/MyDrive/airplane/predout/chunk_4000_800_jpg.rf.df5fdd58ab54ec71e3ed724dab0726dd.jpg', '/content/drive/MyDrive/airplane/predout/chunk_5600_5600_jpg.rf.8e84555a08ab9c7c1ba00fe13f7fe611.jpg', '/content/drive/MyDrive/airplane/predout/chunk_5600_6400_jpg.rf.c23a2dac84e0389a892eebe59e828a0d.jpg', '/content/drive/MyDrive/airplane/predout/chunk_6400_800_jpg.rf.652485e9559b2c4006425046e97bf509.jpg', '/content/drive/MyDrive/airplane/predout/chunk_7200_8000_jpg.rf.158387d49b8835eaeba28ad5d06a09bc.jpg', '/content/drive/MyDrive/airplane/predout/dakh_1600_800_jpg.rf.45a48c287a84b46c336a22ca11e75d5c.jpg', '/content/drive/MyDrive/airplane/predout/dakh_1600_800_jpg.rf.8ab33d2351511cde5a0f11b4a7d655f8.jpg', '/content/drive/MyDrive/airplane/predout/dakh_1600_800_jpg.rf.a79e1f28e2ee6aa2dc08f57d6e1f92ad.jpg', '/content/drive/MyDrive/airplane/predout/err_800_0_jpg.rf.b365e3f38761c511d5a9138cfed5487e.jpg', '/content/drive/MyDrive/airplane/predout/fes_6400_800_jpg.rf.5925c6e3710ab3896b94ef01c0062866.jpg', '/content/drive/MyDrive/airplane/predout/fes_7200_800_jpg.rf.a6f1d8a5dd7c643e8264adc18bd85051.jpg', '/content/drive/MyDrive/airplane/predout/kech_16800_24000_jpg.rf.5e36a294428f3d4d5cf45f8bc7237c54.jpg', '/content/drive/MyDrive/airplane/predout/kech_18400_24000_jpg.rf.229a87110ff1832656d9c242f2df5acd.jpg', '/content/drive/MyDrive/airplane/predout/kech_28000_2400_jpg.rf.1b0d29f2e0e6a1cd9f5f5ce9eb55cdc9.jpg', '/content/drive/MyDrive/airplane/predout/kech_29600_4000_jpg.rf.b390d323c126fa9275c496ead9109c7c.jpg', '/content/drive/MyDrive/airplane/predout/kech_32000_4000_jpg.rf.178b8c78db2c6e2d6603b9a4802a31a5.jpg', '/content/drive/MyDrive/airplane/predout/kech_37600_8800_jpg.rf.edf004622d5aafff3c30fd2e6fcb8c93.jpg', '/content/drive/MyDrive/airplane/predout/kech_38400_800_jpg.rf.c3035f614870db531183d3c5ba22ddcc.jpg', '/content/drive/MyDrive/airplane/predout/kech_39200_10400_jpg.rf.01f00fc6fd138097bb3048ea7d32f6e3.jpg', '/content/drive/MyDrive/airplane/predout/kech_41600_7200_jpg.rf.504752ceb339e3040ea6bd94cc1e6111.jpg', '/content/drive/MyDrive/airplane/predout/kech_41600_7200_jpg.rf.88f1ff919d42e7b40c4349c06fafc0d4.jpg', '/content/drive/MyDrive/airplane/predout/kech_46400_20000_jpg.rf.eb085bad2506998e5261851a77dc45bb.jpg', '/content/drive/MyDrive/airplane/predout/kech_48000_24000_jpg.rf.3b0d60f69fe0c7d60744bfcc3366de2f.jpg', '/content/drive/MyDrive/airplane/predout/kech_49600_24000_jpg.rf.419eb9a9ffb66e37e2ee5b95619441ad.jpg', '/content/drive/MyDrive/airplane/predout/kech_49600_24800_jpg.rf.e639d985c49d93b293239cd16929bd41.jpg', '/content/drive/MyDrive/airplane/predout/kech_50400_15200_jpg.rf.7d6dab0fa0195ae1fea3f3304fd3f3ba.jpg', '/content/drive/MyDrive/airplane/predout/kech_50400_16800_jpg.rf.bd77165e8a2c94cbd3377147948cd1ec.jpg', '/content/drive/MyDrive/airplane/predout/kech_50400_24000_jpg.rf.b234abb19b4423be3a9dcb34c3838ceb.jpg', '/content/drive/MyDrive/airplane/predout/kech_51200_26400_jpg.rf.6c41cddefeb99fd32a8da4304d2538fb.jpg', '/content/drive/MyDrive/airplane/predout/kech_52800_28800_jpg.rf.2d3ba629982c1dd4eaf01507f87819a6.jpg', '/content/drive/MyDrive/airplane/predout/kech_52800_28800_jpg.rf.90418f6de86f600cc682c2b06ec08934.jpg', '/content/drive/MyDrive/airplane/predout/kech_53600_27200_jpg.rf.fc12048e7af6bf34489718f8f12b9f70.jpg', '/content/drive/MyDrive/airplane/predout/kech_54400_26400_jpg.rf.176052153a262f9d9a3f39a09961b190.jpg', '/content/drive/MyDrive/airplane/predout/kech_58400_25600_jpg.rf.e326c79ebc3478d17fa94d2a8517d1c8.jpg', '/content/drive/MyDrive/airplane/predout/kech_58400_26400_jpg.rf.91d56a3effd87aaeba58de7be1567073.jpg', '/content/drive/MyDrive/airplane/predout/kech_58400_26400_jpg.rf.a942cf3bceb612e561145779ce579639.jpg', '/content/drive/MyDrive/airplane/predout/kech_59200_24800_jpg.rf.8f971c4426e4452c606d67b881d00fa0.jpg', '/content/drive/MyDrive/airplane/predout/kech_59200_24800_jpg.rf.d138ad5f1690e156048b32c3c18f5e49.jpg', '/content/drive/MyDrive/airplane/predout/kech_59200_26400_jpg.rf.6bf7f5e2d7bc7f0c9e7156cfd8640a43.jpg', '/content/drive/MyDrive/airplane/predout/ken_4000_3200_jpg.rf.fec7e05e3f308c65d302e061301c6be4.jpg', '/content/drive/MyDrive/airplane/predout/ken_4800_3200_jpg.rf.5b86fd68dde56b59705a4a0e5204f626.jpg', '/content/drive/MyDrive/airplane/predout/ken_6400_4000_jpg.rf.8bcd4fcde596d7d00b7248a690a751b7.jpg', '/content/drive/MyDrive/airplane/predout/laay_1600_0_jpg.rf.5de9c7dda7c70d4817cc883a13182164.jpg', '/content/drive/MyDrive/airplane/predout/nado_5600_800_jpg.rf.b1e4a90a41c284591c9d8c545f4d877b.jpg', '/content/drive/MyDrive/airplane/predout/rbt_11200_1600_jpg.rf.22deb4fb943002a18e78fde43039e5e7.jpg', '/content/drive/MyDrive/airplane/predout/rbt_1600_6400_jpg.rf.76554cbf24654d7e34db01fafd5433a2.jpg', '/content/drive/MyDrive/airplane/predout/rbt_2400_5600_jpg.rf.aa6a5a3f10f98a74c15c37962761b0e4.jpg', '/content/drive/MyDrive/airplane/predout/rbt_4800_9600_jpg.rf.bdc6eeb0c35165a3c40aa9aa8b333296.jpg', '/content/drive/MyDrive/airplane/predout/rbt_6400_9600_jpg.rf.5788a21abffa3ee681658d87240c5cb0.jpg', '/content/drive/MyDrive/airplane/predout/rbt_800_6400_jpg.rf.38d13b873c55f7f613611faf306cdf37.jpg', '/content/drive/MyDrive/airplane/predout/rbt_800_7200_jpg.rf.5af308f9f5f3bec4876dcaec26202f8e.jpg'] []\n"
          ]
        }
      ]
    },
    {
      "cell_type": "code",
      "source": [
        "pred_mask = sorted(glob(os.path.join(\"/content/drive/MyDrive/airplane/predout\", \"*\")))\n",
        "true_mask = sorted(glob(os.path.join(\"/content/drive/MyDrive/unet/non-aug/test\", \"/content/drive/MyDrive/unet/non-aug/test/masks\", \"*\")))"
      ],
      "metadata": {
        "id": "DTzFYygwfu55"
      },
      "execution_count": null,
      "outputs": []
    },
    {
      "cell_type": "code",
      "source": [
        "score = []\n",
        "\n",
        "for pred_y, true_y in tqdm(zip(pred_mask, true_mask), total=len(pred_mask)):\n",
        "    name = pred_y.split(\"/\")[-1]\n",
        "\n",
        "    pred_y = cv2.imread(pred_y, cv2.IMREAD_GRAYSCALE)\n",
        "    pred_y = pred_y/255.0\n",
        "    pred_y = pred_y > 0.5\n",
        "    pred_y = pred_y.astype(np.int32)\n",
        "    pred_y = pred_y.flatten()\n",
        "\n",
        "    true_y = cv2.imread(true_y, cv2.IMREAD_GRAYSCALE)\n",
        "    true_y = true_y/255.0\n",
        "    true_y = true_y > 0.5\n",
        "    true_y = true_y.astype(np.int32)\n",
        "    true_y = true_y.flatten()\n",
        "\n",
        "    acc_value = accuracy_score(pred_y, true_y)\n",
        "    f1_value = f1_score(pred_y, true_y, labels=[0, 1], average=\"binary\")\n",
        "    jac_value = jaccard_score(pred_y, true_y, labels=[0, 1], average=\"binary\")\n",
        "    recall_value = recall_score(pred_y, true_y, labels=[0, 1], average=\"binary\")\n",
        "    precision_value = precision_score(pred_y, true_y, labels=[0, 1], average=\"binary\")\n",
        "\n",
        "    score.append([name, acc_value, f1_value, jac_value, recall_value, precision_value])"
      ],
      "metadata": {
        "colab": {
          "base_uri": "https://localhost:8080/"
        },
        "id": "FLnaF8pHgE0x",
        "outputId": "f564ab04-2df6-4d9d-ad4b-ad1d7a9c1fb5"
      },
      "execution_count": null,
      "outputs": [
        {
          "output_type": "stream",
          "name": "stderr",
          "text": [
            "  0%|          | 0/59 [00:00<?, ?it/s]/usr/local/lib/python3.10/dist-packages/sklearn/metrics/_classification.py:1344: UndefinedMetricWarning: Recall is ill-defined and being set to 0.0 due to no true samples. Use `zero_division` parameter to control this behavior.\n",
            "  _warn_prf(average, modifier, msg_start, len(result))\n",
            "  2%|▏         | 1/59 [00:00<00:16,  3.57it/s]/usr/local/lib/python3.10/dist-packages/sklearn/metrics/_classification.py:1344: UndefinedMetricWarning: Recall is ill-defined and being set to 0.0 due to no true samples. Use `zero_division` parameter to control this behavior.\n",
            "  _warn_prf(average, modifier, msg_start, len(result))\n",
            "  3%|▎         | 2/59 [00:00<00:16,  3.49it/s]/usr/local/lib/python3.10/dist-packages/sklearn/metrics/_classification.py:1344: UndefinedMetricWarning: Recall is ill-defined and being set to 0.0 due to no true samples. Use `zero_division` parameter to control this behavior.\n",
            "  _warn_prf(average, modifier, msg_start, len(result))\n",
            "  5%|▌         | 3/59 [00:00<00:16,  3.44it/s]/usr/local/lib/python3.10/dist-packages/sklearn/metrics/_classification.py:1344: UndefinedMetricWarning: Recall is ill-defined and being set to 0.0 due to no true samples. Use `zero_division` parameter to control this behavior.\n",
            "  _warn_prf(average, modifier, msg_start, len(result))\n",
            "  7%|▋         | 4/59 [00:01<00:16,  3.43it/s]/usr/local/lib/python3.10/dist-packages/sklearn/metrics/_classification.py:1344: UndefinedMetricWarning: Recall is ill-defined and being set to 0.0 due to no true samples. Use `zero_division` parameter to control this behavior.\n",
            "  _warn_prf(average, modifier, msg_start, len(result))\n",
            "  8%|▊         | 5/59 [00:01<00:15,  3.48it/s]/usr/local/lib/python3.10/dist-packages/sklearn/metrics/_classification.py:1344: UndefinedMetricWarning: Recall is ill-defined and being set to 0.0 due to no true samples. Use `zero_division` parameter to control this behavior.\n",
            "  _warn_prf(average, modifier, msg_start, len(result))\n",
            " 10%|█         | 6/59 [00:01<00:15,  3.47it/s]/usr/local/lib/python3.10/dist-packages/sklearn/metrics/_classification.py:1344: UndefinedMetricWarning: Recall is ill-defined and being set to 0.0 due to no true samples. Use `zero_division` parameter to control this behavior.\n",
            "  _warn_prf(average, modifier, msg_start, len(result))\n",
            " 12%|█▏        | 7/59 [00:02<00:14,  3.51it/s]/usr/local/lib/python3.10/dist-packages/sklearn/metrics/_classification.py:1344: UndefinedMetricWarning: Recall is ill-defined and being set to 0.0 due to no true samples. Use `zero_division` parameter to control this behavior.\n",
            "  _warn_prf(average, modifier, msg_start, len(result))\n",
            " 14%|█▎        | 8/59 [00:02<00:14,  3.55it/s]/usr/local/lib/python3.10/dist-packages/sklearn/metrics/_classification.py:1344: UndefinedMetricWarning: Recall is ill-defined and being set to 0.0 due to no true samples. Use `zero_division` parameter to control this behavior.\n",
            "  _warn_prf(average, modifier, msg_start, len(result))\n",
            " 15%|█▌        | 9/59 [00:02<00:14,  3.42it/s]/usr/local/lib/python3.10/dist-packages/sklearn/metrics/_classification.py:1344: UndefinedMetricWarning: Recall is ill-defined and being set to 0.0 due to no true samples. Use `zero_division` parameter to control this behavior.\n",
            "  _warn_prf(average, modifier, msg_start, len(result))\n",
            " 17%|█▋        | 10/59 [00:03<00:17,  2.79it/s]/usr/local/lib/python3.10/dist-packages/sklearn/metrics/_classification.py:1344: UndefinedMetricWarning: Recall is ill-defined and being set to 0.0 due to no true samples. Use `zero_division` parameter to control this behavior.\n",
            "  _warn_prf(average, modifier, msg_start, len(result))\n",
            " 19%|█▊        | 11/59 [00:03<00:19,  2.46it/s]/usr/local/lib/python3.10/dist-packages/sklearn/metrics/_classification.py:1344: UndefinedMetricWarning: Recall is ill-defined and being set to 0.0 due to no true samples. Use `zero_division` parameter to control this behavior.\n",
            "  _warn_prf(average, modifier, msg_start, len(result))\n",
            " 20%|██        | 12/59 [00:04<00:20,  2.25it/s]/usr/local/lib/python3.10/dist-packages/sklearn/metrics/_classification.py:1344: UndefinedMetricWarning: Recall is ill-defined and being set to 0.0 due to no true samples. Use `zero_division` parameter to control this behavior.\n",
            "  _warn_prf(average, modifier, msg_start, len(result))\n",
            " 22%|██▏       | 13/59 [00:04<00:21,  2.15it/s]/usr/local/lib/python3.10/dist-packages/sklearn/metrics/_classification.py:1344: UndefinedMetricWarning: Recall is ill-defined and being set to 0.0 due to no true samples. Use `zero_division` parameter to control this behavior.\n",
            "  _warn_prf(average, modifier, msg_start, len(result))\n",
            " 24%|██▎       | 14/59 [00:05<00:21,  2.09it/s]/usr/local/lib/python3.10/dist-packages/sklearn/metrics/_classification.py:1344: UndefinedMetricWarning: Recall is ill-defined and being set to 0.0 due to no true samples. Use `zero_division` parameter to control this behavior.\n",
            "  _warn_prf(average, modifier, msg_start, len(result))\n",
            " 25%|██▌       | 15/59 [00:05<00:21,  2.03it/s]/usr/local/lib/python3.10/dist-packages/sklearn/metrics/_classification.py:1344: UndefinedMetricWarning: Recall is ill-defined and being set to 0.0 due to no true samples. Use `zero_division` parameter to control this behavior.\n",
            "  _warn_prf(average, modifier, msg_start, len(result))\n",
            " 27%|██▋       | 16/59 [00:06<00:21,  2.00it/s]/usr/local/lib/python3.10/dist-packages/sklearn/metrics/_classification.py:1344: UndefinedMetricWarning: Recall is ill-defined and being set to 0.0 due to no true samples. Use `zero_division` parameter to control this behavior.\n",
            "  _warn_prf(average, modifier, msg_start, len(result))\n",
            " 29%|██▉       | 17/59 [00:06<00:19,  2.12it/s]/usr/local/lib/python3.10/dist-packages/sklearn/metrics/_classification.py:1344: UndefinedMetricWarning: Recall is ill-defined and being set to 0.0 due to no true samples. Use `zero_division` parameter to control this behavior.\n",
            "  _warn_prf(average, modifier, msg_start, len(result))\n",
            " 31%|███       | 18/59 [00:06<00:17,  2.41it/s]/usr/local/lib/python3.10/dist-packages/sklearn/metrics/_classification.py:1344: UndefinedMetricWarning: Recall is ill-defined and being set to 0.0 due to no true samples. Use `zero_division` parameter to control this behavior.\n",
            "  _warn_prf(average, modifier, msg_start, len(result))\n",
            " 32%|███▏      | 19/59 [00:07<00:14,  2.67it/s]/usr/local/lib/python3.10/dist-packages/sklearn/metrics/_classification.py:1344: UndefinedMetricWarning: Recall is ill-defined and being set to 0.0 due to no true samples. Use `zero_division` parameter to control this behavior.\n",
            "  _warn_prf(average, modifier, msg_start, len(result))\n",
            " 34%|███▍      | 20/59 [00:07<00:13,  2.87it/s]/usr/local/lib/python3.10/dist-packages/sklearn/metrics/_classification.py:1344: UndefinedMetricWarning: Recall is ill-defined and being set to 0.0 due to no true samples. Use `zero_division` parameter to control this behavior.\n",
            "  _warn_prf(average, modifier, msg_start, len(result))\n",
            " 36%|███▌      | 21/59 [00:07<00:12,  3.06it/s]/usr/local/lib/python3.10/dist-packages/sklearn/metrics/_classification.py:1344: UndefinedMetricWarning: Recall is ill-defined and being set to 0.0 due to no true samples. Use `zero_division` parameter to control this behavior.\n",
            "  _warn_prf(average, modifier, msg_start, len(result))\n",
            " 37%|███▋      | 22/59 [00:08<00:11,  3.16it/s]/usr/local/lib/python3.10/dist-packages/sklearn/metrics/_classification.py:1344: UndefinedMetricWarning: Recall is ill-defined and being set to 0.0 due to no true samples. Use `zero_division` parameter to control this behavior.\n",
            "  _warn_prf(average, modifier, msg_start, len(result))\n",
            " 39%|███▉      | 23/59 [00:08<00:11,  3.26it/s]/usr/local/lib/python3.10/dist-packages/sklearn/metrics/_classification.py:1344: UndefinedMetricWarning: Recall is ill-defined and being set to 0.0 due to no true samples. Use `zero_division` parameter to control this behavior.\n",
            "  _warn_prf(average, modifier, msg_start, len(result))\n",
            " 41%|████      | 24/59 [00:08<00:10,  3.31it/s]/usr/local/lib/python3.10/dist-packages/sklearn/metrics/_classification.py:1344: UndefinedMetricWarning: Recall is ill-defined and being set to 0.0 due to no true samples. Use `zero_division` parameter to control this behavior.\n",
            "  _warn_prf(average, modifier, msg_start, len(result))\n",
            " 42%|████▏     | 25/59 [00:08<00:10,  3.40it/s]/usr/local/lib/python3.10/dist-packages/sklearn/metrics/_classification.py:1344: UndefinedMetricWarning: Recall is ill-defined and being set to 0.0 due to no true samples. Use `zero_division` parameter to control this behavior.\n",
            "  _warn_prf(average, modifier, msg_start, len(result))\n",
            " 44%|████▍     | 26/59 [00:09<00:09,  3.40it/s]/usr/local/lib/python3.10/dist-packages/sklearn/metrics/_classification.py:1344: UndefinedMetricWarning: Recall is ill-defined and being set to 0.0 due to no true samples. Use `zero_division` parameter to control this behavior.\n",
            "  _warn_prf(average, modifier, msg_start, len(result))\n",
            " 46%|████▌     | 27/59 [00:09<00:09,  3.44it/s]/usr/local/lib/python3.10/dist-packages/sklearn/metrics/_classification.py:1344: UndefinedMetricWarning: Recall is ill-defined and being set to 0.0 due to no true samples. Use `zero_division` parameter to control this behavior.\n",
            "  _warn_prf(average, modifier, msg_start, len(result))\n",
            " 47%|████▋     | 28/59 [00:09<00:08,  3.48it/s]/usr/local/lib/python3.10/dist-packages/sklearn/metrics/_classification.py:1344: UndefinedMetricWarning: Recall is ill-defined and being set to 0.0 due to no true samples. Use `zero_division` parameter to control this behavior.\n",
            "  _warn_prf(average, modifier, msg_start, len(result))\n",
            " 49%|████▉     | 29/59 [00:10<00:08,  3.46it/s]/usr/local/lib/python3.10/dist-packages/sklearn/metrics/_classification.py:1344: UndefinedMetricWarning: Recall is ill-defined and being set to 0.0 due to no true samples. Use `zero_division` parameter to control this behavior.\n",
            "  _warn_prf(average, modifier, msg_start, len(result))\n",
            " 51%|█████     | 30/59 [00:10<00:08,  3.49it/s]/usr/local/lib/python3.10/dist-packages/sklearn/metrics/_classification.py:1344: UndefinedMetricWarning: Recall is ill-defined and being set to 0.0 due to no true samples. Use `zero_division` parameter to control this behavior.\n",
            "  _warn_prf(average, modifier, msg_start, len(result))\n",
            " 53%|█████▎    | 31/59 [00:10<00:08,  3.43it/s]/usr/local/lib/python3.10/dist-packages/sklearn/metrics/_classification.py:1344: UndefinedMetricWarning: Recall is ill-defined and being set to 0.0 due to no true samples. Use `zero_division` parameter to control this behavior.\n",
            "  _warn_prf(average, modifier, msg_start, len(result))\n",
            " 54%|█████▍    | 32/59 [00:10<00:07,  3.46it/s]/usr/local/lib/python3.10/dist-packages/sklearn/metrics/_classification.py:1344: UndefinedMetricWarning: Recall is ill-defined and being set to 0.0 due to no true samples. Use `zero_division` parameter to control this behavior.\n",
            "  _warn_prf(average, modifier, msg_start, len(result))\n",
            " 56%|█████▌    | 33/59 [00:11<00:07,  3.44it/s]/usr/local/lib/python3.10/dist-packages/sklearn/metrics/_classification.py:1344: UndefinedMetricWarning: Recall is ill-defined and being set to 0.0 due to no true samples. Use `zero_division` parameter to control this behavior.\n",
            "  _warn_prf(average, modifier, msg_start, len(result))\n",
            " 58%|█████▊    | 34/59 [00:11<00:07,  3.47it/s]/usr/local/lib/python3.10/dist-packages/sklearn/metrics/_classification.py:1344: UndefinedMetricWarning: Recall is ill-defined and being set to 0.0 due to no true samples. Use `zero_division` parameter to control this behavior.\n",
            "  _warn_prf(average, modifier, msg_start, len(result))\n",
            " 59%|█████▉    | 35/59 [00:11<00:06,  3.45it/s]/usr/local/lib/python3.10/dist-packages/sklearn/metrics/_classification.py:1344: UndefinedMetricWarning: Recall is ill-defined and being set to 0.0 due to no true samples. Use `zero_division` parameter to control this behavior.\n",
            "  _warn_prf(average, modifier, msg_start, len(result))\n",
            " 61%|██████    | 36/59 [00:12<00:06,  3.42it/s]/usr/local/lib/python3.10/dist-packages/sklearn/metrics/_classification.py:1344: UndefinedMetricWarning: Recall is ill-defined and being set to 0.0 due to no true samples. Use `zero_division` parameter to control this behavior.\n",
            "  _warn_prf(average, modifier, msg_start, len(result))\n",
            " 63%|██████▎   | 37/59 [00:12<00:06,  3.48it/s]/usr/local/lib/python3.10/dist-packages/sklearn/metrics/_classification.py:1344: UndefinedMetricWarning: Recall is ill-defined and being set to 0.0 due to no true samples. Use `zero_division` parameter to control this behavior.\n",
            "  _warn_prf(average, modifier, msg_start, len(result))\n",
            " 64%|██████▍   | 38/59 [00:12<00:05,  3.52it/s]/usr/local/lib/python3.10/dist-packages/sklearn/metrics/_classification.py:1344: UndefinedMetricWarning: Recall is ill-defined and being set to 0.0 due to no true samples. Use `zero_division` parameter to control this behavior.\n",
            "  _warn_prf(average, modifier, msg_start, len(result))\n",
            " 66%|██████▌   | 39/59 [00:12<00:05,  3.53it/s]/usr/local/lib/python3.10/dist-packages/sklearn/metrics/_classification.py:1344: UndefinedMetricWarning: Recall is ill-defined and being set to 0.0 due to no true samples. Use `zero_division` parameter to control this behavior.\n",
            "  _warn_prf(average, modifier, msg_start, len(result))\n",
            " 68%|██████▊   | 40/59 [00:13<00:05,  3.50it/s]/usr/local/lib/python3.10/dist-packages/sklearn/metrics/_classification.py:1344: UndefinedMetricWarning: Recall is ill-defined and being set to 0.0 due to no true samples. Use `zero_division` parameter to control this behavior.\n",
            "  _warn_prf(average, modifier, msg_start, len(result))\n",
            " 69%|██████▉   | 41/59 [00:13<00:05,  3.53it/s]/usr/local/lib/python3.10/dist-packages/sklearn/metrics/_classification.py:1344: UndefinedMetricWarning: Recall is ill-defined and being set to 0.0 due to no true samples. Use `zero_division` parameter to control this behavior.\n",
            "  _warn_prf(average, modifier, msg_start, len(result))\n",
            " 71%|███████   | 42/59 [00:13<00:04,  3.53it/s]/usr/local/lib/python3.10/dist-packages/sklearn/metrics/_classification.py:1344: UndefinedMetricWarning: Recall is ill-defined and being set to 0.0 due to no true samples. Use `zero_division` parameter to control this behavior.\n",
            "  _warn_prf(average, modifier, msg_start, len(result))\n",
            " 73%|███████▎  | 43/59 [00:14<00:04,  3.51it/s]/usr/local/lib/python3.10/dist-packages/sklearn/metrics/_classification.py:1344: UndefinedMetricWarning: Recall is ill-defined and being set to 0.0 due to no true samples. Use `zero_division` parameter to control this behavior.\n",
            "  _warn_prf(average, modifier, msg_start, len(result))\n",
            " 75%|███████▍  | 44/59 [00:14<00:04,  3.56it/s]/usr/local/lib/python3.10/dist-packages/sklearn/metrics/_classification.py:1344: UndefinedMetricWarning: Recall is ill-defined and being set to 0.0 due to no true samples. Use `zero_division` parameter to control this behavior.\n",
            "  _warn_prf(average, modifier, msg_start, len(result))\n",
            " 76%|███████▋  | 45/59 [00:14<00:03,  3.54it/s]/usr/local/lib/python3.10/dist-packages/sklearn/metrics/_classification.py:1344: UndefinedMetricWarning: Recall is ill-defined and being set to 0.0 due to no true samples. Use `zero_division` parameter to control this behavior.\n",
            "  _warn_prf(average, modifier, msg_start, len(result))\n",
            " 78%|███████▊  | 46/59 [00:14<00:03,  3.57it/s]/usr/local/lib/python3.10/dist-packages/sklearn/metrics/_classification.py:1344: UndefinedMetricWarning: Recall is ill-defined and being set to 0.0 due to no true samples. Use `zero_division` parameter to control this behavior.\n",
            "  _warn_prf(average, modifier, msg_start, len(result))\n",
            " 80%|███████▉  | 47/59 [00:15<00:03,  3.55it/s]/usr/local/lib/python3.10/dist-packages/sklearn/metrics/_classification.py:1344: UndefinedMetricWarning: Recall is ill-defined and being set to 0.0 due to no true samples. Use `zero_division` parameter to control this behavior.\n",
            "  _warn_prf(average, modifier, msg_start, len(result))\n",
            " 81%|████████▏ | 48/59 [00:15<00:03,  3.55it/s]/usr/local/lib/python3.10/dist-packages/sklearn/metrics/_classification.py:1344: UndefinedMetricWarning: Recall is ill-defined and being set to 0.0 due to no true samples. Use `zero_division` parameter to control this behavior.\n",
            "  _warn_prf(average, modifier, msg_start, len(result))\n",
            " 83%|████████▎ | 49/59 [00:15<00:02,  3.57it/s]/usr/local/lib/python3.10/dist-packages/sklearn/metrics/_classification.py:1344: UndefinedMetricWarning: Recall is ill-defined and being set to 0.0 due to no true samples. Use `zero_division` parameter to control this behavior.\n",
            "  _warn_prf(average, modifier, msg_start, len(result))\n",
            " 85%|████████▍ | 50/59 [00:16<00:02,  3.57it/s]/usr/local/lib/python3.10/dist-packages/sklearn/metrics/_classification.py:1344: UndefinedMetricWarning: Recall is ill-defined and being set to 0.0 due to no true samples. Use `zero_division` parameter to control this behavior.\n",
            "  _warn_prf(average, modifier, msg_start, len(result))\n",
            " 86%|████████▋ | 51/59 [00:16<00:02,  3.54it/s]/usr/local/lib/python3.10/dist-packages/sklearn/metrics/_classification.py:1344: UndefinedMetricWarning: Recall is ill-defined and being set to 0.0 due to no true samples. Use `zero_division` parameter to control this behavior.\n",
            "  _warn_prf(average, modifier, msg_start, len(result))\n",
            " 88%|████████▊ | 52/59 [00:16<00:02,  3.36it/s]/usr/local/lib/python3.10/dist-packages/sklearn/metrics/_classification.py:1344: UndefinedMetricWarning: Recall is ill-defined and being set to 0.0 due to no true samples. Use `zero_division` parameter to control this behavior.\n",
            "  _warn_prf(average, modifier, msg_start, len(result))\n",
            " 90%|████████▉ | 53/59 [00:17<00:02,  2.75it/s]/usr/local/lib/python3.10/dist-packages/sklearn/metrics/_classification.py:1344: UndefinedMetricWarning: Recall is ill-defined and being set to 0.0 due to no true samples. Use `zero_division` parameter to control this behavior.\n",
            "  _warn_prf(average, modifier, msg_start, len(result))\n",
            " 92%|█████████▏| 54/59 [00:17<00:02,  2.44it/s]/usr/local/lib/python3.10/dist-packages/sklearn/metrics/_classification.py:1344: UndefinedMetricWarning: Recall is ill-defined and being set to 0.0 due to no true samples. Use `zero_division` parameter to control this behavior.\n",
            "  _warn_prf(average, modifier, msg_start, len(result))\n",
            " 93%|█████████▎| 55/59 [00:18<00:01,  2.24it/s]/usr/local/lib/python3.10/dist-packages/sklearn/metrics/_classification.py:1344: UndefinedMetricWarning: Recall is ill-defined and being set to 0.0 due to no true samples. Use `zero_division` parameter to control this behavior.\n",
            "  _warn_prf(average, modifier, msg_start, len(result))\n",
            " 95%|█████████▍| 56/59 [00:18<00:01,  2.14it/s]/usr/local/lib/python3.10/dist-packages/sklearn/metrics/_classification.py:1344: UndefinedMetricWarning: Recall is ill-defined and being set to 0.0 due to no true samples. Use `zero_division` parameter to control this behavior.\n",
            "  _warn_prf(average, modifier, msg_start, len(result))\n",
            " 97%|█████████▋| 57/59 [00:19<00:00,  2.08it/s]/usr/local/lib/python3.10/dist-packages/sklearn/metrics/_classification.py:1344: UndefinedMetricWarning: Recall is ill-defined and being set to 0.0 due to no true samples. Use `zero_division` parameter to control this behavior.\n",
            "  _warn_prf(average, modifier, msg_start, len(result))\n",
            " 98%|█████████▊| 58/59 [00:19<00:00,  1.99it/s]/usr/local/lib/python3.10/dist-packages/sklearn/metrics/_classification.py:1344: UndefinedMetricWarning: Recall is ill-defined and being set to 0.0 due to no true samples. Use `zero_division` parameter to control this behavior.\n",
            "  _warn_prf(average, modifier, msg_start, len(result))\n",
            "100%|██████████| 59/59 [00:20<00:00,  2.91it/s]\n"
          ]
        }
      ]
    },
    {
      "cell_type": "code",
      "source": [
        "score = [s[1:] for s in score]"
      ],
      "metadata": {
        "id": "5xMB20pwgGN9"
      },
      "execution_count": null,
      "outputs": []
    },
    {
      "cell_type": "code",
      "source": [
        "mean_score = np.mean(score, axis=0)"
      ],
      "metadata": {
        "id": "JzRfpTNPgL-1"
      },
      "execution_count": null,
      "outputs": []
    },
    {
      "cell_type": "code",
      "source": [
        "print(f\"Accuracy: {mean_score[0]:0.5f}\")\n",
        "print(f\"F1: {mean_score[1]:0.5f}\")\n",
        "print(f\"Jaccard: {mean_score[2]:0.5f}\")\n",
        "print(f\"Recall: {mean_score[3]:0.5f}\")\n",
        "print(f\"Precision: {mean_score[4]:0.5f}\")"
      ],
      "metadata": {
        "colab": {
          "base_uri": "https://localhost:8080/"
        },
        "id": "GbiAv0dfgOqt",
        "outputId": "1ad02be7-f035-4180-ac5d-1cb35f6ad998"
      },
      "execution_count": null,
      "outputs": [
        {
          "output_type": "stream",
          "name": "stdout",
          "text": [
            "Accuracy: 0.98070\n",
            "F1: 0.00000\n",
            "Jaccard: 0.00000\n",
            "Recall: 0.00000\n",
            "Precision: 0.00000\n"
          ]
        }
      ]
    },
    {
      "cell_type": "code",
      "source": [
        "test_x = sorted(glob(os.path.join(\"/content/drive/MyDrive/unet/non-aug/test/\", \"images\", \"*\")))\n",
        "test_y = sorted(glob(os.path.join(\"/content/drive/MyDrive/unet/non-aug/test/\", \"masks\", \"*\")))"
      ],
      "metadata": {
        "id": "Y9CRBqqwgX12"
      },
      "execution_count": null,
      "outputs": []
    },
    {
      "cell_type": "code",
      "source": [
        "print(test_x, test_y)"
      ],
      "metadata": {
        "colab": {
          "base_uri": "https://localhost:8080/"
        },
        "id": "urS3FHWkgZNO",
        "outputId": "78a66096-49b1-447f-bfd0-00a7665a62b9"
      },
      "execution_count": null,
      "outputs": [
        {
          "output_type": "stream",
          "name": "stdout",
          "text": [
            "['/content/drive/MyDrive/unet/non-aug/test/images/ag_2400_0_jpg.rf.8abb7796498d0450a801f1ad07885c85.jpg', '/content/drive/MyDrive/unet/non-aug/test/images/bens_3200_2400_jpg.rf.a9265161a014b14c5c0ede5f47b13b64.jpg', '/content/drive/MyDrive/unet/non-aug/test/images/bens_3200_2400_jpg.rf.c1d8c75494173bbdb1e1212a3756838a.jpg', '/content/drive/MyDrive/unet/non-aug/test/images/bens_4000_3200_jpg.rf.9dc34ccee7bb0a446b7f1722868aa127.jpg', '/content/drive/MyDrive/unet/non-aug/test/images/bens_4000_3200_jpg.rf.a00e7edb2c992f01a5999edb1a43a6be.jpg', '/content/drive/MyDrive/unet/non-aug/test/images/chunk_4000_1600_jpg.rf.762a19e16631d6ae22e1f84a5ac8cfe0.jpg', '/content/drive/MyDrive/unet/non-aug/test/images/chunk_4000_1600_jpg.rf.d690974b15c712eea83a6b93f49f7e61.jpg', '/content/drive/MyDrive/unet/non-aug/test/images/chunk_4000_2400_jpg.rf.fe6477b0dd6019c27b1f47bcb06e4fe9.jpg', '/content/drive/MyDrive/unet/non-aug/test/images/chunk_4000_800_jpg.rf.df5fdd58ab54ec71e3ed724dab0726dd.jpg', '/content/drive/MyDrive/unet/non-aug/test/images/chunk_5600_5600_jpg.rf.8e84555a08ab9c7c1ba00fe13f7fe611.jpg', '/content/drive/MyDrive/unet/non-aug/test/images/chunk_5600_6400_jpg.rf.c23a2dac84e0389a892eebe59e828a0d.jpg', '/content/drive/MyDrive/unet/non-aug/test/images/chunk_6400_800_jpg.rf.652485e9559b2c4006425046e97bf509.jpg', '/content/drive/MyDrive/unet/non-aug/test/images/chunk_7200_8000_jpg.rf.158387d49b8835eaeba28ad5d06a09bc.jpg', '/content/drive/MyDrive/unet/non-aug/test/images/dakh_1600_800_jpg.rf.45a48c287a84b46c336a22ca11e75d5c.jpg', '/content/drive/MyDrive/unet/non-aug/test/images/dakh_1600_800_jpg.rf.8ab33d2351511cde5a0f11b4a7d655f8.jpg', '/content/drive/MyDrive/unet/non-aug/test/images/dakh_1600_800_jpg.rf.a79e1f28e2ee6aa2dc08f57d6e1f92ad.jpg', '/content/drive/MyDrive/unet/non-aug/test/images/err_800_0_jpg.rf.b365e3f38761c511d5a9138cfed5487e.jpg', '/content/drive/MyDrive/unet/non-aug/test/images/fes_6400_800_jpg.rf.5925c6e3710ab3896b94ef01c0062866.jpg', '/content/drive/MyDrive/unet/non-aug/test/images/fes_7200_800_jpg.rf.a6f1d8a5dd7c643e8264adc18bd85051.jpg', '/content/drive/MyDrive/unet/non-aug/test/images/kech_16800_24000_jpg.rf.5e36a294428f3d4d5cf45f8bc7237c54.jpg', '/content/drive/MyDrive/unet/non-aug/test/images/kech_18400_24000_jpg.rf.229a87110ff1832656d9c242f2df5acd.jpg', '/content/drive/MyDrive/unet/non-aug/test/images/kech_28000_2400_jpg.rf.1b0d29f2e0e6a1cd9f5f5ce9eb55cdc9.jpg', '/content/drive/MyDrive/unet/non-aug/test/images/kech_29600_4000_jpg.rf.b390d323c126fa9275c496ead9109c7c.jpg', '/content/drive/MyDrive/unet/non-aug/test/images/kech_32000_4000_jpg.rf.178b8c78db2c6e2d6603b9a4802a31a5.jpg', '/content/drive/MyDrive/unet/non-aug/test/images/kech_37600_8800_jpg.rf.edf004622d5aafff3c30fd2e6fcb8c93.jpg', '/content/drive/MyDrive/unet/non-aug/test/images/kech_38400_800_jpg.rf.c3035f614870db531183d3c5ba22ddcc.jpg', '/content/drive/MyDrive/unet/non-aug/test/images/kech_39200_10400_jpg.rf.01f00fc6fd138097bb3048ea7d32f6e3.jpg', '/content/drive/MyDrive/unet/non-aug/test/images/kech_41600_7200_jpg.rf.504752ceb339e3040ea6bd94cc1e6111.jpg', '/content/drive/MyDrive/unet/non-aug/test/images/kech_41600_7200_jpg.rf.88f1ff919d42e7b40c4349c06fafc0d4.jpg', '/content/drive/MyDrive/unet/non-aug/test/images/kech_46400_20000_jpg.rf.eb085bad2506998e5261851a77dc45bb.jpg', '/content/drive/MyDrive/unet/non-aug/test/images/kech_48000_24000_jpg.rf.3b0d60f69fe0c7d60744bfcc3366de2f.jpg', '/content/drive/MyDrive/unet/non-aug/test/images/kech_49600_24000_jpg.rf.419eb9a9ffb66e37e2ee5b95619441ad.jpg', '/content/drive/MyDrive/unet/non-aug/test/images/kech_49600_24800_jpg.rf.e639d985c49d93b293239cd16929bd41.jpg', '/content/drive/MyDrive/unet/non-aug/test/images/kech_50400_15200_jpg.rf.7d6dab0fa0195ae1fea3f3304fd3f3ba.jpg', '/content/drive/MyDrive/unet/non-aug/test/images/kech_50400_16800_jpg.rf.bd77165e8a2c94cbd3377147948cd1ec.jpg', '/content/drive/MyDrive/unet/non-aug/test/images/kech_50400_24000_jpg.rf.b234abb19b4423be3a9dcb34c3838ceb.jpg', '/content/drive/MyDrive/unet/non-aug/test/images/kech_51200_26400_jpg.rf.6c41cddefeb99fd32a8da4304d2538fb.jpg', '/content/drive/MyDrive/unet/non-aug/test/images/kech_52800_28800_jpg.rf.2d3ba629982c1dd4eaf01507f87819a6.jpg', '/content/drive/MyDrive/unet/non-aug/test/images/kech_52800_28800_jpg.rf.90418f6de86f600cc682c2b06ec08934.jpg', '/content/drive/MyDrive/unet/non-aug/test/images/kech_53600_27200_jpg.rf.fc12048e7af6bf34489718f8f12b9f70.jpg', '/content/drive/MyDrive/unet/non-aug/test/images/kech_54400_26400_jpg.rf.176052153a262f9d9a3f39a09961b190.jpg', '/content/drive/MyDrive/unet/non-aug/test/images/kech_58400_25600_jpg.rf.e326c79ebc3478d17fa94d2a8517d1c8.jpg', '/content/drive/MyDrive/unet/non-aug/test/images/kech_58400_26400_jpg.rf.91d56a3effd87aaeba58de7be1567073.jpg', '/content/drive/MyDrive/unet/non-aug/test/images/kech_58400_26400_jpg.rf.a942cf3bceb612e561145779ce579639.jpg', '/content/drive/MyDrive/unet/non-aug/test/images/kech_59200_24800_jpg.rf.8f971c4426e4452c606d67b881d00fa0.jpg', '/content/drive/MyDrive/unet/non-aug/test/images/kech_59200_24800_jpg.rf.d138ad5f1690e156048b32c3c18f5e49.jpg', '/content/drive/MyDrive/unet/non-aug/test/images/kech_59200_26400_jpg.rf.6bf7f5e2d7bc7f0c9e7156cfd8640a43.jpg', '/content/drive/MyDrive/unet/non-aug/test/images/ken_4000_3200_jpg.rf.fec7e05e3f308c65d302e061301c6be4.jpg', '/content/drive/MyDrive/unet/non-aug/test/images/ken_4800_3200_jpg.rf.5b86fd68dde56b59705a4a0e5204f626.jpg', '/content/drive/MyDrive/unet/non-aug/test/images/ken_6400_4000_jpg.rf.8bcd4fcde596d7d00b7248a690a751b7.jpg', '/content/drive/MyDrive/unet/non-aug/test/images/laay_1600_0_jpg.rf.5de9c7dda7c70d4817cc883a13182164.jpg', '/content/drive/MyDrive/unet/non-aug/test/images/nado_5600_800_jpg.rf.b1e4a90a41c284591c9d8c545f4d877b.jpg', '/content/drive/MyDrive/unet/non-aug/test/images/rbt_11200_1600_jpg.rf.22deb4fb943002a18e78fde43039e5e7.jpg', '/content/drive/MyDrive/unet/non-aug/test/images/rbt_1600_6400_jpg.rf.76554cbf24654d7e34db01fafd5433a2.jpg', '/content/drive/MyDrive/unet/non-aug/test/images/rbt_2400_5600_jpg.rf.aa6a5a3f10f98a74c15c37962761b0e4.jpg', '/content/drive/MyDrive/unet/non-aug/test/images/rbt_4800_9600_jpg.rf.bdc6eeb0c35165a3c40aa9aa8b333296.jpg', '/content/drive/MyDrive/unet/non-aug/test/images/rbt_6400_9600_jpg.rf.5788a21abffa3ee681658d87240c5cb0.jpg', '/content/drive/MyDrive/unet/non-aug/test/images/rbt_800_6400_jpg.rf.38d13b873c55f7f613611faf306cdf37.jpg', '/content/drive/MyDrive/unet/non-aug/test/images/rbt_800_7200_jpg.rf.5af308f9f5f3bec4876dcaec26202f8e.jpg'] ['/content/drive/MyDrive/unet/non-aug/test/masks/ag_2400_0_jpg.rf.8abb7796498d0450a801f1ad07885c85.jpg', '/content/drive/MyDrive/unet/non-aug/test/masks/bens_3200_2400_jpg.rf.a9265161a014b14c5c0ede5f47b13b64.jpg', '/content/drive/MyDrive/unet/non-aug/test/masks/bens_3200_2400_jpg.rf.c1d8c75494173bbdb1e1212a3756838a.jpg', '/content/drive/MyDrive/unet/non-aug/test/masks/bens_4000_3200_jpg.rf.9dc34ccee7bb0a446b7f1722868aa127.jpg', '/content/drive/MyDrive/unet/non-aug/test/masks/bens_4000_3200_jpg.rf.a00e7edb2c992f01a5999edb1a43a6be.jpg', '/content/drive/MyDrive/unet/non-aug/test/masks/chunk_4000_1600_jpg.rf.762a19e16631d6ae22e1f84a5ac8cfe0.jpg', '/content/drive/MyDrive/unet/non-aug/test/masks/chunk_4000_1600_jpg.rf.d690974b15c712eea83a6b93f49f7e61.jpg', '/content/drive/MyDrive/unet/non-aug/test/masks/chunk_4000_2400_jpg.rf.fe6477b0dd6019c27b1f47bcb06e4fe9.jpg', '/content/drive/MyDrive/unet/non-aug/test/masks/chunk_4000_800_jpg.rf.df5fdd58ab54ec71e3ed724dab0726dd.jpg', '/content/drive/MyDrive/unet/non-aug/test/masks/chunk_5600_5600_jpg.rf.8e84555a08ab9c7c1ba00fe13f7fe611.jpg', '/content/drive/MyDrive/unet/non-aug/test/masks/chunk_5600_6400_jpg.rf.c23a2dac84e0389a892eebe59e828a0d.jpg', '/content/drive/MyDrive/unet/non-aug/test/masks/chunk_6400_800_jpg.rf.652485e9559b2c4006425046e97bf509.jpg', '/content/drive/MyDrive/unet/non-aug/test/masks/chunk_7200_8000_jpg.rf.158387d49b8835eaeba28ad5d06a09bc.jpg', '/content/drive/MyDrive/unet/non-aug/test/masks/dakh_1600_800_jpg.rf.45a48c287a84b46c336a22ca11e75d5c.jpg', '/content/drive/MyDrive/unet/non-aug/test/masks/dakh_1600_800_jpg.rf.8ab33d2351511cde5a0f11b4a7d655f8.jpg', '/content/drive/MyDrive/unet/non-aug/test/masks/dakh_1600_800_jpg.rf.a79e1f28e2ee6aa2dc08f57d6e1f92ad.jpg', '/content/drive/MyDrive/unet/non-aug/test/masks/err_800_0_jpg.rf.b365e3f38761c511d5a9138cfed5487e.jpg', '/content/drive/MyDrive/unet/non-aug/test/masks/fes_6400_800_jpg.rf.5925c6e3710ab3896b94ef01c0062866.jpg', '/content/drive/MyDrive/unet/non-aug/test/masks/fes_7200_800_jpg.rf.a6f1d8a5dd7c643e8264adc18bd85051.jpg', '/content/drive/MyDrive/unet/non-aug/test/masks/kech_16800_24000_jpg.rf.5e36a294428f3d4d5cf45f8bc7237c54.jpg', '/content/drive/MyDrive/unet/non-aug/test/masks/kech_18400_24000_jpg.rf.229a87110ff1832656d9c242f2df5acd.jpg', '/content/drive/MyDrive/unet/non-aug/test/masks/kech_28000_2400_jpg.rf.1b0d29f2e0e6a1cd9f5f5ce9eb55cdc9.jpg', '/content/drive/MyDrive/unet/non-aug/test/masks/kech_29600_4000_jpg.rf.b390d323c126fa9275c496ead9109c7c.jpg', '/content/drive/MyDrive/unet/non-aug/test/masks/kech_32000_4000_jpg.rf.178b8c78db2c6e2d6603b9a4802a31a5.jpg', '/content/drive/MyDrive/unet/non-aug/test/masks/kech_37600_8800_jpg.rf.edf004622d5aafff3c30fd2e6fcb8c93.jpg', '/content/drive/MyDrive/unet/non-aug/test/masks/kech_38400_800_jpg.rf.c3035f614870db531183d3c5ba22ddcc.jpg', '/content/drive/MyDrive/unet/non-aug/test/masks/kech_39200_10400_jpg.rf.01f00fc6fd138097bb3048ea7d32f6e3.jpg', '/content/drive/MyDrive/unet/non-aug/test/masks/kech_41600_7200_jpg.rf.504752ceb339e3040ea6bd94cc1e6111.jpg', '/content/drive/MyDrive/unet/non-aug/test/masks/kech_41600_7200_jpg.rf.88f1ff919d42e7b40c4349c06fafc0d4.jpg', '/content/drive/MyDrive/unet/non-aug/test/masks/kech_46400_20000_jpg.rf.eb085bad2506998e5261851a77dc45bb.jpg', '/content/drive/MyDrive/unet/non-aug/test/masks/kech_48000_24000_jpg.rf.3b0d60f69fe0c7d60744bfcc3366de2f.jpg', '/content/drive/MyDrive/unet/non-aug/test/masks/kech_49600_24000_jpg.rf.419eb9a9ffb66e37e2ee5b95619441ad.jpg', '/content/drive/MyDrive/unet/non-aug/test/masks/kech_49600_24800_jpg.rf.e639d985c49d93b293239cd16929bd41.jpg', '/content/drive/MyDrive/unet/non-aug/test/masks/kech_50400_15200_jpg.rf.7d6dab0fa0195ae1fea3f3304fd3f3ba.jpg', '/content/drive/MyDrive/unet/non-aug/test/masks/kech_50400_16800_jpg.rf.bd77165e8a2c94cbd3377147948cd1ec.jpg', '/content/drive/MyDrive/unet/non-aug/test/masks/kech_50400_24000_jpg.rf.b234abb19b4423be3a9dcb34c3838ceb.jpg', '/content/drive/MyDrive/unet/non-aug/test/masks/kech_51200_26400_jpg.rf.6c41cddefeb99fd32a8da4304d2538fb.jpg', '/content/drive/MyDrive/unet/non-aug/test/masks/kech_52800_28800_jpg.rf.2d3ba629982c1dd4eaf01507f87819a6.jpg', '/content/drive/MyDrive/unet/non-aug/test/masks/kech_52800_28800_jpg.rf.90418f6de86f600cc682c2b06ec08934.jpg', '/content/drive/MyDrive/unet/non-aug/test/masks/kech_53600_27200_jpg.rf.fc12048e7af6bf34489718f8f12b9f70.jpg', '/content/drive/MyDrive/unet/non-aug/test/masks/kech_54400_26400_jpg.rf.176052153a262f9d9a3f39a09961b190.jpg', '/content/drive/MyDrive/unet/non-aug/test/masks/kech_58400_25600_jpg.rf.e326c79ebc3478d17fa94d2a8517d1c8.jpg', '/content/drive/MyDrive/unet/non-aug/test/masks/kech_58400_26400_jpg.rf.91d56a3effd87aaeba58de7be1567073.jpg', '/content/drive/MyDrive/unet/non-aug/test/masks/kech_58400_26400_jpg.rf.a942cf3bceb612e561145779ce579639.jpg', '/content/drive/MyDrive/unet/non-aug/test/masks/kech_59200_24800_jpg.rf.8f971c4426e4452c606d67b881d00fa0.jpg', '/content/drive/MyDrive/unet/non-aug/test/masks/kech_59200_24800_jpg.rf.d138ad5f1690e156048b32c3c18f5e49.jpg', '/content/drive/MyDrive/unet/non-aug/test/masks/kech_59200_26400_jpg.rf.6bf7f5e2d7bc7f0c9e7156cfd8640a43.jpg', '/content/drive/MyDrive/unet/non-aug/test/masks/ken_4000_3200_jpg.rf.fec7e05e3f308c65d302e061301c6be4.jpg', '/content/drive/MyDrive/unet/non-aug/test/masks/ken_4800_3200_jpg.rf.5b86fd68dde56b59705a4a0e5204f626.jpg', '/content/drive/MyDrive/unet/non-aug/test/masks/ken_6400_4000_jpg.rf.8bcd4fcde596d7d00b7248a690a751b7.jpg', '/content/drive/MyDrive/unet/non-aug/test/masks/laay_1600_0_jpg.rf.5de9c7dda7c70d4817cc883a13182164.jpg', '/content/drive/MyDrive/unet/non-aug/test/masks/nado_5600_800_jpg.rf.b1e4a90a41c284591c9d8c545f4d877b.jpg', '/content/drive/MyDrive/unet/non-aug/test/masks/rbt_11200_1600_jpg.rf.22deb4fb943002a18e78fde43039e5e7.jpg', '/content/drive/MyDrive/unet/non-aug/test/masks/rbt_1600_6400_jpg.rf.76554cbf24654d7e34db01fafd5433a2.jpg', '/content/drive/MyDrive/unet/non-aug/test/masks/rbt_2400_5600_jpg.rf.aa6a5a3f10f98a74c15c37962761b0e4.jpg', '/content/drive/MyDrive/unet/non-aug/test/masks/rbt_4800_9600_jpg.rf.bdc6eeb0c35165a3c40aa9aa8b333296.jpg', '/content/drive/MyDrive/unet/non-aug/test/masks/rbt_6400_9600_jpg.rf.5788a21abffa3ee681658d87240c5cb0.jpg', '/content/drive/MyDrive/unet/non-aug/test/masks/rbt_800_6400_jpg.rf.38d13b873c55f7f613611faf306cdf37.jpg', '/content/drive/MyDrive/unet/non-aug/test/masks/rbt_800_7200_jpg.rf.5af308f9f5f3bec4876dcaec26202f8e.jpg']\n"
          ]
        }
      ]
    },
    {
      "cell_type": "code",
      "source": [
        "pred_mask = sorted(glob(os.path.join(\"/content/drive/MyDrive/airplane/predout\", \"*\")))\n",
        "true_mask = sorted(glob(os.path.join(\"test\", \"masks\", \"*\")))"
      ],
      "metadata": {
        "id": "zMmpZC1ognGl"
      },
      "execution_count": null,
      "outputs": []
    },
    {
      "cell_type": "code",
      "source": [
        "test_x = sorted(glob(os.path.join(\"/content/drive/MyDrive/unet/non-aug/test\", \"images\", \"*\")))\n",
        "test_y = sorted(glob(os.path.join(\"/content/drive/MyDrive/unet/non-aug/test\", \"masks\", \"*\")))"
      ],
      "metadata": {
        "id": "hy-E6wNAl7LR"
      },
      "execution_count": null,
      "outputs": []
    },
    {
      "cell_type": "code",
      "source": [
        "print(test_x[0], test_y[0])"
      ],
      "metadata": {
        "colab": {
          "base_uri": "https://localhost:8080/"
        },
        "id": "bZy3NyKBmB_5",
        "outputId": "cecc4a96-e3c3-4735-fd33-322719ce8a94"
      },
      "execution_count": null,
      "outputs": [
        {
          "output_type": "stream",
          "name": "stdout",
          "text": [
            "/content/drive/MyDrive/unet/non-aug/test/images/ag_2400_0_jpg.rf.8abb7796498d0450a801f1ad07885c85.jpg /content/drive/MyDrive/unet/non-aug/test/masks/ag_2400_0_jpg.rf.8abb7796498d0450a801f1ad07885c85.jpg\n"
          ]
        }
      ]
    },
    {
      "cell_type": "code",
      "source": [
        "pred_non_aug = sorted(glob(os.path.join(\"/content/drive/MyDrive/airplane/predout\", \"/content/drive/MyDrive/unet/non-aug\", \"*\")))\n"
      ],
      "metadata": {
        "id": "e3ew_EDZmGK-"
      },
      "execution_count": null,
      "outputs": []
    },
    {
      "cell_type": "code",
      "source": [
        "print(pred_non_aug[0])"
      ],
      "metadata": {
        "colab": {
          "base_uri": "https://localhost:8080/"
        },
        "id": "ACwBjkDNmHo6",
        "outputId": "4201298a-3571-4c11-9292-b19f9f123d87"
      },
      "execution_count": null,
      "outputs": [
        {
          "output_type": "stream",
          "name": "stdout",
          "text": [
            "/content/drive/MyDrive/unet/non-aug/test\n"
          ]
        }
      ]
    },
    {
      "cell_type": "code",
      "source": [
        "def create_dir(path):\n",
        "    if not os.path.exists(path):\n",
        "        os.makedirs(path)"
      ],
      "metadata": {
        "id": "yOv8gKwTmU5N"
      },
      "execution_count": null,
      "outputs": []
    },
    {
      "cell_type": "code",
      "source": [
        "create_dir(\"/content/drive/MyDrive/UnetAirplane/results\")"
      ],
      "metadata": {
        "id": "ml0x7hpimYMB"
      },
      "execution_count": null,
      "outputs": []
    }
  ]
}